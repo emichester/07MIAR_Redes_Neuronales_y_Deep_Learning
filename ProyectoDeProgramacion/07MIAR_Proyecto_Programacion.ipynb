{
  "nbformat": 4,
  "nbformat_minor": 0,
  "metadata": {
    "kernelspec": {
      "name": "python3",
      "display_name": "Python 3"
    },
    "language_info": {
      "codemirror_mode": {
        "name": "ipython",
        "version": 3
      },
      "file_extension": ".py",
      "mimetype": "text/x-python",
      "name": "python",
      "nbconvert_exporter": "python",
      "pygments_lexer": "ipython3",
      "version": "3.6.5"
    },
    "colab": {
      "provenance": [],
      "toc_visible": true,
      "gpuType": "T4",
      "include_colab_link": true
    },
    "accelerator": "GPU"
  },
  "cells": [
    {
      "cell_type": "markdown",
      "metadata": {
        "id": "view-in-github",
        "colab_type": "text"
      },
      "source": [
        "<a href=\"https://colab.research.google.com/github/emichester/07MIAR_Redes_Neuronales_y_Deep_Learning/blob/main/ProyectoDeProgramacion/07MIAR_Proyecto_Programacion.ipynb\" target=\"_parent\"><img src=\"https://colab.research.google.com/assets/colab-badge.svg\" alt=\"Open In Colab\"/></a>"
      ]
    },
    {
      "cell_type": "markdown",
      "source": [
        "Integrantes del grupo:\n",
        "- [Emilio Jesús Hernández Salas](mailto:emiliohersal@gmail.com)\n",
        "- [Inés Mari Rivero](i.mari.rivero@gmail.com)\n",
        "- [Ignacio Guerra Sevillano](iguerrasevillano@gmail.com)"
      ],
      "metadata": {
        "id": "Js2aYp30Njwd"
      }
    },
    {
      "cell_type": "markdown",
      "metadata": {
        "id": "BhWjErKXWMTl"
      },
      "source": [
        "# 07MIAR - Redes Neuronales y Deep Learning: Proyecto de programación \"*Deep Vision in classification tasks*\"\n"
      ]
    },
    {
      "cell_type": "markdown",
      "metadata": {
        "id": "0UaQ9WZtvsHc"
      },
      "source": [
        "## Enunciado\n",
        "\n",
        "En esta actividad, el alumno debe **evaluar y comparar dos estrategias** para la **clasificación de imágenes** empleando el **dataset asignado**. Los alumnos deberá resolver el reto proponiendo una solución válida **basada en aprendizaje profundo**, más concretamente en redes neuronales convolucionales (**CNNs**). Será indispensable que la solución propuesta siga el **pipeline visto en clase** para resolver este tipo de tareas de inteligencia artificial:\n",
        "\n",
        "1.   **Carga** del conjunto de datos\n",
        "2.   **Inspección** del conjunto de datos\n",
        "3.   **Acondicionamiento** del conjunto de datos\n",
        "4.   Desarrollo de la **arquitectura** de red neuronal y **entrenamiento** de la solución\n",
        "5.   **Monitorización** del proceso de **entrenamiento** para la toma de decisiones\n",
        "6.   **Evaluación** del modelo predictivo y planteamiento de la siguiente prueba experimental\n",
        "\n",
        "### Estrategia 1: Entrenar desde cero o *from scratch*\n",
        "\n",
        "La primera estrategia a comparar será una **red neuronal profunda** que el **alumno debe diseñar, entrenar y optimizar**. Se debe **justificar empíricamente** las decisiones que llevaron a la selección de la **arquitectura e hiperparámetros final**. Se espera que el alumno utilice todas las **técnicas de regularización** mostradas en clase de forma justificada para la mejora del rendimiento de la red neuronal (*weight regularization*, *dropout*, *batch normalization*, *data augmentation*, etc.).\n",
        "\n",
        "### Estrategia 2: Red pre-entrenada\n",
        "\n",
        "La segunda estrategia a comparar debe incluir la utilización de una **red preentrenada** con el dataset ImageNet, llevando a cabo tareas de ***transfer learning*** y ***fine-tuning*** para resolver la tarea de clasificación asignada. Deben **compararse al menos dos tipos de arquitecturas** (VGGs, ResNet50, Xception, InceptionV3, InceptionResNetV2, MobileNetV2, DenseNet, ResNet) y se debe **seleccionar la que mayor precisión proporcione** (información sobre las arquitecturas disponibles en https://keras.io/applications/). Se espera el uso de todas las **técnicas de regularización** mostradas en clase de forma justificada para la mejora del rendimiento de la red neuronal (*weight regularization*, *dropout*, *batch normalization*, *data augmentation*, etc.)."
      ]
    },
    {
      "cell_type": "markdown",
      "metadata": {
        "id": "CVz2aVIZvS2B"
      },
      "source": [
        "## Normas a seguir\n",
        "\n",
        "- Será **indispensable** realizar el **trabajo por parejas**. Dichas parejas de alumnxs se generarán **de manera automática** teniendo en cuenta el pais de residencia con el objetivo de facilitar el trabajo en equipo.  \n",
        "- Se debe entregar un **ÚNICO FICHERO PDF POR ALUMNO** que incluya las instrucciones presentes en el Colab Noteboook y su **EJECUCIÓN!!!**. Debe aparecer todo el proceso llevado a cabo en cada estrategia (i.e. carga de datos, inspección de datos, acondicionamiento, proceso de entrenamiento y proceso de validación del modelo).\n",
        "- **La memoria del trabajo** (el fichero PDF mencionado en el punto anterior) deberá **subirla cada integrante del grupo** (aunque se trate de un documento idéntico) a la actividad que se habilitará **en CampusVIU**.\n",
        "- Se recomienda trabajar respecto a un directorio base (**BASE_FOLDER**) para facilitar el trabajo en equipo. En este notebook se incluye un ejemplo de cómo almacenar/cargar datos utilizando un directorio base.\n",
        "- Las **redes propuestas** deben estar **entrenadas** (y **EVIDENCIAR este proceso en el documento PDF**). La entrega de una **red sin entrenar** supondrá **perdida de puntos**.\n",
        "- Si se desea **evidenciar alguna métrica** del proceso de entrenamiento (precisión, pérdida, etc.), estas deben ser generadas.\n",
        "- Todos los **gráficos** que se deseen mostrar deberán **generarse en el Colab Notebook** para que tras la conversión aparezcan en el documento PDF."
      ]
    },
    {
      "cell_type": "markdown",
      "metadata": {
        "id": "ntrBAVEVvSll"
      },
      "source": [
        "## *Tips* para realizar la actividad con éxito\n",
        "- Los **datos** se cargarán directamente **desde** la plataforma **Kaggle** mediante su API (https://github.com/Kaggle/kaggle-api). En este Notebook se incluye un ejemplo de como hacerlo. Se recomienda generar una función que aborde esta tarea.\n",
        "- El **documento PDF a entregar** como solución de la actividad se debe **generar automáticamente desde el fichero \".ipynb\"**. En este Notebook se incluye un ejemplo de como hacerlo.\n",
        "- **Generar secciones y subsecciones en el Colab Notebook** supondrá que el documento **PDF generado** queda totalmente **ordenado** facilitando la evaluación al docente.\n",
        "- Se recomienda encarecidamente **incluir comentarios concisos pero aclaratorios**.\n",
        "- Es muy recomendable crear una **última sección** de texto en el Colab Notebook en la que se discutan los diferentes modelos obtenidos y se extraigan las conclusiones pertinentes."
      ]
    },
    {
      "cell_type": "markdown",
      "metadata": {
        "id": "QmOS3kVAvedI"
      },
      "source": [
        "## Criterios de evaluación\n",
        "\n",
        "- **Seguimiento** de las **normas establecidas** en la actividad (detalladas anteriormente).\n",
        "- Creación de una **solución que resuelva la tarea de clasificación**, i.e. que las figuras de mérito empleadas para medir la bondad del modelo predictivo evidencien un *performance* superior al rendimiento estocástico.\n",
        "- **Claridad** en la creación de la solución, en las justificaciones sobre la toma de decisiones llevada a cabo así como en las comparativas y conclusiones finales.\n",
        "- **Efectividad** al presentar las comparaciones entre métricas de evaluación de ambas estrategias.\n",
        "- **Demostración** de la utilización de **técnicas de regularización** para mejorar el rendimiento de los modelos."
      ]
    },
    {
      "cell_type": "markdown",
      "metadata": {
        "id": "rsjwH-1-1UrM"
      },
      "source": [
        "## Descarga de datos desde la plataforma Kaggle"
      ]
    },
    {
      "cell_type": "code",
      "metadata": {
        "id": "VvfvLCKj4Ssf"
      },
      "source": [
        "# En primer lugar se debe generar un API de Kaggle personal, para ello:\n",
        "#  1. Registrarse en  https://www.kaggle.com\n",
        "#  2. Ir a 'Account tab' de tu perfil y seleccionar 'Create API Token'\n",
        "#  3. Almacenar en tu ordenador local el fichero kaggle.json"
      ],
      "execution_count": null,
      "outputs": []
    },
    {
      "cell_type": "markdown",
      "source": [
        "**Montamos drive y generamos el BASE_PATH**"
      ],
      "metadata": {
        "id": "HbFM3Hf3Tnqt"
      }
    },
    {
      "cell_type": "code",
      "source": [
        "1+1"
      ],
      "metadata": {
        "id": "GsEMmW0oaAgg",
        "outputId": "3aeda4b1-df12-44da-f6fb-1f5f653ac82b",
        "colab": {
          "base_uri": "https://localhost:8080/"
        }
      },
      "execution_count": null,
      "outputs": [
        {
          "output_type": "execute_result",
          "data": {
            "text/plain": [
              "2"
            ]
          },
          "metadata": {},
          "execution_count": 1
        }
      ]
    },
    {
      "cell_type": "code",
      "source": [
        "# SOLO PARA USO EN GOOGLE COLABORATORY\n",
        "# Para conectar el notebook con la cuenta de gdrive\n",
        "from google.colab import drive\n",
        "drive.mount('/content/drive/')"
      ],
      "metadata": {
        "colab": {
          "base_uri": "https://localhost:8080/"
        },
        "id": "tci-1GWXOq2f",
        "outputId": "a4ace8ae-2920-4a58-f95e-94492bcb58cf"
      },
      "execution_count": null,
      "outputs": [
        {
          "output_type": "stream",
          "name": "stdout",
          "text": [
            "Mounted at /content/drive/\n"
          ]
        }
      ]
    },
    {
      "cell_type": "code",
      "source": [
        "# BASE_PATH = \"/content/drive/My Drive/ASIGNATURAS/VIU/07MIAR_Redes_Neuronales_y_Deep_Learning/ProyectoProgramacionFinal\"\n",
        "BASE_PATH = \"/content/\""
      ],
      "metadata": {
        "id": "8xIQV0rQObU9"
      },
      "execution_count": 1,
      "outputs": []
    },
    {
      "cell_type": "code",
      "source": [
        "%cd /content/drive/My Drive/ASIGNATURAS/VIU/07MIAR_Redes_Neuronales_y_Deep_Learning/ProyectoProgramacionFinal"
      ],
      "metadata": {
        "id": "wyVaAHh_ahc8",
        "outputId": "05db9ed3-8535-4946-c99a-8844732a6fdd",
        "colab": {
          "base_uri": "https://localhost:8080/"
        }
      },
      "execution_count": null,
      "outputs": [
        {
          "output_type": "stream",
          "name": "stdout",
          "text": [
            "/content/drive/My Drive/ASIGNATURAS/VIU/07MIAR_Redes_Neuronales_y_Deep_Learning/ProyectoProgramacionFinal\n"
          ]
        }
      ]
    },
    {
      "cell_type": "code",
      "source": [
        "import os\n",
        "os.chdir(BASE_PATH)"
      ],
      "metadata": {
        "id": "NPJqlA1uPOyg"
      },
      "execution_count": null,
      "outputs": []
    },
    {
      "cell_type": "code",
      "source": [
        "%ls"
      ],
      "metadata": {
        "colab": {
          "base_uri": "https://localhost:8080/"
        },
        "id": "B7uJco0qPTO7",
        "outputId": "ad69a4ec-1712-4c86-90ed-637d78bffaf6"
      },
      "execution_count": 2,
      "outputs": [
        {
          "output_type": "stream",
          "name": "stdout",
          "text": [
            "\u001b[0m\u001b[01;34msample_data\u001b[0m/\n"
          ]
        }
      ]
    },
    {
      "cell_type": "markdown",
      "source": [
        "**Instalación de la API de kaggle y otras operaciones**"
      ],
      "metadata": {
        "id": "E-U7aldiUVac"
      }
    },
    {
      "cell_type": "code",
      "metadata": {
        "colab": {
          "base_uri": "https://localhost:8080/"
        },
        "id": "nzLOIF-z3ssK",
        "outputId": "b36f52ea-6e7c-4799-c45b-3bcbe2d6f78a"
      },
      "source": [
        "# Nos aseguramos que tenemos instalada la última versión de la API de Kaggle en Colab\n",
        "!pip install --upgrade --force-reinstall --no-deps kaggle"
      ],
      "execution_count": 3,
      "outputs": [
        {
          "output_type": "stream",
          "name": "stdout",
          "text": [
            "Collecting kaggle\n",
            "  Downloading kaggle-1.5.16.tar.gz (83 kB)\n",
            "\u001b[?25l     \u001b[90m━━━━━━━━━━━━━━━━━━━━━━━━━━━━━━━━━━━━━━━━\u001b[0m \u001b[32m0.0/83.6 kB\u001b[0m \u001b[31m?\u001b[0m eta \u001b[36m-:--:--\u001b[0m\r\u001b[2K     \u001b[90m━━━━━━━━━━━━━━━━━━━━━━━━━━━━━━━━━━━━━━━━\u001b[0m \u001b[32m83.6/83.6 kB\u001b[0m \u001b[31m2.5 MB/s\u001b[0m eta \u001b[36m0:00:00\u001b[0m\n",
            "\u001b[?25h  Preparing metadata (setup.py) ... \u001b[?25l\u001b[?25hdone\n",
            "Building wheels for collected packages: kaggle\n",
            "  Building wheel for kaggle (setup.py) ... \u001b[?25l\u001b[?25hdone\n",
            "  Created wheel for kaggle: filename=kaggle-1.5.16-py3-none-any.whl size=110683 sha256=ca22ad6d10cb677bda94aef6dda7be25ed0b111efb783d5517aece7ab8a3c726\n",
            "  Stored in directory: /root/.cache/pip/wheels/43/4b/fb/736478af5e8004810081a06259f9aa2f7c3329fc5d03c2c412\n",
            "Successfully built kaggle\n",
            "Installing collected packages: kaggle\n",
            "  Attempting uninstall: kaggle\n",
            "    Found existing installation: kaggle 1.5.16\n",
            "    Uninstalling kaggle-1.5.16:\n",
            "      Successfully uninstalled kaggle-1.5.16\n",
            "Successfully installed kaggle-1.5.16\n"
          ]
        }
      ]
    },
    {
      "cell_type": "code",
      "metadata": {
        "id": "Jsc1WV7w2YEv"
      },
      "source": [
        "# %%capture\n",
        "# # Seleccionar el API Token personal previamente descargado (fichero kaggle.json)\n",
        "# from google.colab import files\n",
        "# files.upload()"
      ],
      "execution_count": null,
      "outputs": []
    },
    {
      "cell_type": "code",
      "metadata": {
        "id": "6lmdYW2d3q2x"
      },
      "source": [
        "# Creamos un directorio en el que copiamos el fichero kaggle.json\n",
        "!mkdir ~/.kaggle\n",
        "!cp kaggle.json ~/.kaggle/\n",
        "!chmod 600 ~/.kaggle/kaggle.json"
      ],
      "execution_count": 6,
      "outputs": []
    },
    {
      "cell_type": "code",
      "metadata": {
        "colab": {
          "base_uri": "https://localhost:8080/"
        },
        "id": "RNyIjfP54DDy",
        "outputId": "3f57cec1-0392-4ea5-bdbf-7c8302e5894a"
      },
      "source": [
        "# Ya podemos listar los datasets disponibles en kaggle para su descarga\n",
        "!kaggle datasets list"
      ],
      "execution_count": 7,
      "outputs": [
        {
          "output_type": "stream",
          "name": "stdout",
          "text": [
            "ref                                                                title                                            size  lastUpdated          downloadCount  voteCount  usabilityRating  \n",
            "-----------------------------------------------------------------  ----------------------------------------------  -----  -------------------  -------------  ---------  ---------------  \n",
            "nelgiriyewithana/top-spotify-songs-2023                            Most Streamed Spotify Songs 2023                 47KB  2023-08-26 11:04:57          24598        751  1.0              \n",
            "aemyjutt/laptop-price-analysis                                     Laptop_Price_Analysis                            21KB  2023-10-02 07:46:46            734         24  1.0              \n",
            "iamsouravbanerjee/customer-shopping-trends-dataset                 Customer Shopping Trends Dataset                146KB  2023-10-05 06:45:37           1314         38  1.0              \n",
            "nelgiriyewithana/credit-card-fraud-detection-dataset-2023          Credit Card Fraud Detection Dataset 2023        143MB  2023-09-18 10:00:19           3521        118  1.0              \n",
            "joebeachcapital/students-performance                               Students Performance                              2KB  2023-08-31 00:50:11           8945        205  1.0              \n",
            "krzysztofjamroz/apartment-prices-in-poland                         Apartment Prices in Poland                        3MB  2023-10-02 12:32:00            568         21  0.88235295       \n",
            "nelgiriyewithana/billionaires-statistics-dataset                   Billionaires Statistics Dataset (2023)          139KB  2023-09-29 13:39:28           1295         45  1.0              \n",
            "mohamedyosef101/economic-growth-and-unemployment-rate              Economic growth and unemployment rate            412B  2023-09-26 14:39:50            710         31  1.0              \n",
            "peachji/credit-card-dataset                                        Credit card dataset                              30MB  2023-09-30 22:00:58            731         25  0.88235295       \n",
            "aemyjutt/indianhousesdataanalysis                                  IndianHousesDataAnalysis                        395KB  2023-09-18 07:16:53            968         32  1.0              \n",
            "fortuneuwha/world-instant-noodles-consumption-2022                 World Instant Noodles Consumption 2022            2KB  2023-10-02 17:06:28            748         24  1.0              \n",
            "willianoliveiragibin/diabetesdataanslysis                          diabetesDataAnslysis                              9KB  2023-09-27 19:54:22            916         25  1.0              \n",
            "asaniczka/amazon-products-dataset-2023-1-4m-products               Amazon Products Dataset 2023 (1.4M Products)     99MB  2023-09-30 10:44:48            680         31  1.0              \n",
            "iamsouravbanerjee/heart-attack-prediction-dataset                  Heart Attack Risk Prediction Dataset            519KB  2023-09-27 07:07:50           1452         46  1.0              \n",
            "sujaykapadnis/top-100-billboard                                    Top 100 Billboard                                27MB  2023-09-25 08:29:40            705         30  1.0              \n",
            "willianoliveiragibin/world-gdp-by-country-region-and-income-group  World GDP by Country, Region, and Income Group  108KB  2023-09-26 19:38:45            487         22  1.0              \n",
            "iamsouravbanerjee/airline-dataset                                  Airline Dataset                                  13MB  2023-09-26 01:01:28           8575        170  1.0              \n",
            "carlmcbrideellis/zzzs-lightweight-training-dataset-target          Zzzs: Lightweight training dataset + target     185MB  2023-09-20 19:52:40            847         84  1.0              \n",
            "imtkaggleteam/clinical-dataset                                     Clinical Dataset                                 16KB  2023-10-05 12:11:12            233         35  1.0              \n",
            "scarfsman/uk-inflation-data-1989-2022                              UK Inflation Data 1989-2022                       3KB  2023-09-11 12:36:13            944         33  1.0              \n"
          ]
        }
      ]
    },
    {
      "cell_type": "markdown",
      "source": [
        "**Descarga del dataset**"
      ],
      "metadata": {
        "id": "sVZDjmjDUZp8"
      }
    },
    {
      "cell_type": "code",
      "metadata": {
        "colab": {
          "base_uri": "https://localhost:8080/"
        },
        "id": "fjXqIvxR4FUR",
        "outputId": "b0c3f3f2-c859-412f-b8de-dd0a199f5244"
      },
      "source": [
        "# IMPORTANTE ANTES DE DESCARGAR UN DATASET !!!\n",
        "# Antes de descargar el dataset debemos ir a https://www.kaggle.com/c/$nameCompetition/data y aceptar las \"Competition Rules\"\n",
        "# En caso de no realizar el paso anterior al descargar el dataset obtenedremos el siguiente mensaje \"403 - Forbidden\"\n",
        "# AHORA SI: Descarguemos un dataset de cierta competición\n",
        "# !kaggle competitions download -c dogs-vs-cats-redux-kernels-edition\n",
        "!kaggle datasets download -d gpiosenka/100-bird-species\n",
        "\n",
        "#NOTA: El nombre del dataset de competición a descargar se informará en el documento en el que se presenten las parejas formadas"
      ],
      "execution_count": 8,
      "outputs": [
        {
          "output_type": "stream",
          "name": "stdout",
          "text": [
            "Downloading 100-bird-species.zip to /content\n",
            "100% 1.95G/1.96G [00:59<00:00, 41.5MB/s]\n",
            "100% 1.96G/1.96G [00:59<00:00, 35.1MB/s]\n"
          ]
        }
      ]
    },
    {
      "cell_type": "code",
      "source": [
        "%ls"
      ],
      "metadata": {
        "colab": {
          "base_uri": "https://localhost:8080/"
        },
        "id": "9OMcgcwjQc8Q",
        "outputId": "3a710a64-eae7-4299-c0ac-aa6a9fca5844"
      },
      "execution_count": 9,
      "outputs": [
        {
          "output_type": "stream",
          "name": "stdout",
          "text": [
            "100-bird-species.zip  kaggle.json  \u001b[0m\u001b[01;34msample_data\u001b[0m/\n"
          ]
        }
      ]
    },
    {
      "cell_type": "code",
      "metadata": {
        "id": "YEFVzbHe4LgO"
      },
      "source": [
        "# Creemos un directorio para descomprimir los datos\n",
        "!mkdir my_dataset"
      ],
      "execution_count": 10,
      "outputs": []
    },
    {
      "cell_type": "code",
      "metadata": {
        "id": "o9rZm0Oq4NTD"
      },
      "source": [
        "# Descomprimimos los datos y los dejamos listos para trabajar\n",
        "# !unzip dogs-vs-cats-redux-kernels-edition.zip -d my_dataset\n",
        "!unzip -o -q 100-bird-species.zip -d my_dataset"
      ],
      "execution_count": null,
      "outputs": []
    },
    {
      "cell_type": "code",
      "source": [
        "# drive.flush_and_unmount()"
      ],
      "metadata": {
        "id": "6jCYax2o9rtL"
      },
      "execution_count": null,
      "outputs": []
    },
    {
      "cell_type": "code",
      "source": [
        "%ls my_dataset/"
      ],
      "metadata": {
        "colab": {
          "base_uri": "https://localhost:8080/"
        },
        "id": "o_klC5tfUdmM",
        "outputId": "7b294638-5d4e-468e-e344-f499feae1b43"
      },
      "execution_count": 12,
      "outputs": [
        {
          "output_type": "stream",
          "name": "stdout",
          "text": [
            " birds.csv                                   \u001b[0m\u001b[01;34mtest\u001b[0m/    \u001b[01;34mvalid\u001b[0m/\n",
            "'EfficientNetB0-525-(224 X 224)- 98.97.h5'   \u001b[01;34mtrain\u001b[0m/\n"
          ]
        }
      ]
    },
    {
      "cell_type": "code",
      "source": [
        "# mount it\n",
        "from google.colab import drive\n",
        "drive.mount('/content/drive')"
      ],
      "metadata": {
        "colab": {
          "base_uri": "https://localhost:8080/"
        },
        "id": "mSkCECyAkaqg",
        "outputId": "6361a2af-ebe6-4ee1-d23c-5f380a8038c4"
      },
      "execution_count": 13,
      "outputs": [
        {
          "output_type": "stream",
          "name": "stdout",
          "text": [
            "Mounted at /content/drive\n"
          ]
        }
      ]
    },
    {
      "cell_type": "code",
      "source": [
        "%cd /content/drive/My Drive/ASIGNATURAS/VIU/07MIAR_Redes_Neuronales_y_Deep_Learning/"
      ],
      "metadata": {
        "colab": {
          "base_uri": "https://localhost:8080/"
        },
        "id": "WbIEL0t3kgMt",
        "outputId": "d9156d09-ab3f-42ee-a173-c498522d1bbb"
      },
      "execution_count": 14,
      "outputs": [
        {
          "output_type": "stream",
          "name": "stdout",
          "text": [
            "/content/drive/My Drive/ASIGNATURAS/VIU/07MIAR_Redes_Neuronales_y_Deep_Learning\n"
          ]
        }
      ]
    },
    {
      "cell_type": "code",
      "source": [
        "!mkdir dataset"
      ],
      "metadata": {
        "id": "fijsIWrfkoPa"
      },
      "execution_count": 16,
      "outputs": []
    },
    {
      "cell_type": "code",
      "source": [
        "%ls"
      ],
      "metadata": {
        "colab": {
          "base_uri": "https://localhost:8080/"
        },
        "id": "VUu1fyHgk_kZ",
        "outputId": "375fbe8f-6f92-4cf3-cdd9-cc4236ab4f05"
      },
      "execution_count": 20,
      "outputs": [
        {
          "output_type": "stream",
          "name": "stdout",
          "text": [
            "\u001b[0m\u001b[01;34mdataset\u001b[0m/  \u001b[01;34mProyectoProgramacionFinal\u001b[0m/  \u001b[01;34mrecursos\u001b[0m/\n"
          ]
        }
      ]
    },
    {
      "cell_type": "code",
      "source": [
        "!cp -r \"/content/my_dataset\" \"/content/drive/My Drive/ASIGNATURAS/VIU/07MIAR_Redes_Neuronales_y_Deep_Learning/dataset\""
      ],
      "metadata": {
        "id": "O9ukVfwykjvw"
      },
      "execution_count": 27,
      "outputs": []
    },
    {
      "cell_type": "code",
      "source": [
        "drive.flush_and_unmount()"
      ],
      "metadata": {
        "id": "zLR1UvJToQtO"
      },
      "execution_count": null,
      "outputs": []
    },
    {
      "cell_type": "markdown",
      "source": [
        "# Resolución del problema"
      ],
      "metadata": {
        "id": "2ngWs048Vw-Z"
      }
    },
    {
      "cell_type": "markdown",
      "source": [
        "## 0. Imports"
      ],
      "metadata": {
        "id": "ntqwLiFnY9D6"
      }
    },
    {
      "cell_type": "code",
      "source": [
        "# system\n",
        "import os\n",
        "import glob\n",
        "\n",
        "# CV\n",
        "import cv2\n",
        "import numpy as np\n",
        "np.random.seed(42)\n",
        "import matplotlib.pyplot as plt\n",
        "\n",
        "# ML\n",
        "import tensorflow as tf\n",
        "tf.random.set_seed(42)\n",
        "from tensorflow.keras.models import Sequential, Model\n",
        "from tensorflow.keras import layers\n",
        "from tensorflow.keras.layers import InputLayer, Flatten, Dense, Dropout\n",
        "from tensorflow.keras.optimizers import SGD, Adam\n",
        "from tensorflow.keras.applications import ResNet50, InceptionResNetV2\n",
        "\n",
        "# Metrics\n",
        "from sklearn.metrics import classification_report\n",
        "\n",
        "# Data\n",
        "import pandas as pd\n",
        "\n",
        "# other"
      ],
      "metadata": {
        "id": "iN01IwW6Y8U6"
      },
      "execution_count": 42,
      "outputs": []
    },
    {
      "cell_type": "markdown",
      "source": [
        "### Funciones base"
      ],
      "metadata": {
        "id": "4dG0LIxHLjCO"
      }
    },
    {
      "cell_type": "code",
      "source": [
        "def visualize_learning_curve(H):\n",
        "  epochs = len(H.history[\"loss\"])\n",
        "  plt.style.use(\"ggplot\")\n",
        "  plt.figure()\n",
        "  plt.plot(np.arange(0, epochs), H.history[\"loss\"], label=\"train_loss\")\n",
        "  plt.plot(np.arange(0, epochs), H.history[\"val_loss\"], label=\"val_loss\")\n",
        "  plt.plot(np.arange(0, epochs), H.history[\"accuracy\"], label=\"train_acc\")\n",
        "  plt.plot(np.arange(0, epochs), H.history[\"val_accuracy\"], label=\"val_acc\")\n",
        "  plt.title(\"Training Loss and Accuracy\")\n",
        "  plt.xlabel(\"Epoch #\")\n",
        "  plt.ylabel(\"Loss/Accuracy\")\n",
        "  plt.legend()\n",
        "\n",
        "def evaluate_model(model, x, y):\n",
        "  print(\"[INFO]: Evaluando red neuronal...\")\n",
        "  predictions = model.predict(x, batch_size=128)\n",
        "  print(classification_report(y, predictions.argmax(axis=1)))\n",
        "\n",
        "def evaluate_model_generator(model, test_generator, y_test_real)\n",
        "    test_generator.reset()\n",
        "    pred=model.predict(test_generator,\n",
        "        steps=STEP_SIZE_TEST\n",
        "    )\n",
        "    predicted_class_indices = np.argmax(pred, axis=1)\n",
        "    labels = (train_generator.class_indices)\n",
        "    labels = dict((v,k) for k,v in labels.items())\n",
        "    y_test_pred = [labels[k] for k in predicted_class_indices]\n",
        "    print(classification_report(y_test_pred, y_test_pred))\n",
        "    # hay que arreglarla"
      ],
      "metadata": {
        "id": "d-Qgmz4gLhXw"
      },
      "execution_count": 43,
      "outputs": []
    },
    {
      "cell_type": "markdown",
      "source": [
        "Establecemos una semilla para que las pruebas con los distintos modelos sean equiparables."
      ],
      "metadata": {
        "id": "t3kse8hAv_Sk"
      }
    },
    {
      "cell_type": "markdown",
      "source": [
        "## 1. Carga del conjunto de datos"
      ],
      "metadata": {
        "id": "3I8JTrAZWXUq"
      }
    },
    {
      "cell_type": "code",
      "source": [
        "# SOLO PARA USO EN GOOGLE COLABORATORY\n",
        "# Para conectar el notebook con la cuenta de gdrive\n",
        "from google.colab import drive\n",
        "drive.mount('/content/drive/')"
      ],
      "metadata": {
        "colab": {
          "base_uri": "https://localhost:8080/"
        },
        "id": "1tkBPNK5WtVd",
        "outputId": "9440c448-9599-485e-bceb-1c6b24c6fadd"
      },
      "execution_count": 2,
      "outputs": [
        {
          "output_type": "stream",
          "name": "stdout",
          "text": [
            "Mounted at /content/drive/\n"
          ]
        }
      ]
    },
    {
      "cell_type": "code",
      "source": [
        "# BASE_PATH = \"/content/drive/My Drive/ASIGNATURAS/VIU/07MIAR_Redes_Neuronales_y_Deep_Learning/ProyectoProgramacionFinal\"\n",
        "ZIP_PATH = \"/content/drive/My Drive/ASIGNATURAS/VIU/07MIAR_Redes_Neuronales_y_Deep_Learning/ProyectoProgramacionFinal/100-bird-species.zip\"\n",
        "BASE_PATH = \"/content/\"\n",
        "DATASET_PATH = os.path.join(BASE_PATH,\"my_dataset\")\n",
        "TRAIN_PATH = os.path.join(DATASET_PATH,\"train\")\n",
        "VALID_PATH = os.path.join(DATASET_PATH,\"valid\")\n",
        "TEST_PATH = os.path.join(DATASET_PATH,\"test\")"
      ],
      "metadata": {
        "id": "u_lpEwK7Wwwb"
      },
      "execution_count": 3,
      "outputs": []
    },
    {
      "cell_type": "code",
      "source": [
        "%cd $BASE_PATH"
      ],
      "metadata": {
        "colab": {
          "base_uri": "https://localhost:8080/"
        },
        "id": "2M3PBKeRHfk9",
        "outputId": "4b4a1312-8e31-4953-cf29-1547043da66c"
      },
      "execution_count": 4,
      "outputs": [
        {
          "output_type": "stream",
          "name": "stdout",
          "text": [
            "/content\n"
          ]
        }
      ]
    },
    {
      "cell_type": "code",
      "source": [
        "!unzip -o -q \"/content/drive/My Drive/ASIGNATURAS/VIU/07MIAR_Redes_Neuronales_y_Deep_Learning/ProyectoProgramacionFinal/100-bird-species.zip\""
      ],
      "metadata": {
        "id": "DdowVUubHXLj"
      },
      "execution_count": 9,
      "outputs": []
    },
    {
      "cell_type": "code",
      "source": [
        "%mv 100-bird-species/ my_dataset/"
      ],
      "metadata": {
        "id": "BBPr9id9KBfh"
      },
      "execution_count": 13,
      "outputs": []
    },
    {
      "cell_type": "markdown",
      "source": [
        "## 2. Inspección del conjunto de datos"
      ],
      "metadata": {
        "id": "Qzn_BHIuVxnJ"
      }
    },
    {
      "cell_type": "code",
      "source": [
        "files = os.listdir(os.path.join(BASE_PATH,\"my_dataset\",\"train\"))\n",
        "\n",
        "print(\"Total de clases: \", len(files))\n",
        "print(\"Algunas de ellas son: \\n\",)\n",
        "files[:10]"
      ],
      "metadata": {
        "colab": {
          "base_uri": "https://localhost:8080/"
        },
        "id": "V_anm1GaW5YK",
        "outputId": "95807810-1ded-47b6-c994-d1fb9f119b70"
      },
      "execution_count": 14,
      "outputs": [
        {
          "output_type": "stream",
          "name": "stdout",
          "text": [
            "Total de clases:  525\n",
            "Algunas de ellas son: \n",
            "\n"
          ]
        },
        {
          "output_type": "execute_result",
          "data": {
            "text/plain": [
              "['LITTLE AUK',\n",
              " 'SATYR TRAGOPAN',\n",
              " 'EASTERN BLUEBIRD',\n",
              " 'COMMON LOON',\n",
              " 'IWI',\n",
              " 'BALD EAGLE',\n",
              " 'GOLDEN BOWER BIRD',\n",
              " 'IBISBILL',\n",
              " 'MALEO',\n",
              " 'VIOLET CUCKOO']"
            ]
          },
          "metadata": {},
          "execution_count": 14
        }
      ]
    },
    {
      "cell_type": "markdown",
      "source": [
        "EL dataset ya ha sido separado por la persona que lo facilita en subcarpetas (train, test, valid) siendo las imágenes contenidas en train y valid seleccionadas a mano por su buena calidad. Así que podríamos usarlas con el fin de probar el modelo o no puesto que hay sólo 5 por cada clase."
      ],
      "metadata": {
        "id": "TpHcjPQwYN66"
      }
    },
    {
      "cell_type": "code",
      "source": [
        "cpt = sum([len(files) for r, d, files in os.walk(os.path.join(BASE_PATH,\"my_dataset/train/\"))])\n",
        "print(\"Imágenes carpeta de entrenamiento: \",cpt)\n",
        "cpt = sum([len(files) for r, d, files in os.walk(os.path.join(BASE_PATH,\"my_dataset/test/\"))])\n",
        "print(\"Imágenes carpeta de test: \",cpt)\n",
        "cpt = sum([len(files) for r, d, files in os.walk(os.path.join(BASE_PATH,\"my_dataset/valid/\"))])\n",
        "print(\"Imágenes carpeta de valid: \",cpt)"
      ],
      "metadata": {
        "colab": {
          "base_uri": "https://localhost:8080/"
        },
        "id": "5T8Kt86yX02a",
        "outputId": "20f949c5-0617-4f35-8e2e-cb4497a35c31"
      },
      "execution_count": null,
      "outputs": [
        {
          "output_type": "stream",
          "name": "stdout",
          "text": [
            "Imágenes carpeta de entrenamiento:  84635\n",
            "Imágenes carpeta de test:  2625\n",
            "Imágenes carpeta de valid:  2625\n"
          ]
        }
      ]
    },
    {
      "cell_type": "markdown",
      "source": [
        "Consiste en una recopilación de información sobre 525 especies de aves. 84635 imágenes de entrenamiento, 2625 imágenes de prueba (cinco imágenes por especie) y 2625 imágenes de validación (cinco imágenes por especie).En cada imagen sólo se tiene un ave, que suele ocupar al menos el 50% de los píxeles de la imagen."
      ],
      "metadata": {
        "id": "0brdTSMNXL2b"
      }
    },
    {
      "cell_type": "markdown",
      "source": [
        "Según indica el creador del dataset \"Una deficiencia significativa del conjunto de datos es la proporción de imágenes de especies masculinas con respecto a las femeninas. Aproximadamente el 80% de las imágenes son de machos y el 20% de hembras. Los machos suelen tener colores mucho más variados, mientras que las hembras de una especie suelen ser anodinas. Casi todas las imágenes de prueba y validación proceden del macho de la especie. En consecuencia, el clasificador puede funcionar peor en las imágenes de especies femeninas.\"\n",
        "\n",
        "Con lo cuál si se desea hacer un modelo más robusto se deberían añadir más imágenes de hembras, y no utilizar las carpetas de validación y test propuestas por el creador, puesto que estas están sesgadas."
      ],
      "metadata": {
        "id": "RCPEk280mYVf"
      }
    },
    {
      "cell_type": "markdown",
      "source": [
        "Veamos si las clases están balanceadas."
      ],
      "metadata": {
        "id": "unWudahsai1J"
      }
    },
    {
      "cell_type": "code",
      "source": [
        "_classes_data = {\n",
        "    \"Class\" : [],\n",
        "    \"NumImages\" : []\n",
        "}\n",
        "for root, dirs, files in os.walk(os.path.join(BASE_PATH,\"my_dataset/train/\")):\n",
        "    # print(root,\"---\",dirs,\"---\",files)\n",
        "    if root.split(\"/\")[-1] != \"\":\n",
        "        _classes_data[\"Class\"] += [root.split(\"/\")[-1]]\n",
        "        _classes_data[\"NumImages\"] += [len(files)]"
      ],
      "metadata": {
        "id": "wYoOFsfHZs76"
      },
      "execution_count": 17,
      "outputs": []
    },
    {
      "cell_type": "code",
      "source": [
        "_classes_df = pd.DataFrame(_classes_data)\n",
        "_classes_df.describe()"
      ],
      "metadata": {
        "colab": {
          "base_uri": "https://localhost:8080/",
          "height": 300
        },
        "id": "gycjzOW-cgsp",
        "outputId": "a5ee811f-6398-4bf5-e3bb-3dd03c79eb03"
      },
      "execution_count": 18,
      "outputs": [
        {
          "output_type": "execute_result",
          "data": {
            "text/plain": [
              "        NumImages\n",
              "count  525.000000\n",
              "mean   161.209524\n",
              "std     20.621588\n",
              "min    130.000000\n",
              "25%    150.000000\n",
              "50%    158.000000\n",
              "75%    170.000000\n",
              "max    263.000000"
            ],
            "text/html": [
              "\n",
              "  <div id=\"df-0a1f4d9f-c4aa-4698-b851-d07194897481\" class=\"colab-df-container\">\n",
              "    <div>\n",
              "<style scoped>\n",
              "    .dataframe tbody tr th:only-of-type {\n",
              "        vertical-align: middle;\n",
              "    }\n",
              "\n",
              "    .dataframe tbody tr th {\n",
              "        vertical-align: top;\n",
              "    }\n",
              "\n",
              "    .dataframe thead th {\n",
              "        text-align: right;\n",
              "    }\n",
              "</style>\n",
              "<table border=\"1\" class=\"dataframe\">\n",
              "  <thead>\n",
              "    <tr style=\"text-align: right;\">\n",
              "      <th></th>\n",
              "      <th>NumImages</th>\n",
              "    </tr>\n",
              "  </thead>\n",
              "  <tbody>\n",
              "    <tr>\n",
              "      <th>count</th>\n",
              "      <td>525.000000</td>\n",
              "    </tr>\n",
              "    <tr>\n",
              "      <th>mean</th>\n",
              "      <td>161.209524</td>\n",
              "    </tr>\n",
              "    <tr>\n",
              "      <th>std</th>\n",
              "      <td>20.621588</td>\n",
              "    </tr>\n",
              "    <tr>\n",
              "      <th>min</th>\n",
              "      <td>130.000000</td>\n",
              "    </tr>\n",
              "    <tr>\n",
              "      <th>25%</th>\n",
              "      <td>150.000000</td>\n",
              "    </tr>\n",
              "    <tr>\n",
              "      <th>50%</th>\n",
              "      <td>158.000000</td>\n",
              "    </tr>\n",
              "    <tr>\n",
              "      <th>75%</th>\n",
              "      <td>170.000000</td>\n",
              "    </tr>\n",
              "    <tr>\n",
              "      <th>max</th>\n",
              "      <td>263.000000</td>\n",
              "    </tr>\n",
              "  </tbody>\n",
              "</table>\n",
              "</div>\n",
              "    <div class=\"colab-df-buttons\">\n",
              "\n",
              "  <div class=\"colab-df-container\">\n",
              "    <button class=\"colab-df-convert\" onclick=\"convertToInteractive('df-0a1f4d9f-c4aa-4698-b851-d07194897481')\"\n",
              "            title=\"Convert this dataframe to an interactive table.\"\n",
              "            style=\"display:none;\">\n",
              "\n",
              "  <svg xmlns=\"http://www.w3.org/2000/svg\" height=\"24px\" viewBox=\"0 -960 960 960\">\n",
              "    <path d=\"M120-120v-720h720v720H120Zm60-500h600v-160H180v160Zm220 220h160v-160H400v160Zm0 220h160v-160H400v160ZM180-400h160v-160H180v160Zm440 0h160v-160H620v160ZM180-180h160v-160H180v160Zm440 0h160v-160H620v160Z\"/>\n",
              "  </svg>\n",
              "    </button>\n",
              "\n",
              "  <style>\n",
              "    .colab-df-container {\n",
              "      display:flex;\n",
              "      gap: 12px;\n",
              "    }\n",
              "\n",
              "    .colab-df-convert {\n",
              "      background-color: #E8F0FE;\n",
              "      border: none;\n",
              "      border-radius: 50%;\n",
              "      cursor: pointer;\n",
              "      display: none;\n",
              "      fill: #1967D2;\n",
              "      height: 32px;\n",
              "      padding: 0 0 0 0;\n",
              "      width: 32px;\n",
              "    }\n",
              "\n",
              "    .colab-df-convert:hover {\n",
              "      background-color: #E2EBFA;\n",
              "      box-shadow: 0px 1px 2px rgba(60, 64, 67, 0.3), 0px 1px 3px 1px rgba(60, 64, 67, 0.15);\n",
              "      fill: #174EA6;\n",
              "    }\n",
              "\n",
              "    .colab-df-buttons div {\n",
              "      margin-bottom: 4px;\n",
              "    }\n",
              "\n",
              "    [theme=dark] .colab-df-convert {\n",
              "      background-color: #3B4455;\n",
              "      fill: #D2E3FC;\n",
              "    }\n",
              "\n",
              "    [theme=dark] .colab-df-convert:hover {\n",
              "      background-color: #434B5C;\n",
              "      box-shadow: 0px 1px 3px 1px rgba(0, 0, 0, 0.15);\n",
              "      filter: drop-shadow(0px 1px 2px rgba(0, 0, 0, 0.3));\n",
              "      fill: #FFFFFF;\n",
              "    }\n",
              "  </style>\n",
              "\n",
              "    <script>\n",
              "      const buttonEl =\n",
              "        document.querySelector('#df-0a1f4d9f-c4aa-4698-b851-d07194897481 button.colab-df-convert');\n",
              "      buttonEl.style.display =\n",
              "        google.colab.kernel.accessAllowed ? 'block' : 'none';\n",
              "\n",
              "      async function convertToInteractive(key) {\n",
              "        const element = document.querySelector('#df-0a1f4d9f-c4aa-4698-b851-d07194897481');\n",
              "        const dataTable =\n",
              "          await google.colab.kernel.invokeFunction('convertToInteractive',\n",
              "                                                    [key], {});\n",
              "        if (!dataTable) return;\n",
              "\n",
              "        const docLinkHtml = 'Like what you see? Visit the ' +\n",
              "          '<a target=\"_blank\" href=https://colab.research.google.com/notebooks/data_table.ipynb>data table notebook</a>'\n",
              "          + ' to learn more about interactive tables.';\n",
              "        element.innerHTML = '';\n",
              "        dataTable['output_type'] = 'display_data';\n",
              "        await google.colab.output.renderOutput(dataTable, element);\n",
              "        const docLink = document.createElement('div');\n",
              "        docLink.innerHTML = docLinkHtml;\n",
              "        element.appendChild(docLink);\n",
              "      }\n",
              "    </script>\n",
              "  </div>\n",
              "\n",
              "\n",
              "<div id=\"df-ec1f1473-2af9-4be2-b35f-77b4ad43e5dd\">\n",
              "  <button class=\"colab-df-quickchart\" onclick=\"quickchart('df-ec1f1473-2af9-4be2-b35f-77b4ad43e5dd')\"\n",
              "            title=\"Suggest charts.\"\n",
              "            style=\"display:none;\">\n",
              "\n",
              "<svg xmlns=\"http://www.w3.org/2000/svg\" height=\"24px\"viewBox=\"0 0 24 24\"\n",
              "     width=\"24px\">\n",
              "    <g>\n",
              "        <path d=\"M19 3H5c-1.1 0-2 .9-2 2v14c0 1.1.9 2 2 2h14c1.1 0 2-.9 2-2V5c0-1.1-.9-2-2-2zM9 17H7v-7h2v7zm4 0h-2V7h2v10zm4 0h-2v-4h2v4z\"/>\n",
              "    </g>\n",
              "</svg>\n",
              "  </button>\n",
              "\n",
              "<style>\n",
              "  .colab-df-quickchart {\n",
              "      --bg-color: #E8F0FE;\n",
              "      --fill-color: #1967D2;\n",
              "      --hover-bg-color: #E2EBFA;\n",
              "      --hover-fill-color: #174EA6;\n",
              "      --disabled-fill-color: #AAA;\n",
              "      --disabled-bg-color: #DDD;\n",
              "  }\n",
              "\n",
              "  [theme=dark] .colab-df-quickchart {\n",
              "      --bg-color: #3B4455;\n",
              "      --fill-color: #D2E3FC;\n",
              "      --hover-bg-color: #434B5C;\n",
              "      --hover-fill-color: #FFFFFF;\n",
              "      --disabled-bg-color: #3B4455;\n",
              "      --disabled-fill-color: #666;\n",
              "  }\n",
              "\n",
              "  .colab-df-quickchart {\n",
              "    background-color: var(--bg-color);\n",
              "    border: none;\n",
              "    border-radius: 50%;\n",
              "    cursor: pointer;\n",
              "    display: none;\n",
              "    fill: var(--fill-color);\n",
              "    height: 32px;\n",
              "    padding: 0;\n",
              "    width: 32px;\n",
              "  }\n",
              "\n",
              "  .colab-df-quickchart:hover {\n",
              "    background-color: var(--hover-bg-color);\n",
              "    box-shadow: 0 1px 2px rgba(60, 64, 67, 0.3), 0 1px 3px 1px rgba(60, 64, 67, 0.15);\n",
              "    fill: var(--button-hover-fill-color);\n",
              "  }\n",
              "\n",
              "  .colab-df-quickchart-complete:disabled,\n",
              "  .colab-df-quickchart-complete:disabled:hover {\n",
              "    background-color: var(--disabled-bg-color);\n",
              "    fill: var(--disabled-fill-color);\n",
              "    box-shadow: none;\n",
              "  }\n",
              "\n",
              "  .colab-df-spinner {\n",
              "    border: 2px solid var(--fill-color);\n",
              "    border-color: transparent;\n",
              "    border-bottom-color: var(--fill-color);\n",
              "    animation:\n",
              "      spin 1s steps(1) infinite;\n",
              "  }\n",
              "\n",
              "  @keyframes spin {\n",
              "    0% {\n",
              "      border-color: transparent;\n",
              "      border-bottom-color: var(--fill-color);\n",
              "      border-left-color: var(--fill-color);\n",
              "    }\n",
              "    20% {\n",
              "      border-color: transparent;\n",
              "      border-left-color: var(--fill-color);\n",
              "      border-top-color: var(--fill-color);\n",
              "    }\n",
              "    30% {\n",
              "      border-color: transparent;\n",
              "      border-left-color: var(--fill-color);\n",
              "      border-top-color: var(--fill-color);\n",
              "      border-right-color: var(--fill-color);\n",
              "    }\n",
              "    40% {\n",
              "      border-color: transparent;\n",
              "      border-right-color: var(--fill-color);\n",
              "      border-top-color: var(--fill-color);\n",
              "    }\n",
              "    60% {\n",
              "      border-color: transparent;\n",
              "      border-right-color: var(--fill-color);\n",
              "    }\n",
              "    80% {\n",
              "      border-color: transparent;\n",
              "      border-right-color: var(--fill-color);\n",
              "      border-bottom-color: var(--fill-color);\n",
              "    }\n",
              "    90% {\n",
              "      border-color: transparent;\n",
              "      border-bottom-color: var(--fill-color);\n",
              "    }\n",
              "  }\n",
              "</style>\n",
              "\n",
              "  <script>\n",
              "    async function quickchart(key) {\n",
              "      const quickchartButtonEl =\n",
              "        document.querySelector('#' + key + ' button');\n",
              "      quickchartButtonEl.disabled = true;  // To prevent multiple clicks.\n",
              "      quickchartButtonEl.classList.add('colab-df-spinner');\n",
              "      try {\n",
              "        const charts = await google.colab.kernel.invokeFunction(\n",
              "            'suggestCharts', [key], {});\n",
              "      } catch (error) {\n",
              "        console.error('Error during call to suggestCharts:', error);\n",
              "      }\n",
              "      quickchartButtonEl.classList.remove('colab-df-spinner');\n",
              "      quickchartButtonEl.classList.add('colab-df-quickchart-complete');\n",
              "    }\n",
              "    (() => {\n",
              "      let quickchartButtonEl =\n",
              "        document.querySelector('#df-ec1f1473-2af9-4be2-b35f-77b4ad43e5dd button');\n",
              "      quickchartButtonEl.style.display =\n",
              "        google.colab.kernel.accessAllowed ? 'block' : 'none';\n",
              "    })();\n",
              "  </script>\n",
              "</div>\n",
              "    </div>\n",
              "  </div>\n"
            ]
          },
          "metadata": {},
          "execution_count": 18
        }
      ]
    },
    {
      "cell_type": "code",
      "source": [
        "_classes_df.plot(kind='hist', histtype='step', facecolor='g',\n",
        "               alpha=0.75);"
      ],
      "metadata": {
        "colab": {
          "base_uri": "https://localhost:8080/",
          "height": 430
        },
        "id": "2vyZ3tEgdfz4",
        "outputId": "2d7923fa-241b-4efd-bcd6-e8ca62efcb00"
      },
      "execution_count": 19,
      "outputs": [
        {
          "output_type": "display_data",
          "data": {
            "text/plain": [
              "<Figure size 640x480 with 1 Axes>"
            ],
            "image/png": "[encoded data removed]"
          },
          "metadata": {}
        }
      ]
    },
    {
      "cell_type": "markdown",
      "source": [
        "Como podemos observar las clases no están balanceadas, esto podría llevarnos a un problema de precisión con algunas de ellas. Veamos si podemos hacer algo para intentar palear este problema más adelante."
      ],
      "metadata": {
        "id": "69n-w5DNZXeK"
      }
    },
    {
      "cell_type": "markdown",
      "source": [
        "Veamos algunas de las imágenes. Para ello podemos hacer uso del csv que nos proporciona el creador del dataset \"birds.csv\""
      ],
      "metadata": {
        "id": "sANboTI3c1h4"
      }
    },
    {
      "cell_type": "code",
      "source": [
        "with open(os.path.join(BASE_PATH,\"my_dataset\",\"repaired_birds.csv\"), \"r\") as f:\n",
        "    text = f.read()\n",
        "\n",
        "print(text[:200])"
      ],
      "metadata": {
        "colab": {
          "base_uri": "https://localhost:8080/"
        },
        "id": "mIDWVf-vhORG",
        "outputId": "fa974352-46a2-4688-f986-67688676f58b"
      },
      "execution_count": 21,
      "outputs": [
        {
          "output_type": "stream",
          "name": "stdout",
          "text": [
            "class id,filepaths,labels,data set,scientific name\n",
            "0.0,train/ABBOTTS BABBLER/001.jpg,ABBOTTS BABBLER,train,MALACOCINCLA ABBOTTI\n",
            "0.0,train/ABBOTTS BABBLER/007.jpg,ABBOTTS BABBLER,train,MALACOCINCLA ABB\n"
          ]
        }
      ]
    },
    {
      "cell_type": "code",
      "source": [
        "# birds_df = pd.read_csv(os.path.join(BASE_PATH,\"my_dataset\",\"birds.csv\"), sep=\",\")\n",
        "birds_df = pd.read_csv(os.path.join(BASE_PATH,\"my_dataset\",\"repaired_birds.csv\"), sep=\",\")\n",
        "display(birds_df.sample(5))"
      ],
      "metadata": {
        "colab": {
          "base_uri": "https://localhost:8080/",
          "height": 206
        },
        "id": "Y_ZekLXOg5W2",
        "outputId": "e2ec4d99-4d31-4968-aec0-2cfb12822a4f"
      },
      "execution_count": 22,
      "outputs": [
        {
          "output_type": "display_data",
          "data": {
            "text/plain": [
              "       class id                       filepaths            labels data set  \\\n",
              "29615     186.0  train/DEMOISELLE CRANE/012.jpg  DEMOISELLE CRANE    train   \n",
              "19620     123.0        train/CANVASBACK/132.jpg        CANVASBACK    train   \n",
              "22494     141.0  train/CHIPPING SPARROW/156.jpg  CHIPPING SPARROW    train   \n",
              "3656       22.0     train/AMERICAN ROBIN/91.jpg    AMERICAN ROBIN    train   \n",
              "30859     194.0  train/EASTERN BLUEBIRD/048.jpg  EASTERN BLUEBIRD    train   \n",
              "\n",
              "          scientific name  \n",
              "29615          GRUS VIRGO  \n",
              "19620  AYTHYA VALISINERIA  \n",
              "22494  SPIZELLA PASSERINA  \n",
              "3656   TURDUS MIGRATORIUS  \n",
              "30859       SIALIA SIALIS  "
            ],
            "text/html": [
              "\n",
              "  <div id=\"df-1305cc47-34a6-41f9-97f1-25f514be11bb\" class=\"colab-df-container\">\n",
              "    <div>\n",
              "<style scoped>\n",
              "    .dataframe tbody tr th:only-of-type {\n",
              "        vertical-align: middle;\n",
              "    }\n",
              "\n",
              "    .dataframe tbody tr th {\n",
              "        vertical-align: top;\n",
              "    }\n",
              "\n",
              "    .dataframe thead th {\n",
              "        text-align: right;\n",
              "    }\n",
              "</style>\n",
              "<table border=\"1\" class=\"dataframe\">\n",
              "  <thead>\n",
              "    <tr style=\"text-align: right;\">\n",
              "      <th></th>\n",
              "      <th>class id</th>\n",
              "      <th>filepaths</th>\n",
              "      <th>labels</th>\n",
              "      <th>data set</th>\n",
              "      <th>scientific name</th>\n",
              "    </tr>\n",
              "  </thead>\n",
              "  <tbody>\n",
              "    <tr>\n",
              "      <th>29615</th>\n",
              "      <td>186.0</td>\n",
              "      <td>train/DEMOISELLE CRANE/012.jpg</td>\n",
              "      <td>DEMOISELLE CRANE</td>\n",
              "      <td>train</td>\n",
              "      <td>GRUS VIRGO</td>\n",
              "    </tr>\n",
              "    <tr>\n",
              "      <th>19620</th>\n",
              "      <td>123.0</td>\n",
              "      <td>train/CANVASBACK/132.jpg</td>\n",
              "      <td>CANVASBACK</td>\n",
              "      <td>train</td>\n",
              "      <td>AYTHYA VALISINERIA</td>\n",
              "    </tr>\n",
              "    <tr>\n",
              "      <th>22494</th>\n",
              "      <td>141.0</td>\n",
              "      <td>train/CHIPPING SPARROW/156.jpg</td>\n",
              "      <td>CHIPPING SPARROW</td>\n",
              "      <td>train</td>\n",
              "      <td>SPIZELLA PASSERINA</td>\n",
              "    </tr>\n",
              "    <tr>\n",
              "      <th>3656</th>\n",
              "      <td>22.0</td>\n",
              "      <td>train/AMERICAN ROBIN/91.jpg</td>\n",
              "      <td>AMERICAN ROBIN</td>\n",
              "      <td>train</td>\n",
              "      <td>TURDUS MIGRATORIUS</td>\n",
              "    </tr>\n",
              "    <tr>\n",
              "      <th>30859</th>\n",
              "      <td>194.0</td>\n",
              "      <td>train/EASTERN BLUEBIRD/048.jpg</td>\n",
              "      <td>EASTERN BLUEBIRD</td>\n",
              "      <td>train</td>\n",
              "      <td>SIALIA SIALIS</td>\n",
              "    </tr>\n",
              "  </tbody>\n",
              "</table>\n",
              "</div>\n",
              "    <div class=\"colab-df-buttons\">\n",
              "\n",
              "  <div class=\"colab-df-container\">\n",
              "    <button class=\"colab-df-convert\" onclick=\"convertToInteractive('df-1305cc47-34a6-41f9-97f1-25f514be11bb')\"\n",
              "            title=\"Convert this dataframe to an interactive table.\"\n",
              "            style=\"display:none;\">\n",
              "\n",
              "  <svg xmlns=\"http://www.w3.org/2000/svg\" height=\"24px\" viewBox=\"0 -960 960 960\">\n",
              "    <path d=\"M120-120v-720h720v720H120Zm60-500h600v-160H180v160Zm220 220h160v-160H400v160Zm0 220h160v-160H400v160ZM180-400h160v-160H180v160Zm440 0h160v-160H620v160ZM180-180h160v-160H180v160Zm440 0h160v-160H620v160Z\"/>\n",
              "  </svg>\n",
              "    </button>\n",
              "\n",
              "  <style>\n",
              "    .colab-df-container {\n",
              "      display:flex;\n",
              "      gap: 12px;\n",
              "    }\n",
              "\n",
              "    .colab-df-convert {\n",
              "      background-color: #E8F0FE;\n",
              "      border: none;\n",
              "      border-radius: 50%;\n",
              "      cursor: pointer;\n",
              "      display: none;\n",
              "      fill: #1967D2;\n",
              "      height: 32px;\n",
              "      padding: 0 0 0 0;\n",
              "      width: 32px;\n",
              "    }\n",
              "\n",
              "    .colab-df-convert:hover {\n",
              "      background-color: #E2EBFA;\n",
              "      box-shadow: 0px 1px 2px rgba(60, 64, 67, 0.3), 0px 1px 3px 1px rgba(60, 64, 67, 0.15);\n",
              "      fill: #174EA6;\n",
              "    }\n",
              "\n",
              "    .colab-df-buttons div {\n",
              "      margin-bottom: 4px;\n",
              "    }\n",
              "\n",
              "    [theme=dark] .colab-df-convert {\n",
              "      background-color: #3B4455;\n",
              "      fill: #D2E3FC;\n",
              "    }\n",
              "\n",
              "    [theme=dark] .colab-df-convert:hover {\n",
              "      background-color: #434B5C;\n",
              "      box-shadow: 0px 1px 3px 1px rgba(0, 0, 0, 0.15);\n",
              "      filter: drop-shadow(0px 1px 2px rgba(0, 0, 0, 0.3));\n",
              "      fill: #FFFFFF;\n",
              "    }\n",
              "  </style>\n",
              "\n",
              "    <script>\n",
              "      const buttonEl =\n",
              "        document.querySelector('#df-1305cc47-34a6-41f9-97f1-25f514be11bb button.colab-df-convert');\n",
              "      buttonEl.style.display =\n",
              "        google.colab.kernel.accessAllowed ? 'block' : 'none';\n",
              "\n",
              "      async function convertToInteractive(key) {\n",
              "        const element = document.querySelector('#df-1305cc47-34a6-41f9-97f1-25f514be11bb');\n",
              "        const dataTable =\n",
              "          await google.colab.kernel.invokeFunction('convertToInteractive',\n",
              "                                                    [key], {});\n",
              "        if (!dataTable) return;\n",
              "\n",
              "        const docLinkHtml = 'Like what you see? Visit the ' +\n",
              "          '<a target=\"_blank\" href=https://colab.research.google.com/notebooks/data_table.ipynb>data table notebook</a>'\n",
              "          + ' to learn more about interactive tables.';\n",
              "        element.innerHTML = '';\n",
              "        dataTable['output_type'] = 'display_data';\n",
              "        await google.colab.output.renderOutput(dataTable, element);\n",
              "        const docLink = document.createElement('div');\n",
              "        docLink.innerHTML = docLinkHtml;\n",
              "        element.appendChild(docLink);\n",
              "      }\n",
              "    </script>\n",
              "  </div>\n",
              "\n",
              "\n",
              "<div id=\"df-aa23e9d1-c29f-4abf-a505-fa478dc7062f\">\n",
              "  <button class=\"colab-df-quickchart\" onclick=\"quickchart('df-aa23e9d1-c29f-4abf-a505-fa478dc7062f')\"\n",
              "            title=\"Suggest charts.\"\n",
              "            style=\"display:none;\">\n",
              "\n",
              "<svg xmlns=\"http://www.w3.org/2000/svg\" height=\"24px\"viewBox=\"0 0 24 24\"\n",
              "     width=\"24px\">\n",
              "    <g>\n",
              "        <path d=\"M19 3H5c-1.1 0-2 .9-2 2v14c0 1.1.9 2 2 2h14c1.1 0 2-.9 2-2V5c0-1.1-.9-2-2-2zM9 17H7v-7h2v7zm4 0h-2V7h2v10zm4 0h-2v-4h2v4z\"/>\n",
              "    </g>\n",
              "</svg>\n",
              "  </button>\n",
              "\n",
              "<style>\n",
              "  .colab-df-quickchart {\n",
              "      --bg-color: #E8F0FE;\n",
              "      --fill-color: #1967D2;\n",
              "      --hover-bg-color: #E2EBFA;\n",
              "      --hover-fill-color: #174EA6;\n",
              "      --disabled-fill-color: #AAA;\n",
              "      --disabled-bg-color: #DDD;\n",
              "  }\n",
              "\n",
              "  [theme=dark] .colab-df-quickchart {\n",
              "      --bg-color: #3B4455;\n",
              "      --fill-color: #D2E3FC;\n",
              "      --hover-bg-color: #434B5C;\n",
              "      --hover-fill-color: #FFFFFF;\n",
              "      --disabled-bg-color: #3B4455;\n",
              "      --disabled-fill-color: #666;\n",
              "  }\n",
              "\n",
              "  .colab-df-quickchart {\n",
              "    background-color: var(--bg-color);\n",
              "    border: none;\n",
              "    border-radius: 50%;\n",
              "    cursor: pointer;\n",
              "    display: none;\n",
              "    fill: var(--fill-color);\n",
              "    height: 32px;\n",
              "    padding: 0;\n",
              "    width: 32px;\n",
              "  }\n",
              "\n",
              "  .colab-df-quickchart:hover {\n",
              "    background-color: var(--hover-bg-color);\n",
              "    box-shadow: 0 1px 2px rgba(60, 64, 67, 0.3), 0 1px 3px 1px rgba(60, 64, 67, 0.15);\n",
              "    fill: var(--button-hover-fill-color);\n",
              "  }\n",
              "\n",
              "  .colab-df-quickchart-complete:disabled,\n",
              "  .colab-df-quickchart-complete:disabled:hover {\n",
              "    background-color: var(--disabled-bg-color);\n",
              "    fill: var(--disabled-fill-color);\n",
              "    box-shadow: none;\n",
              "  }\n",
              "\n",
              "  .colab-df-spinner {\n",
              "    border: 2px solid var(--fill-color);\n",
              "    border-color: transparent;\n",
              "    border-bottom-color: var(--fill-color);\n",
              "    animation:\n",
              "      spin 1s steps(1) infinite;\n",
              "  }\n",
              "\n",
              "  @keyframes spin {\n",
              "    0% {\n",
              "      border-color: transparent;\n",
              "      border-bottom-color: var(--fill-color);\n",
              "      border-left-color: var(--fill-color);\n",
              "    }\n",
              "    20% {\n",
              "      border-color: transparent;\n",
              "      border-left-color: var(--fill-color);\n",
              "      border-top-color: var(--fill-color);\n",
              "    }\n",
              "    30% {\n",
              "      border-color: transparent;\n",
              "      border-left-color: var(--fill-color);\n",
              "      border-top-color: var(--fill-color);\n",
              "      border-right-color: var(--fill-color);\n",
              "    }\n",
              "    40% {\n",
              "      border-color: transparent;\n",
              "      border-right-color: var(--fill-color);\n",
              "      border-top-color: var(--fill-color);\n",
              "    }\n",
              "    60% {\n",
              "      border-color: transparent;\n",
              "      border-right-color: var(--fill-color);\n",
              "    }\n",
              "    80% {\n",
              "      border-color: transparent;\n",
              "      border-right-color: var(--fill-color);\n",
              "      border-bottom-color: var(--fill-color);\n",
              "    }\n",
              "    90% {\n",
              "      border-color: transparent;\n",
              "      border-bottom-color: var(--fill-color);\n",
              "    }\n",
              "  }\n",
              "</style>\n",
              "\n",
              "  <script>\n",
              "    async function quickchart(key) {\n",
              "      const quickchartButtonEl =\n",
              "        document.querySelector('#' + key + ' button');\n",
              "      quickchartButtonEl.disabled = true;  // To prevent multiple clicks.\n",
              "      quickchartButtonEl.classList.add('colab-df-spinner');\n",
              "      try {\n",
              "        const charts = await google.colab.kernel.invokeFunction(\n",
              "            'suggestCharts', [key], {});\n",
              "      } catch (error) {\n",
              "        console.error('Error during call to suggestCharts:', error);\n",
              "      }\n",
              "      quickchartButtonEl.classList.remove('colab-df-spinner');\n",
              "      quickchartButtonEl.classList.add('colab-df-quickchart-complete');\n",
              "    }\n",
              "    (() => {\n",
              "      let quickchartButtonEl =\n",
              "        document.querySelector('#df-aa23e9d1-c29f-4abf-a505-fa478dc7062f button');\n",
              "      quickchartButtonEl.style.display =\n",
              "        google.colab.kernel.accessAllowed ? 'block' : 'none';\n",
              "    })();\n",
              "  </script>\n",
              "</div>\n",
              "    </div>\n",
              "  </div>\n"
            ]
          },
          "metadata": {}
        }
      ]
    },
    {
      "cell_type": "markdown",
      "source": [
        "Podemos ejecutar el siguiente bloque de código para generar una vista de las imágenes de forma aleatoria."
      ],
      "metadata": {
        "id": "ErsZ1Puuja57"
      }
    },
    {
      "cell_type": "code",
      "source": [
        "fig, axes = plt.subplots(1,5,figsize=(10,2))\n",
        "for k, idx in enumerate(birds_df.sample(5).index):\n",
        "    row = birds_df.loc[idx]\n",
        "    img = plt.imread(os.path.join(BASE_PATH,\"my_dataset\",row['filepaths']))\n",
        "    axes[k].imshow(img)\n",
        "    axes[k].axis('off')\n",
        "plt.show()"
      ],
      "metadata": {
        "colab": {
          "base_uri": "https://localhost:8080/",
          "height": 170
        },
        "id": "iSP8AXj3h-5p",
        "outputId": "8516ed64-2735-43c9-dab1-6fad01726348"
      },
      "execution_count": 33,
      "outputs": [
        {
          "output_type": "display_data",
          "data": {
            "text/plain": [
              "<Figure size 1000x200 with 5 Axes>"
            ],
            "image/png": "[encoded data removed]"
          },
          "metadata": {}
        }
      ]
    },
    {
      "cell_type": "code",
      "source": [
        "print(\"Tamaño de las imágenes: \", img.shape)"
      ],
      "metadata": {
        "colab": {
          "base_uri": "https://localhost:8080/"
        },
        "id": "5ukUeU_vi6YT",
        "outputId": "c18f34a8-98fb-4f3c-e4f0-4a30abf5cd61"
      },
      "execution_count": null,
      "outputs": [
        {
          "output_type": "stream",
          "name": "stdout",
          "text": [
            "Tamaño de las imágenes:  (224, 224, 3)\n"
          ]
        }
      ]
    },
    {
      "cell_type": "markdown",
      "source": [
        "Como podemos observar, las imágenes son `224x224` y en formato RGB (3 canales). También podemos observar que en algunas imágenes tenemos una marca de agua, esto es, según explica el creador del dataset, porque las imágenes han sido sacadas mediante búsqueda en google y luego recortadas. Debido a esto vamos a contar con este tipo de ruido en las imágenes."
      ],
      "metadata": {
        "id": "L-7hP5h2jD67"
      }
    },
    {
      "cell_type": "markdown",
      "source": [
        "## 3. Acondicionamiento del conjunto de datos"
      ],
      "metadata": {
        "id": "wlJtb2VJWchL"
      }
    },
    {
      "cell_type": "markdown",
      "source": [
        "¿Qué podemos hacer para mejorar nuesto dataset? Ideas:\n",
        "\n",
        "\n",
        "1. Eliminar las imágenes que tienen marca de agua para evitar que el modelo extraiga características espúreas de las imágenes.\n",
        "\n",
        "2. Hacer Data Augmentation sobre las imágenes, sobre todo en los casos de clases desbalanceadas. La otra opción es reducir el número de imágenes de las clases con mayor cantidad y finalmente realizar Data Augmentation sobre todas.\n",
        "\n",
        "3. Reducir la resolución de las imágenes para disminuir el tiempo de entrenamiento.\n",
        "\n",
        "Analizando los puntos anteriores:\n",
        "\n",
        "1. No se hará por falta de tiempo, puesto que hay más de 80k de imágenes que revisar. El sistema ha de ser lo suficientemente robusto como para generalizar y saber que aún con marca de agua las imágenes pueden ser clasificadas. De esta forma servirá también como ruido en las imágenes (que es otra técnica de data augmentation).\n",
        "\n",
        "2. En nuestro caso trabajaremos con los tamaños de imágenes que se nos proporcionan a priori, y en caso de necesitarlo por problemas de convergencia y precisión del modelo se quitarán imágenes de las que más tienen dejando intáctas las que tienen una cantidad de imágenes menor o igual a la media + la desviación típica de número de imágenes. También podría barajarse el uso del argumento `class_weights` del método `model.fit`.\n",
        "\n",
        "3. Esto se hará para reducir el tiempo de entrenamiento, como sugiere el creador del dataset empezaremos con `150x150x3` para ver si arroja buenos resultados.\n"
      ],
      "metadata": {
        "id": "mQLLIs4OkSFK"
      }
    },
    {
      "cell_type": "markdown",
      "source": [
        "### Creando generador de los datos"
      ],
      "metadata": {
        "id": "nR0ihhA8qyQc"
      }
    },
    {
      "cell_type": "markdown",
      "source": [
        "#### Hiperparámetros y otros"
      ],
      "metadata": {
        "id": "yxDCvEYaFfGN"
      }
    },
    {
      "cell_type": "code",
      "source": [
        "_target_size = (150,150)\n",
        "_target_image_size = (150,150,3)\n",
        "\n",
        "_num_classes = 525\n",
        "_batch_size = 128\n",
        "_epochs = 10"
      ],
      "metadata": {
        "id": "1ma9v-y2Fh3N"
      },
      "execution_count": 37,
      "outputs": []
    },
    {
      "cell_type": "code",
      "source": [
        "# birds_df = pd.read_csv(os.path.join(BASE_PATH,\"my_dataset\",\"birds.csv\"), sep=\",\")\n",
        "birds_df = pd.read_csv(os.path.join(BASE_PATH,\"my_dataset\",\"repaired_birds.csv\"), sep=\",\")\n",
        "birds_df['abspath'] = birds_df['filepaths'].apply(lambda x: os.path.join(DATASET_PATH,x))"
      ],
      "metadata": {
        "id": "y-kmEwk6uCCX"
      },
      "execution_count": 24,
      "outputs": []
    },
    {
      "cell_type": "code",
      "source": [
        "display(birds_df.sample(5))"
      ],
      "metadata": {
        "id": "Jwl4y9_au7QF",
        "colab": {
          "base_uri": "https://localhost:8080/",
          "height": 275
        },
        "outputId": "0ebf7d22-33ea-437e-a791-b5590cc1658d"
      },
      "execution_count": 25,
      "outputs": [
        {
          "output_type": "display_data",
          "data": {
            "text/plain": [
              "       class id                      filepaths           labels data set  \\\n",
              "61215     384.0        train/PUNA TEAL/086.jpg        PUNA TEAL    train   \n",
              "53524     337.0  train/MASKED BOBWHITE/086.jpg  MASKED BOBWHITE    train   \n",
              "35          0.0  train/ABBOTTS BABBLER/066.jpg  ABBOTTS BABBLER    train   \n",
              "69040     431.0   train/SATYR TRAGOPAN/069.jpg   SATYR TRAGOPAN    train   \n",
              "74867     467.0    train/TASMANIAN HEN/130.jpg    TASMANIAN HEN    train   \n",
              "\n",
              "                    scientific name  \\\n",
              "61215                     ANAS PUNA   \n",
              "53524  COLINUS VIRGINIANUS RIDGWAYI   \n",
              "35             MALACOCINCLA ABBOTTI   \n",
              "69040               TRAGOPAN SATYRA   \n",
              "74867            TRIBONYX MORTIERII   \n",
              "\n",
              "                                                 abspath  \n",
              "61215        /content/my_dataset/train/PUNA TEAL/086.jpg  \n",
              "53524  /content/my_dataset/train/MASKED BOBWHITE/086.jpg  \n",
              "35     /content/my_dataset/train/ABBOTTS BABBLER/066.jpg  \n",
              "69040   /content/my_dataset/train/SATYR TRAGOPAN/069.jpg  \n",
              "74867    /content/my_dataset/train/TASMANIAN HEN/130.jpg  "
            ],
            "text/html": [
              "\n",
              "  <div id=\"df-36a4388c-ab9f-4884-b65b-0dee1927619c\" class=\"colab-df-container\">\n",
              "    <div>\n",
              "<style scoped>\n",
              "    .dataframe tbody tr th:only-of-type {\n",
              "        vertical-align: middle;\n",
              "    }\n",
              "\n",
              "    .dataframe tbody tr th {\n",
              "        vertical-align: top;\n",
              "    }\n",
              "\n",
              "    .dataframe thead th {\n",
              "        text-align: right;\n",
              "    }\n",
              "</style>\n",
              "<table border=\"1\" class=\"dataframe\">\n",
              "  <thead>\n",
              "    <tr style=\"text-align: right;\">\n",
              "      <th></th>\n",
              "      <th>class id</th>\n",
              "      <th>filepaths</th>\n",
              "      <th>labels</th>\n",
              "      <th>data set</th>\n",
              "      <th>scientific name</th>\n",
              "      <th>abspath</th>\n",
              "    </tr>\n",
              "  </thead>\n",
              "  <tbody>\n",
              "    <tr>\n",
              "      <th>61215</th>\n",
              "      <td>384.0</td>\n",
              "      <td>train/PUNA TEAL/086.jpg</td>\n",
              "      <td>PUNA TEAL</td>\n",
              "      <td>train</td>\n",
              "      <td>ANAS PUNA</td>\n",
              "      <td>/content/my_dataset/train/PUNA TEAL/086.jpg</td>\n",
              "    </tr>\n",
              "    <tr>\n",
              "      <th>53524</th>\n",
              "      <td>337.0</td>\n",
              "      <td>train/MASKED BOBWHITE/086.jpg</td>\n",
              "      <td>MASKED BOBWHITE</td>\n",
              "      <td>train</td>\n",
              "      <td>COLINUS VIRGINIANUS RIDGWAYI</td>\n",
              "      <td>/content/my_dataset/train/MASKED BOBWHITE/086.jpg</td>\n",
              "    </tr>\n",
              "    <tr>\n",
              "      <th>35</th>\n",
              "      <td>0.0</td>\n",
              "      <td>train/ABBOTTS BABBLER/066.jpg</td>\n",
              "      <td>ABBOTTS BABBLER</td>\n",
              "      <td>train</td>\n",
              "      <td>MALACOCINCLA ABBOTTI</td>\n",
              "      <td>/content/my_dataset/train/ABBOTTS BABBLER/066.jpg</td>\n",
              "    </tr>\n",
              "    <tr>\n",
              "      <th>69040</th>\n",
              "      <td>431.0</td>\n",
              "      <td>train/SATYR TRAGOPAN/069.jpg</td>\n",
              "      <td>SATYR TRAGOPAN</td>\n",
              "      <td>train</td>\n",
              "      <td>TRAGOPAN SATYRA</td>\n",
              "      <td>/content/my_dataset/train/SATYR TRAGOPAN/069.jpg</td>\n",
              "    </tr>\n",
              "    <tr>\n",
              "      <th>74867</th>\n",
              "      <td>467.0</td>\n",
              "      <td>train/TASMANIAN HEN/130.jpg</td>\n",
              "      <td>TASMANIAN HEN</td>\n",
              "      <td>train</td>\n",
              "      <td>TRIBONYX MORTIERII</td>\n",
              "      <td>/content/my_dataset/train/TASMANIAN HEN/130.jpg</td>\n",
              "    </tr>\n",
              "  </tbody>\n",
              "</table>\n",
              "</div>\n",
              "    <div class=\"colab-df-buttons\">\n",
              "\n",
              "  <div class=\"colab-df-container\">\n",
              "    <button class=\"colab-df-convert\" onclick=\"convertToInteractive('df-36a4388c-ab9f-4884-b65b-0dee1927619c')\"\n",
              "            title=\"Convert this dataframe to an interactive table.\"\n",
              "            style=\"display:none;\">\n",
              "\n",
              "  <svg xmlns=\"http://www.w3.org/2000/svg\" height=\"24px\" viewBox=\"0 -960 960 960\">\n",
              "    <path d=\"M120-120v-720h720v720H120Zm60-500h600v-160H180v160Zm220 220h160v-160H400v160Zm0 220h160v-160H400v160ZM180-400h160v-160H180v160Zm440 0h160v-160H620v160ZM180-180h160v-160H180v160Zm440 0h160v-160H620v160Z\"/>\n",
              "  </svg>\n",
              "    </button>\n",
              "\n",
              "  <style>\n",
              "    .colab-df-container {\n",
              "      display:flex;\n",
              "      gap: 12px;\n",
              "    }\n",
              "\n",
              "    .colab-df-convert {\n",
              "      background-color: #E8F0FE;\n",
              "      border: none;\n",
              "      border-radius: 50%;\n",
              "      cursor: pointer;\n",
              "      display: none;\n",
              "      fill: #1967D2;\n",
              "      height: 32px;\n",
              "      padding: 0 0 0 0;\n",
              "      width: 32px;\n",
              "    }\n",
              "\n",
              "    .colab-df-convert:hover {\n",
              "      background-color: #E2EBFA;\n",
              "      box-shadow: 0px 1px 2px rgba(60, 64, 67, 0.3), 0px 1px 3px 1px rgba(60, 64, 67, 0.15);\n",
              "      fill: #174EA6;\n",
              "    }\n",
              "\n",
              "    .colab-df-buttons div {\n",
              "      margin-bottom: 4px;\n",
              "    }\n",
              "\n",
              "    [theme=dark] .colab-df-convert {\n",
              "      background-color: #3B4455;\n",
              "      fill: #D2E3FC;\n",
              "    }\n",
              "\n",
              "    [theme=dark] .colab-df-convert:hover {\n",
              "      background-color: #434B5C;\n",
              "      box-shadow: 0px 1px 3px 1px rgba(0, 0, 0, 0.15);\n",
              "      filter: drop-shadow(0px 1px 2px rgba(0, 0, 0, 0.3));\n",
              "      fill: #FFFFFF;\n",
              "    }\n",
              "  </style>\n",
              "\n",
              "    <script>\n",
              "      const buttonEl =\n",
              "        document.querySelector('#df-36a4388c-ab9f-4884-b65b-0dee1927619c button.colab-df-convert');\n",
              "      buttonEl.style.display =\n",
              "        google.colab.kernel.accessAllowed ? 'block' : 'none';\n",
              "\n",
              "      async function convertToInteractive(key) {\n",
              "        const element = document.querySelector('#df-36a4388c-ab9f-4884-b65b-0dee1927619c');\n",
              "        const dataTable =\n",
              "          await google.colab.kernel.invokeFunction('convertToInteractive',\n",
              "                                                    [key], {});\n",
              "        if (!dataTable) return;\n",
              "\n",
              "        const docLinkHtml = 'Like what you see? Visit the ' +\n",
              "          '<a target=\"_blank\" href=https://colab.research.google.com/notebooks/data_table.ipynb>data table notebook</a>'\n",
              "          + ' to learn more about interactive tables.';\n",
              "        element.innerHTML = '';\n",
              "        dataTable['output_type'] = 'display_data';\n",
              "        await google.colab.output.renderOutput(dataTable, element);\n",
              "        const docLink = document.createElement('div');\n",
              "        docLink.innerHTML = docLinkHtml;\n",
              "        element.appendChild(docLink);\n",
              "      }\n",
              "    </script>\n",
              "  </div>\n",
              "\n",
              "\n",
              "<div id=\"df-9a2628fe-96ca-4f38-8302-bf536fcbe02e\">\n",
              "  <button class=\"colab-df-quickchart\" onclick=\"quickchart('df-9a2628fe-96ca-4f38-8302-bf536fcbe02e')\"\n",
              "            title=\"Suggest charts.\"\n",
              "            style=\"display:none;\">\n",
              "\n",
              "<svg xmlns=\"http://www.w3.org/2000/svg\" height=\"24px\"viewBox=\"0 0 24 24\"\n",
              "     width=\"24px\">\n",
              "    <g>\n",
              "        <path d=\"M19 3H5c-1.1 0-2 .9-2 2v14c0 1.1.9 2 2 2h14c1.1 0 2-.9 2-2V5c0-1.1-.9-2-2-2zM9 17H7v-7h2v7zm4 0h-2V7h2v10zm4 0h-2v-4h2v4z\"/>\n",
              "    </g>\n",
              "</svg>\n",
              "  </button>\n",
              "\n",
              "<style>\n",
              "  .colab-df-quickchart {\n",
              "      --bg-color: #E8F0FE;\n",
              "      --fill-color: #1967D2;\n",
              "      --hover-bg-color: #E2EBFA;\n",
              "      --hover-fill-color: #174EA6;\n",
              "      --disabled-fill-color: #AAA;\n",
              "      --disabled-bg-color: #DDD;\n",
              "  }\n",
              "\n",
              "  [theme=dark] .colab-df-quickchart {\n",
              "      --bg-color: #3B4455;\n",
              "      --fill-color: #D2E3FC;\n",
              "      --hover-bg-color: #434B5C;\n",
              "      --hover-fill-color: #FFFFFF;\n",
              "      --disabled-bg-color: #3B4455;\n",
              "      --disabled-fill-color: #666;\n",
              "  }\n",
              "\n",
              "  .colab-df-quickchart {\n",
              "    background-color: var(--bg-color);\n",
              "    border: none;\n",
              "    border-radius: 50%;\n",
              "    cursor: pointer;\n",
              "    display: none;\n",
              "    fill: var(--fill-color);\n",
              "    height: 32px;\n",
              "    padding: 0;\n",
              "    width: 32px;\n",
              "  }\n",
              "\n",
              "  .colab-df-quickchart:hover {\n",
              "    background-color: var(--hover-bg-color);\n",
              "    box-shadow: 0 1px 2px rgba(60, 64, 67, 0.3), 0 1px 3px 1px rgba(60, 64, 67, 0.15);\n",
              "    fill: var(--button-hover-fill-color);\n",
              "  }\n",
              "\n",
              "  .colab-df-quickchart-complete:disabled,\n",
              "  .colab-df-quickchart-complete:disabled:hover {\n",
              "    background-color: var(--disabled-bg-color);\n",
              "    fill: var(--disabled-fill-color);\n",
              "    box-shadow: none;\n",
              "  }\n",
              "\n",
              "  .colab-df-spinner {\n",
              "    border: 2px solid var(--fill-color);\n",
              "    border-color: transparent;\n",
              "    border-bottom-color: var(--fill-color);\n",
              "    animation:\n",
              "      spin 1s steps(1) infinite;\n",
              "  }\n",
              "\n",
              "  @keyframes spin {\n",
              "    0% {\n",
              "      border-color: transparent;\n",
              "      border-bottom-color: var(--fill-color);\n",
              "      border-left-color: var(--fill-color);\n",
              "    }\n",
              "    20% {\n",
              "      border-color: transparent;\n",
              "      border-left-color: var(--fill-color);\n",
              "      border-top-color: var(--fill-color);\n",
              "    }\n",
              "    30% {\n",
              "      border-color: transparent;\n",
              "      border-left-color: var(--fill-color);\n",
              "      border-top-color: var(--fill-color);\n",
              "      border-right-color: var(--fill-color);\n",
              "    }\n",
              "    40% {\n",
              "      border-color: transparent;\n",
              "      border-right-color: var(--fill-color);\n",
              "      border-top-color: var(--fill-color);\n",
              "    }\n",
              "    60% {\n",
              "      border-color: transparent;\n",
              "      border-right-color: var(--fill-color);\n",
              "    }\n",
              "    80% {\n",
              "      border-color: transparent;\n",
              "      border-right-color: var(--fill-color);\n",
              "      border-bottom-color: var(--fill-color);\n",
              "    }\n",
              "    90% {\n",
              "      border-color: transparent;\n",
              "      border-bottom-color: var(--fill-color);\n",
              "    }\n",
              "  }\n",
              "</style>\n",
              "\n",
              "  <script>\n",
              "    async function quickchart(key) {\n",
              "      const quickchartButtonEl =\n",
              "        document.querySelector('#' + key + ' button');\n",
              "      quickchartButtonEl.disabled = true;  // To prevent multiple clicks.\n",
              "      quickchartButtonEl.classList.add('colab-df-spinner');\n",
              "      try {\n",
              "        const charts = await google.colab.kernel.invokeFunction(\n",
              "            'suggestCharts', [key], {});\n",
              "      } catch (error) {\n",
              "        console.error('Error during call to suggestCharts:', error);\n",
              "      }\n",
              "      quickchartButtonEl.classList.remove('colab-df-spinner');\n",
              "      quickchartButtonEl.classList.add('colab-df-quickchart-complete');\n",
              "    }\n",
              "    (() => {\n",
              "      let quickchartButtonEl =\n",
              "        document.querySelector('#df-9a2628fe-96ca-4f38-8302-bf536fcbe02e button');\n",
              "      quickchartButtonEl.style.display =\n",
              "        google.colab.kernel.accessAllowed ? 'block' : 'none';\n",
              "    })();\n",
              "  </script>\n",
              "</div>\n",
              "    </div>\n",
              "  </div>\n"
            ]
          },
          "metadata": {}
        }
      ]
    },
    {
      "cell_type": "code",
      "source": [
        "traindf = birds_df[(birds_df['data set']=='train') | (birds_df['data set']=='valid')][[\"abspath\",\"labels\"]]\n",
        "testdf = birds_df[birds_df['data set']=='test'][[\"abspath\",\"labels\"]]\n",
        "\n",
        "print(\"Tamaño del dataset de entrenamiento + validación: \", traindf.shape)\n",
        "print(\"Tamaño del dataset de test: \", testdf.shape)"
      ],
      "metadata": {
        "id": "xRrPrI3_uKzU",
        "outputId": "46f26ff1-8664-4074-c227-d24823642a44",
        "colab": {
          "base_uri": "https://localhost:8080/"
        }
      },
      "execution_count": 26,
      "outputs": [
        {
          "output_type": "stream",
          "name": "stdout",
          "text": [
            "Tamaño del dataset de entrenamiento + validación:  (87260, 2)\n",
            "Tamaño del dataset de test:  (2625, 2)\n"
          ]
        }
      ]
    },
    {
      "cell_type": "code",
      "source": [
        "traindf = traindf.sample(frac=1, random_state=42)\n",
        "display(traindf.head())\n",
        "traindf = traindf.reset_index(drop=True)\n",
        "# display(traindf.head())"
      ],
      "metadata": {
        "id": "LUgqr8ilytZD",
        "outputId": "a1a9d8af-c65f-4ab3-a19b-93125a36b1dd",
        "colab": {
          "base_uri": "https://localhost:8080/",
          "height": 206
        }
      },
      "execution_count": 27,
      "outputs": [
        {
          "output_type": "display_data",
          "data": {
            "text/plain": [
              "                                                 abspath                labels\n",
              "1853   /content/my_dataset/train/ALEXANDRINE PARAKEET...  ALEXANDRINE PARAKEET\n",
              "89266    /content/my_dataset/valid/RED HEADED DUCK/2.jpg       RED HEADED DUCK\n",
              "17635       /content/my_dataset/train/BUFFLEHEAD/143.jpg            BUFFLEHEAD\n",
              "54826             /content/my_dataset/train/MYNA/058.jpg                  MYNA\n",
              "69049   /content/my_dataset/train/SATYR TRAGOPAN/103.jpg        SATYR TRAGOPAN"
            ],
            "text/html": [
              "\n",
              "  <div id=\"df-dda40b88-0a59-4f17-b976-41c204337374\" class=\"colab-df-container\">\n",
              "    <div>\n",
              "<style scoped>\n",
              "    .dataframe tbody tr th:only-of-type {\n",
              "        vertical-align: middle;\n",
              "    }\n",
              "\n",
              "    .dataframe tbody tr th {\n",
              "        vertical-align: top;\n",
              "    }\n",
              "\n",
              "    .dataframe thead th {\n",
              "        text-align: right;\n",
              "    }\n",
              "</style>\n",
              "<table border=\"1\" class=\"dataframe\">\n",
              "  <thead>\n",
              "    <tr style=\"text-align: right;\">\n",
              "      <th></th>\n",
              "      <th>abspath</th>\n",
              "      <th>labels</th>\n",
              "    </tr>\n",
              "  </thead>\n",
              "  <tbody>\n",
              "    <tr>\n",
              "      <th>1853</th>\n",
              "      <td>/content/my_dataset/train/ALEXANDRINE PARAKEET...</td>\n",
              "      <td>ALEXANDRINE PARAKEET</td>\n",
              "    </tr>\n",
              "    <tr>\n",
              "      <th>89266</th>\n",
              "      <td>/content/my_dataset/valid/RED HEADED DUCK/2.jpg</td>\n",
              "      <td>RED HEADED DUCK</td>\n",
              "    </tr>\n",
              "    <tr>\n",
              "      <th>17635</th>\n",
              "      <td>/content/my_dataset/train/BUFFLEHEAD/143.jpg</td>\n",
              "      <td>BUFFLEHEAD</td>\n",
              "    </tr>\n",
              "    <tr>\n",
              "      <th>54826</th>\n",
              "      <td>/content/my_dataset/train/MYNA/058.jpg</td>\n",
              "      <td>MYNA</td>\n",
              "    </tr>\n",
              "    <tr>\n",
              "      <th>69049</th>\n",
              "      <td>/content/my_dataset/train/SATYR TRAGOPAN/103.jpg</td>\n",
              "      <td>SATYR TRAGOPAN</td>\n",
              "    </tr>\n",
              "  </tbody>\n",
              "</table>\n",
              "</div>\n",
              "    <div class=\"colab-df-buttons\">\n",
              "\n",
              "  <div class=\"colab-df-container\">\n",
              "    <button class=\"colab-df-convert\" onclick=\"convertToInteractive('df-dda40b88-0a59-4f17-b976-41c204337374')\"\n",
              "            title=\"Convert this dataframe to an interactive table.\"\n",
              "            style=\"display:none;\">\n",
              "\n",
              "  <svg xmlns=\"http://www.w3.org/2000/svg\" height=\"24px\" viewBox=\"0 -960 960 960\">\n",
              "    <path d=\"M120-120v-720h720v720H120Zm60-500h600v-160H180v160Zm220 220h160v-160H400v160Zm0 220h160v-160H400v160ZM180-400h160v-160H180v160Zm440 0h160v-160H620v160ZM180-180h160v-160H180v160Zm440 0h160v-160H620v160Z\"/>\n",
              "  </svg>\n",
              "    </button>\n",
              "\n",
              "  <style>\n",
              "    .colab-df-container {\n",
              "      display:flex;\n",
              "      gap: 12px;\n",
              "    }\n",
              "\n",
              "    .colab-df-convert {\n",
              "      background-color: #E8F0FE;\n",
              "      border: none;\n",
              "      border-radius: 50%;\n",
              "      cursor: pointer;\n",
              "      display: none;\n",
              "      fill: #1967D2;\n",
              "      height: 32px;\n",
              "      padding: 0 0 0 0;\n",
              "      width: 32px;\n",
              "    }\n",
              "\n",
              "    .colab-df-convert:hover {\n",
              "      background-color: #E2EBFA;\n",
              "      box-shadow: 0px 1px 2px rgba(60, 64, 67, 0.3), 0px 1px 3px 1px rgba(60, 64, 67, 0.15);\n",
              "      fill: #174EA6;\n",
              "    }\n",
              "\n",
              "    .colab-df-buttons div {\n",
              "      margin-bottom: 4px;\n",
              "    }\n",
              "\n",
              "    [theme=dark] .colab-df-convert {\n",
              "      background-color: #3B4455;\n",
              "      fill: #D2E3FC;\n",
              "    }\n",
              "\n",
              "    [theme=dark] .colab-df-convert:hover {\n",
              "      background-color: #434B5C;\n",
              "      box-shadow: 0px 1px 3px 1px rgba(0, 0, 0, 0.15);\n",
              "      filter: drop-shadow(0px 1px 2px rgba(0, 0, 0, 0.3));\n",
              "      fill: #FFFFFF;\n",
              "    }\n",
              "  </style>\n",
              "\n",
              "    <script>\n",
              "      const buttonEl =\n",
              "        document.querySelector('#df-dda40b88-0a59-4f17-b976-41c204337374 button.colab-df-convert');\n",
              "      buttonEl.style.display =\n",
              "        google.colab.kernel.accessAllowed ? 'block' : 'none';\n",
              "\n",
              "      async function convertToInteractive(key) {\n",
              "        const element = document.querySelector('#df-dda40b88-0a59-4f17-b976-41c204337374');\n",
              "        const dataTable =\n",
              "          await google.colab.kernel.invokeFunction('convertToInteractive',\n",
              "                                                    [key], {});\n",
              "        if (!dataTable) return;\n",
              "\n",
              "        const docLinkHtml = 'Like what you see? Visit the ' +\n",
              "          '<a target=\"_blank\" href=https://colab.research.google.com/notebooks/data_table.ipynb>data table notebook</a>'\n",
              "          + ' to learn more about interactive tables.';\n",
              "        element.innerHTML = '';\n",
              "        dataTable['output_type'] = 'display_data';\n",
              "        await google.colab.output.renderOutput(dataTable, element);\n",
              "        const docLink = document.createElement('div');\n",
              "        docLink.innerHTML = docLinkHtml;\n",
              "        element.appendChild(docLink);\n",
              "      }\n",
              "    </script>\n",
              "  </div>\n",
              "\n",
              "\n",
              "<div id=\"df-bfdd240e-9eca-40bb-b206-0ddcdcc977cd\">\n",
              "  <button class=\"colab-df-quickchart\" onclick=\"quickchart('df-bfdd240e-9eca-40bb-b206-0ddcdcc977cd')\"\n",
              "            title=\"Suggest charts.\"\n",
              "            style=\"display:none;\">\n",
              "\n",
              "<svg xmlns=\"http://www.w3.org/2000/svg\" height=\"24px\"viewBox=\"0 0 24 24\"\n",
              "     width=\"24px\">\n",
              "    <g>\n",
              "        <path d=\"M19 3H5c-1.1 0-2 .9-2 2v14c0 1.1.9 2 2 2h14c1.1 0 2-.9 2-2V5c0-1.1-.9-2-2-2zM9 17H7v-7h2v7zm4 0h-2V7h2v10zm4 0h-2v-4h2v4z\"/>\n",
              "    </g>\n",
              "</svg>\n",
              "  </button>\n",
              "\n",
              "<style>\n",
              "  .colab-df-quickchart {\n",
              "      --bg-color: #E8F0FE;\n",
              "      --fill-color: #1967D2;\n",
              "      --hover-bg-color: #E2EBFA;\n",
              "      --hover-fill-color: #174EA6;\n",
              "      --disabled-fill-color: #AAA;\n",
              "      --disabled-bg-color: #DDD;\n",
              "  }\n",
              "\n",
              "  [theme=dark] .colab-df-quickchart {\n",
              "      --bg-color: #3B4455;\n",
              "      --fill-color: #D2E3FC;\n",
              "      --hover-bg-color: #434B5C;\n",
              "      --hover-fill-color: #FFFFFF;\n",
              "      --disabled-bg-color: #3B4455;\n",
              "      --disabled-fill-color: #666;\n",
              "  }\n",
              "\n",
              "  .colab-df-quickchart {\n",
              "    background-color: var(--bg-color);\n",
              "    border: none;\n",
              "    border-radius: 50%;\n",
              "    cursor: pointer;\n",
              "    display: none;\n",
              "    fill: var(--fill-color);\n",
              "    height: 32px;\n",
              "    padding: 0;\n",
              "    width: 32px;\n",
              "  }\n",
              "\n",
              "  .colab-df-quickchart:hover {\n",
              "    background-color: var(--hover-bg-color);\n",
              "    box-shadow: 0 1px 2px rgba(60, 64, 67, 0.3), 0 1px 3px 1px rgba(60, 64, 67, 0.15);\n",
              "    fill: var(--button-hover-fill-color);\n",
              "  }\n",
              "\n",
              "  .colab-df-quickchart-complete:disabled,\n",
              "  .colab-df-quickchart-complete:disabled:hover {\n",
              "    background-color: var(--disabled-bg-color);\n",
              "    fill: var(--disabled-fill-color);\n",
              "    box-shadow: none;\n",
              "  }\n",
              "\n",
              "  .colab-df-spinner {\n",
              "    border: 2px solid var(--fill-color);\n",
              "    border-color: transparent;\n",
              "    border-bottom-color: var(--fill-color);\n",
              "    animation:\n",
              "      spin 1s steps(1) infinite;\n",
              "  }\n",
              "\n",
              "  @keyframes spin {\n",
              "    0% {\n",
              "      border-color: transparent;\n",
              "      border-bottom-color: var(--fill-color);\n",
              "      border-left-color: var(--fill-color);\n",
              "    }\n",
              "    20% {\n",
              "      border-color: transparent;\n",
              "      border-left-color: var(--fill-color);\n",
              "      border-top-color: var(--fill-color);\n",
              "    }\n",
              "    30% {\n",
              "      border-color: transparent;\n",
              "      border-left-color: var(--fill-color);\n",
              "      border-top-color: var(--fill-color);\n",
              "      border-right-color: var(--fill-color);\n",
              "    }\n",
              "    40% {\n",
              "      border-color: transparent;\n",
              "      border-right-color: var(--fill-color);\n",
              "      border-top-color: var(--fill-color);\n",
              "    }\n",
              "    60% {\n",
              "      border-color: transparent;\n",
              "      border-right-color: var(--fill-color);\n",
              "    }\n",
              "    80% {\n",
              "      border-color: transparent;\n",
              "      border-right-color: var(--fill-color);\n",
              "      border-bottom-color: var(--fill-color);\n",
              "    }\n",
              "    90% {\n",
              "      border-color: transparent;\n",
              "      border-bottom-color: var(--fill-color);\n",
              "    }\n",
              "  }\n",
              "</style>\n",
              "\n",
              "  <script>\n",
              "    async function quickchart(key) {\n",
              "      const quickchartButtonEl =\n",
              "        document.querySelector('#' + key + ' button');\n",
              "      quickchartButtonEl.disabled = true;  // To prevent multiple clicks.\n",
              "      quickchartButtonEl.classList.add('colab-df-spinner');\n",
              "      try {\n",
              "        const charts = await google.colab.kernel.invokeFunction(\n",
              "            'suggestCharts', [key], {});\n",
              "      } catch (error) {\n",
              "        console.error('Error during call to suggestCharts:', error);\n",
              "      }\n",
              "      quickchartButtonEl.classList.remove('colab-df-spinner');\n",
              "      quickchartButtonEl.classList.add('colab-df-quickchart-complete');\n",
              "    }\n",
              "    (() => {\n",
              "      let quickchartButtonEl =\n",
              "        document.querySelector('#df-bfdd240e-9eca-40bb-b206-0ddcdcc977cd button');\n",
              "      quickchartButtonEl.style.display =\n",
              "        google.colab.kernel.accessAllowed ? 'block' : 'none';\n",
              "    })();\n",
              "  </script>\n",
              "</div>\n",
              "    </div>\n",
              "  </div>\n"
            ]
          },
          "metadata": {}
        }
      ]
    },
    {
      "cell_type": "code",
      "source": [
        "# Crear Image DataGenerator, únicamente trabaja con etiquetas en ONE HOT ENCODING\n",
        "from tensorflow.keras.preprocessing.image import ImageDataGenerator\n",
        "\n",
        "datagen = ImageDataGenerator(\n",
        "    rescale=1./255.,\n",
        "    rotation_range = 15,\n",
        "    width_shift_range = 0.2,\n",
        "    height_shift_range = 0.2,\n",
        "    horizontal_flip = True,\n",
        "    vertical_flip = True,\n",
        "    zoom_range = 0.2,\n",
        "    validation_split=0.20\n",
        ")"
      ],
      "metadata": {
        "id": "B1qcPrwRq3Co"
      },
      "execution_count": 28,
      "outputs": []
    },
    {
      "cell_type": "code",
      "source": [
        "y_test_real = testdf['labels']"
      ],
      "metadata": {
        "id": "rlJ80RUUOcdd"
      },
      "execution_count": 44,
      "outputs": []
    },
    {
      "cell_type": "code",
      "source": [
        "train_generator = datagen.flow_from_dataframe(\n",
        "    dataframe=traindf,\n",
        "    directory=None,\n",
        "    x_col=\"abspath\",\n",
        "    y_col=\"labels\",\n",
        "    subset=\"training\",\n",
        "    batch_size=_batch_size,\n",
        "    seed=42,\n",
        "    shuffle=False,\n",
        "    class_mode=\"categorical\",\n",
        "    target_size=_target_size\n",
        ")\n",
        "valid_generator = datagen.flow_from_dataframe(\n",
        "    dataframe=traindf,\n",
        "    directory=None,\n",
        "    x_col=\"abspath\",\n",
        "    y_col=\"labels\",\n",
        "    subset=\"validation\",\n",
        "    batch_size=_batch_size,\n",
        "    seed=42,\n",
        "    shuffle=False,\n",
        "    class_mode=\"categorical\",\n",
        "    target_size=_target_size\n",
        ")\n",
        "\n",
        "test_datagen=ImageDataGenerator(rescale=1./255.)\n",
        "test_generator = datagen.flow_from_dataframe(\n",
        "    dataframe=testdf,\n",
        "    directory=None,\n",
        "    x_col=\"abspath\",\n",
        "    y_col=None,\n",
        "    batch_size=_batch_size,\n",
        "    seed=42,\n",
        "    shuffle=False,\n",
        "    class_mode=None,\n",
        "    target_size=_target_size\n",
        ")\n",
        "\n",
        "STEP_SIZE_TRAIN=train_generator.n//train_generator.batch_size\n",
        "STEP_SIZE_VALID=valid_generator.n//valid_generator.batch_size\n",
        "STEP_SIZE_TEST=test_generator.n//test_generator.batch_size"
      ],
      "metadata": {
        "id": "Q4DHAGBW009O",
        "outputId": "3a928b68-5704-4cf4-f405-eb9d37a4896a",
        "colab": {
          "base_uri": "https://localhost:8080/"
        }
      },
      "execution_count": 38,
      "outputs": [
        {
          "output_type": "stream",
          "name": "stdout",
          "text": [
            "Found 69808 validated image filenames belonging to 525 classes.\n",
            "Found 17452 validated image filenames belonging to 525 classes.\n",
            "Found 2625 validated image filenames.\n"
          ]
        }
      ]
    },
    {
      "cell_type": "markdown",
      "source": [
        "## 4. Desarrollo de la arquitectura de red neuronal y entrenamiento de la solución"
      ],
      "metadata": {
        "id": "3s8yA8uRW77b"
      }
    },
    {
      "cell_type": "markdown",
      "source": [
        "Pasos a seguir\n",
        "\n",
        "1. Probar con un Perceptrón Multicapa (MLP), de esta forma tenemos un nivel base sobre el que trabajar.\n",
        "2. Probar con una CNN sencilla, jugando con los bloques y el número de filtros.\n",
        "3. Probar con la CNN resultante incorporando los métodos aprendidos para reducir el overfitting.\n",
        "4. Probar con alguna red ya cononocida haciendo uso de transfer learning y fine tunning.\n",
        "5. Probar con otra red siguiendo los pasos del punto anterior.\n",
        "6. Seleccionar el mejor modelo"
      ],
      "metadata": {
        "id": "HkKrn26ilbxk"
      }
    },
    {
      "cell_type": "markdown",
      "source": [
        "### 4.1. MLP"
      ],
      "metadata": {
        "id": "jbPsxIHNBVrf"
      }
    },
    {
      "cell_type": "code",
      "source": [
        "# Arquitectura de red - modo API Sequential\n",
        "mlp = Sequential()\n",
        "mlp.add(InputLayer(_target_image_size))\n",
        "mlp.add(Flatten())\n",
        "mlp.add(Dense(2048, input_shape=(150*150*3,), activation=\"relu\"))\n",
        "mlp.add(Dense(1024, activation=\"relu\"))\n",
        "mlp.add(Dense(_num_classes, activation=\"softmax\"))\n",
        "mlp.summary()"
      ],
      "metadata": {
        "colab": {
          "base_uri": "https://localhost:8080/"
        },
        "id": "gad2Q5dXBd0O",
        "outputId": "3a1f2392-b8f8-4589-af9b-0c164fa5be60"
      },
      "execution_count": 39,
      "outputs": [
        {
          "output_type": "stream",
          "name": "stdout",
          "text": [
            "Model: \"sequential_1\"\n",
            "_________________________________________________________________\n",
            " Layer (type)                Output Shape              Param #   \n",
            "=================================================================\n",
            " flatten_1 (Flatten)         (None, 67500)             0         \n",
            "                                                                 \n",
            " dense_3 (Dense)             (None, 2048)              138242048 \n",
            "                                                                 \n",
            " dense_4 (Dense)             (None, 1024)              2098176   \n",
            "                                                                 \n",
            " dense_5 (Dense)             (None, 525)               538125    \n",
            "                                                                 \n",
            "=================================================================\n",
            "Total params: 140878349 (537.41 MB)\n",
            "Trainable params: 140878349 (537.41 MB)\n",
            "Non-trainable params: 0 (0.00 Byte)\n",
            "_________________________________________________________________\n"
          ]
        }
      ]
    },
    {
      "cell_type": "code",
      "source": [
        "# Compilamos el modelo y entrenamos\n",
        "mlp.compile(optimizer=SGD(learning_rate=0.01),\n",
        "            loss=\"categorical_crossentropy\",\n",
        "            metrics=[\"accuracy\"]\n",
        "            )"
      ],
      "metadata": {
        "id": "sue9Q8ceDBAj"
      },
      "execution_count": 40,
      "outputs": []
    },
    {
      "cell_type": "code",
      "source": [
        "H = mlp.fit(train_generator,\n",
        "            steps_per_epoch=STEP_SIZE_TRAIN,\n",
        "            validation_data=valid_generator,\n",
        "            epochs=10\n",
        ")"
      ],
      "metadata": {
        "colab": {
          "base_uri": "https://localhost:8080/"
        },
        "id": "M6MKaewIDJds",
        "outputId": "f985fcf0-be55-47f8-ff3c-0fbd676a91bd"
      },
      "execution_count": 41,
      "outputs": [
        {
          "output_type": "stream",
          "name": "stdout",
          "text": [
            "Epoch 1/10\n",
            "545/545 [==============================] - 721s 1s/step - loss: 6.2323 - accuracy: 0.0049 - val_loss: 6.1503 - val_accuracy: 0.0073\n",
            "Epoch 2/10\n",
            "545/545 [==============================] - 659s 1s/step - loss: 6.0573 - accuracy: 0.0098 - val_loss: 5.9519 - val_accuracy: 0.0140\n",
            "Epoch 3/10\n",
            "545/545 [==============================] - 610s 1s/step - loss: 5.8681 - accuracy: 0.0160 - val_loss: 5.7866 - val_accuracy: 0.0182\n",
            "Epoch 4/10\n",
            "545/545 [==============================] - 609s 1s/step - loss: 5.7141 - accuracy: 0.0209 - val_loss: 5.6616 - val_accuracy: 0.0207\n",
            "Epoch 5/10\n",
            "545/545 [==============================] - 633s 1s/step - loss: 5.6033 - accuracy: 0.0252 - val_loss: 5.5676 - val_accuracy: 0.0268\n",
            "Epoch 6/10\n",
            "545/545 [==============================] - 617s 1s/step - loss: 5.5436 - accuracy: 0.0271 - val_loss: 5.5081 - val_accuracy: 0.0277\n",
            "Epoch 7/10\n",
            "545/545 [==============================] - 625s 1s/step - loss: 5.4863 - accuracy: 0.0312 - val_loss: 5.4642 - val_accuracy: 0.0327\n",
            "Epoch 8/10\n",
            "545/545 [==============================] - 616s 1s/step - loss: 5.4383 - accuracy: 0.0340 - val_loss: 5.4350 - val_accuracy: 0.0321\n",
            "Epoch 9/10\n",
            "545/545 [==============================] - 607s 1s/step - loss: 5.4015 - accuracy: 0.0362 - val_loss: 5.4058 - val_accuracy: 0.0348\n",
            "Epoch 10/10\n",
            "545/545 [==============================] - 612s 1s/step - loss: 5.3634 - accuracy: 0.0378 - val_loss: 5.3415 - val_accuracy: 0.0386\n"
          ]
        }
      ]
    },
    {
      "cell_type": "code",
      "source": [
        "# Learning curves\n",
        "visualize_learning_curve(H)\n",
        "\n",
        "# Evaluando el modelo de predicción con las imágenes de test\n",
        "# necesaria modificación de la función o generar x_test, y_test\n",
        "# evaluate_model(mlp, x_te, y_test)"
      ],
      "metadata": {
        "colab": {
          "base_uri": "https://localhost:8080/",
          "height": 477
        },
        "id": "P9HZikT9LwFy",
        "outputId": "cd2daf3f-0b9b-412b-b415-d103858ee9d4"
      },
      "execution_count": 45,
      "outputs": [
        {
          "output_type": "display_data",
          "data": {
            "text/plain": [
              "<Figure size 640x480 with 1 Axes>"
            ],
            "image/png": "[encoded data removed]"
          },
          "metadata": {}
        }
      ]
    },
    {
      "cell_type": "markdown",
      "source": [
        "### 4.2. CNN custom\n",
        "\n",
        "**A PARTIR DE AQUÍ NO HE EJECUTADO Y HAY QUE HACER MÁS CAMBIOS**"
      ],
      "metadata": {
        "id": "Z8MCyEjo4HWg"
      }
    },
    {
      "cell_type": "code",
      "source": [
        "# 1.BASE MODEL\n",
        "input = layers.Input(shape=(x_tr.shape[1], x_tr.shape[2], x_tr.shape[3]))\n",
        "\n",
        "# Bloque 1\n",
        "x1 = layers.Conv2D(32, (3,3), padding=\"same\", activation=\"relu\")(input)\n",
        "x1 = layers.Conv2D(32, (3,3), padding=\"same\", activation=\"relu\")(x1)\n",
        "x1 = layers.MaxPooling2D(pool_size=(2,2))(x1)\n",
        "# se podría añadir Dropout\n",
        "# Bloque 2\n",
        "x2 = layers.Conv2D(64, (3,3), padding=\"same\", activation=\"relu\")(x1)\n",
        "x2 = layers.Conv2D(64, (3,3), padding=\"same\", activation=\"relu\")(x2)\n",
        "x2 = layers.MaxPooling2D(pool_size=(2,2))(x2)\n",
        "# Bloque 3\n",
        "x3 = layers.Conv2D(256, (3,3), padding=\"same\", activation=\"relu\")(x2)\n",
        "x3 = layers.Conv2D(256, (3,3), padding=\"same\", activation=\"relu\")(x3)\n",
        "x3 = layers.MaxPooling2D(pool_size=(2,2))(x3)\n",
        "\n",
        "# 2.TOP MODEL\n",
        "# también se pueden concatenar dos redes con layers.Concatenate para\n",
        "# redes más complejas\n",
        "xfc = layers.Flatten()(x3)\n",
        "xfc = layers.Dense(512, activation=\"relu\")(xfc)\n",
        "# Se podria añadir dropout\n",
        "predictions = layers.Dense(10, activation=\"softmax\")(xfc)\n",
        "\n",
        "# 3. Unimos las entradas y salidas del modelo\n",
        "model_cnn = Model(inputs=input, outputs=predictions)\n",
        "\n",
        "model_cnn.summary()"
      ],
      "metadata": {
        "id": "65tNDJc04SWt"
      },
      "execution_count": null,
      "outputs": []
    },
    {
      "cell_type": "markdown",
      "source": [
        "### 4.3. CNN con técnicas aprendidas en clase para reducir overfitting y demás.\n",
        "\n",
        "- Batch normalization\n",
        "- Regularización\n",
        "- Dropout\n",
        "\n",
        "De momento sólo he puesto el primero, pero convendría meter los 3"
      ],
      "metadata": {
        "id": "0xGUId4C4pbh"
      }
    },
    {
      "cell_type": "code",
      "source": [
        "# 1.BASE MODEL\n",
        "input = layers.Input(shape=(x_tr.shape[1], x_tr.shape[2], x_tr.shape[3]))\n",
        "\n",
        "# Bloque 1\n",
        "x1 = layers.Conv2D(32, (3,3), padding=\"same\", activation=\"relu\")(input)\n",
        "x1 = layers.BatchNormalization()(x1)\n",
        "x1 = layers.Conv2D(32, (3,3), padding=\"same\", activation=\"relu\")(x1)\n",
        "x1 = layers.BatchNormalization()(x1)\n",
        "x1 = layers.MaxPooling2D(pool_size=(2,2))(x1)\n",
        "# se podría añadir Dropout\n",
        "# Bloque 2\n",
        "x2 = layers.Conv2D(64, (3,3), padding=\"same\", activation=\"relu\")(x1)\n",
        "x2 = layers.BatchNormalization()(x2)\n",
        "x2 = layers.Conv2D(64, (3,3), padding=\"same\", activation=\"relu\")(x2)\n",
        "x2 = layers.BatchNormalization()(x2)\n",
        "x2 = layers.MaxPooling2D(pool_size=(2,2))(x2)\n",
        "# Bloque 3\n",
        "x3 = layers.Conv2D(256, (3,3), padding=\"same\", activation=\"relu\")(x2)\n",
        "x3 = layers.BatchNormalization()(x3)\n",
        "x3 = layers.Conv2D(256, (3,3), padding=\"same\", activation=\"relu\")(x3)\n",
        "x3 = layers.BatchNormalization()(x3)\n",
        "x3 = layers.MaxPooling2D(pool_size=(2,2))(x3)\n",
        "\n",
        "# 2.TOP MODEL\n",
        "# también se pueden concatenar dos redes con layers.Concatenate para\n",
        "# redes más complejas\n",
        "xfc = layers.Flatten()(x3)\n",
        "xfc = layers.Dense(512, activation=\"relu\")(xfc)\n",
        "xfc = layers.BatchNormalization()(xfc)\n",
        "# Se podria añadir dropout\n",
        "predictions = layers.Dense(10, activation=\"softmax\")(xfc)\n",
        "\n",
        "# 3. Unimos las entradas y salidas del modelo\n",
        "model_cnn = Model(inputs=input, outputs=predictions)\n",
        "\n",
        "model_cnn.summary()"
      ],
      "metadata": {
        "id": "6T81dcDw47lM"
      },
      "execution_count": null,
      "outputs": []
    },
    {
      "cell_type": "markdown",
      "source": [
        "### 4.4. Arquitectura state-of-art\n",
        "\n",
        "Me parecen interesantes estas dos:\n",
        "\n",
        "1. [ResNet50](https://keras.io/api/applications/resnet/#resnet50-function)\n",
        "2. [InceptionResNetV2](https://keras.io/api/applications/inceptionresnetv2)\n",
        "\n",
        "Pues ambas se comportan muy bien pero la primera tarda la mitad del tiempo en GPU que la segunda, con lo cuál podríamos además evaluar cómo de buena es la segunda como para que compense usarla y gastar el doble de tiempo. La información de estas implementaciones está aquí: https://keras.io/api/applications/\n",
        "\n",
        "Espero que les guste la idea :)\n",
        "\n"
      ],
      "metadata": {
        "id": "93fcNvc55ot1"
      }
    },
    {
      "cell_type": "markdown",
      "source": [
        "#### 4.4.1. Transfer learning"
      ],
      "metadata": {
        "id": "Jk_KUIPi8gWM"
      }
    },
    {
      "cell_type": "markdown",
      "source": [
        "##### ResNet50"
      ],
      "metadata": {
        "id": "5KHVYZzR80pz"
      }
    },
    {
      "cell_type": "code",
      "source": [
        "# Cargar arquitectura y pesos\n",
        "base_model = ResNet50(weights=\"imagenet\",\n",
        "                   include_top=False,\n",
        "                   input_shape=_target_image_size)\n",
        "\n",
        "base_model.summary()"
      ],
      "metadata": {
        "id": "9kPQ4URF8SUE"
      },
      "execution_count": null,
      "outputs": []
    },
    {
      "cell_type": "code",
      "source": [
        "# transfer learning, no entrenamos el base_model\n",
        "base_model.trainable = False\n",
        "\n",
        "# Conectar el modelo con el top model\n",
        "pre_trained_model = Sequential()\n",
        "pre_trained_model.add(base_model)\n",
        "pre_trained_model.add(layers.Flatten())\n",
        "pre_trained_model.add(layers.Dense(256, activation='relu'))\n",
        "pre_trained_model.add(layers.Dense(10, activation='softmax'))\n",
        "pre_trained_model.summary()"
      ],
      "metadata": {
        "id": "kaYEouqh8fUk"
      },
      "execution_count": null,
      "outputs": []
    },
    {
      "cell_type": "code",
      "source": [
        "# Compilamos el modelo y entrenamos\n",
        "pre_trained_model.compile(optimizer=Adam(learning_rate=learning_rate),\n",
        "            loss=\"categorical_crossentropy\", # quitamos sparse, porque estamos en OHE\n",
        "            metrics=[\"accuracy\"]\n",
        "            )"
      ],
      "metadata": {
        "id": "zuZj5wQi8l24"
      },
      "execution_count": null,
      "outputs": []
    },
    {
      "cell_type": "code",
      "source": [
        "# Entrenamos la CNN\n",
        "print(\"[INFO]: Entrenando la red neuronal...\")\n",
        "H = pre_trained_model.fit(x_tr, y_tr_ohe,\n",
        "                          batch_size=batch_size,\n",
        "                        epochs=epochs,\n",
        "                        # steps_per_epoch=x_tr.shape[0] // batch_size,\n",
        "                        validation_data=(x_val, y_val_ohe)\n",
        ")"
      ],
      "metadata": {
        "id": "2qYOs__I8nUe"
      },
      "execution_count": null,
      "outputs": []
    },
    {
      "cell_type": "markdown",
      "source": [
        "##### InceptionResNetV2"
      ],
      "metadata": {
        "id": "qYgsN4BO85yM"
      }
    },
    {
      "cell_type": "code",
      "source": [
        "# Cargar arquitectura y pesos\n",
        "base_model = InceptionResNetV2(weights=\"imagenet\",\n",
        "                   include_top=False,\n",
        "                   input_shape=_target_image_size)\n",
        "\n",
        "base_model.summary()"
      ],
      "metadata": {
        "id": "_A0MT7qO8-jN"
      },
      "execution_count": null,
      "outputs": []
    },
    {
      "cell_type": "code",
      "source": [
        "# transfer learning, no entrenamos el base_model\n",
        "base_model.trainable = False\n",
        "\n",
        "# Conectar el modelo con el top model\n",
        "pre_trained_model = Sequential()\n",
        "pre_trained_model.add(base_model)\n",
        "pre_trained_model.add(layers.Flatten())\n",
        "pre_trained_model.add(layers.Dense(256, activation='relu'))\n",
        "pre_trained_model.add(layers.Dense(10, activation='softmax'))\n",
        "pre_trained_model.summary()"
      ],
      "metadata": {
        "id": "p-yUrD1O9CRe"
      },
      "execution_count": null,
      "outputs": []
    },
    {
      "cell_type": "code",
      "source": [
        "# Compilamos el modelo y entrenamos\n",
        "pre_trained_model.compile(optimizer=Adam(learning_rate=learning_rate),\n",
        "            loss=\"categorical_crossentropy\", # quitamos sparse, porque estamos en OHE\n",
        "            metrics=[\"accuracy\"]\n",
        "            )"
      ],
      "metadata": {
        "id": "-drp2Nvo9Eur"
      },
      "execution_count": null,
      "outputs": []
    },
    {
      "cell_type": "code",
      "source": [
        "# Entrenamos la CNN\n",
        "print(\"[INFO]: Entrenando la red neuronal...\")\n",
        "H = pre_trained_model.fit(x_tr, y_tr_ohe,\n",
        "                          batch_size=batch_size,\n",
        "                        epochs=epochs,\n",
        "                        # steps_per_epoch=x_tr.shape[0] // batch_size,\n",
        "                        validation_data=(x_val, y_val_ohe)\n",
        ")"
      ],
      "metadata": {
        "id": "iE5A7r5N9Gar"
      },
      "execution_count": null,
      "outputs": []
    },
    {
      "cell_type": "markdown",
      "source": [
        "#### 4.4.2. Fine Tunning"
      ],
      "metadata": {
        "id": "iGMrtLy09JLE"
      }
    },
    {
      "cell_type": "markdown",
      "source": [
        "**CONTINUAR POR AQUÍ**"
      ],
      "metadata": {
        "id": "lh9jpnNw9ORt"
      }
    },
    {
      "cell_type": "markdown",
      "source": [
        "## 5. Monitorización del proceso de entrenamiento para la toma de decisiones"
      ],
      "metadata": {
        "id": "WESHl0omW-36"
      }
    },
    {
      "cell_type": "markdown",
      "source": [
        "## 6. Evaluación del modelo predictivo y planteamiento de la siguiente prueba experimental"
      ],
      "metadata": {
        "id": "KJH3-NfnVxu8"
      }
    },
    {
      "cell_type": "code",
      "source": [],
      "metadata": {
        "id": "Lh-MneMiVxz5"
      },
      "execution_count": null,
      "outputs": []
    },
    {
      "cell_type": "code",
      "source": [],
      "metadata": {
        "id": "lQlOBpWwVx3p"
      },
      "execution_count": null,
      "outputs": []
    },
    {
      "cell_type": "code",
      "source": [],
      "metadata": {
        "id": "P6HpNotdVx7p"
      },
      "execution_count": null,
      "outputs": []
    },
    {
      "cell_type": "markdown",
      "source": [
        "# Ejemplos útiles para la entrega"
      ],
      "metadata": {
        "id": "ngd2NZsyV3O5"
      }
    },
    {
      "cell_type": "markdown",
      "metadata": {
        "id": "F_ucv93L8ISu"
      },
      "source": [
        "## Ejemplo de escritura de datos tomando como referencia un BASE_FOLDER"
      ]
    },
    {
      "cell_type": "code",
      "metadata": {
        "colab": {
          "base_uri": "https://localhost:8080/"
        },
        "id": "fQdR5ME58mP7",
        "outputId": "181332fc-f63b-45f1-f803-af8d84d19c81"
      },
      "source": [
        "# # Conectamos con nuestro Google Drive\n",
        "# from google.colab import drive\n",
        "# drive.mount('/content/drive')"
      ],
      "execution_count": null,
      "outputs": [
        {
          "output_type": "stream",
          "name": "stdout",
          "text": [
            "Mounted at /content/drive\n"
          ]
        }
      ]
    },
    {
      "cell_type": "code",
      "metadata": {
        "id": "tIq3lJ1q8SG9"
      },
      "source": [
        "# # Establezco una ruta absoluta a un directorio existente de mi Google Drive\n",
        "# BASE_FOLDER = \"/content/drive/MyDrive/07MIAR_Proyecto_Programacion/\""
      ],
      "execution_count": null,
      "outputs": []
    },
    {
      "cell_type": "code",
      "metadata": {
        "colab": {
          "base_uri": "https://localhost:8080/",
          "height": 287
        },
        "id": "y2HWN-ID5fp_",
        "outputId": "857b754f-69fa-4968-dc41-f1a9716415d3"
      },
      "source": [
        "import matplotlib.pyplot as plt\n",
        "import numpy as np\n",
        "import cv2\n",
        "\n",
        "# Escogiendo y mostrando una imagen al azar del conjunto de test\n",
        "idx = np.random.randint(1, 12000)\n",
        "img = cv2.imread('test/' + str(idx) + '.jpg', cv2.COLOR_BGR2RGB)\n",
        "img = cv2.cvtColor(img, cv2.COLOR_BGR2RGB)\n",
        "plt.imshow(img)"
      ],
      "execution_count": null,
      "outputs": [
        {
          "output_type": "execute_result",
          "data": {
            "text/plain": [
              "<matplotlib.image.AxesImage at 0x7f8d1a8dcd10>"
            ]
          },
          "metadata": {},
          "execution_count": 38
        },
        {
          "output_type": "display_data",
          "data": {
            "image/png": "[encoded data removed]",
            "text/plain": [
              "<Figure size 432x288 with 1 Axes>"
            ]
          },
          "metadata": {
            "needs_background": "light"
          }
        }
      ]
    },
    {
      "cell_type": "code",
      "metadata": {
        "colab": {
          "base_uri": "https://localhost:8080/"
        },
        "id": "oJFdSy698vVC",
        "outputId": "8bd5aa11-5c59-44ee-a047-adae666174f2"
      },
      "source": [
        "# Almacenando una imagen aleatoria de test en mi BASE_FOLDER\n",
        "cv2.imwrite(BASE_FOLDER + 'my_pet.png', img)"
      ],
      "execution_count": null,
      "outputs": [
        {
          "output_type": "execute_result",
          "data": {
            "text/plain": [
              "True"
            ]
          },
          "metadata": {},
          "execution_count": 39
        }
      ]
    },
    {
      "cell_type": "markdown",
      "metadata": {
        "id": "-kYHC9Hn97lK"
      },
      "source": [
        "## Ejemplo de generación de documento PDF a partir del Colab Notebook (fichero \".ipynb\")"
      ]
    },
    {
      "cell_type": "code",
      "metadata": {
        "id": "wj3Opy7tI0MX"
      },
      "source": [
        "# Ejecutando los siguientes comandos en la última celda del Colab Notebook se convierte de \".ipynb\" a PDF\n",
        "# En caso de querer ocultar la salida de una celda puesto que no tenga relevancia se debe insertar\n",
        "# el comando %%capture al inicio de la misma. Véase la celda que contiene !ls test en este Notebook."
      ],
      "execution_count": null,
      "outputs": []
    },
    {
      "cell_type": "code",
      "metadata": {
        "colab": {
          "base_uri": "https://localhost:8080/"
        },
        "id": "S7N_5sHLCrtn",
        "outputId": "22ac1880-16d8-4128-9851-c3094f30ff1a"
      },
      "source": [
        "name_IPYNB_file = '07MIAR_Proyecto_Programacion.ipynb'\n",
        "get_ipython().system(\n",
        "        \"apt update >> /dev/null && apt install texlive-xetex texlive-fonts-recommended texlive-generic-recommended >> /dev/null\"\n",
        "    )\n",
        "get_ipython().system(\n",
        "            \"jupyter nbconvert --output-dir='$BASE_FOLDER' '$BASE_FOLDER''$name_IPYNB_file' --to pdf\"\n",
        "        )"
      ],
      "execution_count": null,
      "outputs": [
        {
          "output_type": "stream",
          "name": "stdout",
          "text": [
            "\n",
            "WARNING: apt does not have a stable CLI interface. Use with caution in scripts.\n",
            "\n",
            "\n",
            "WARNING: apt does not have a stable CLI interface. Use with caution in scripts.\n",
            "\n",
            "[NbConvertApp] Converting notebook /content/drive/MyDrive/07MIAR_Proyecto_Programacion/07MIAR_Proyecto_Programacion.ipynb to pdf\n",
            "[NbConvertApp] Support files will be in 07MIAR_Proyecto_Programacion_files/\n",
            "[NbConvertApp] Making directory ./07MIAR_Proyecto_Programacion_files\n",
            "[NbConvertApp] Writing 43232 bytes to ./notebook.tex\n",
            "[NbConvertApp] Building PDF\n",
            "[NbConvertApp] Running xelatex 3 times: [u'xelatex', u'./notebook.tex', '-quiet']\n",
            "[NbConvertApp] Running bibtex 1 time: [u'bibtex', u'./notebook']\n",
            "[NbConvertApp] WARNING | bibtex had problems, most likely because there were no citations\n",
            "[NbConvertApp] PDF successfully created\n",
            "[NbConvertApp] Writing 179055 bytes to /content/drive/MyDrive/07MIAR_Proyecto_Programacion/07MIAR_Proyecto_Programacion.pdf\n"
          ]
        }
      ]
    }
  ]
}