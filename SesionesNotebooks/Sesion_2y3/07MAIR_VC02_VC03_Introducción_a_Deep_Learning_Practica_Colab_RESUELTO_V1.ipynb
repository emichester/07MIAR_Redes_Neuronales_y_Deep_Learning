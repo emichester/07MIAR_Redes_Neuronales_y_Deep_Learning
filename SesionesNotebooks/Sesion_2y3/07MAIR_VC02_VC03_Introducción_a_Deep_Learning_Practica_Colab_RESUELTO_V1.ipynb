{
  "nbformat": 4,
  "nbformat_minor": 0,
  "metadata": {
    "colab": {
      "provenance": []
    },
    "kernelspec": {
      "name": "python3",
      "display_name": "Python 3"
    },
    "accelerator": "GPU"
  },
  "cells": [
    {
      "cell_type": "markdown",
      "metadata": {
        "id": "e-Xr73DZ8CGE"
      },
      "source": [
        "## **NUESTRA PRIMERA RED NEURONAL: MNIST DATASET**"
      ]
    },
    {
      "cell_type": "markdown",
      "source": [
        "Inspeccionar liberrías y versiones en el entorno de Google Colab"
      ],
      "metadata": {
        "id": "uBwch7BUVqiF"
      }
    },
    {
      "cell_type": "code",
      "metadata": {
        "id": "AMjhP1vDde1e",
        "colab": {
          "base_uri": "https://localhost:8080/"
        },
        "outputId": "c81ac68c-0ac4-44e8-af9e-e5fc749c3693"
      },
      "source": [
        "!pip freeze"
      ],
      "execution_count": 1,
      "outputs": [
        {
          "output_type": "stream",
          "name": "stdout",
          "text": [
            "absl-py==1.4.0\n",
            "aiohttp==3.8.5\n",
            "aiosignal==1.3.1\n",
            "alabaster==0.7.13\n",
            "albumentations==1.3.1\n",
            "altair==4.2.2\n",
            "anyio==3.7.1\n",
            "appdirs==1.4.4\n",
            "argon2-cffi==23.1.0\n",
            "argon2-cffi-bindings==21.2.0\n",
            "array-record==0.4.1\n",
            "arviz==0.15.1\n",
            "astropy==5.3.3\n",
            "astunparse==1.6.3\n",
            "async-timeout==4.0.3\n",
            "attrs==23.1.0\n",
            "audioread==3.0.0\n",
            "autograd==1.6.2\n",
            "Babel==2.12.1\n",
            "backcall==0.2.0\n",
            "beautifulsoup4==4.11.2\n",
            "bleach==6.0.0\n",
            "blinker==1.4\n",
            "blis==0.7.10\n",
            "blosc2==2.0.0\n",
            "bokeh==3.2.2\n",
            "bqplot==0.12.40\n",
            "branca==0.6.0\n",
            "build==1.0.3\n",
            "CacheControl==0.13.1\n",
            "cachetools==5.3.1\n",
            "catalogue==2.0.9\n",
            "certifi==2023.7.22\n",
            "cffi==1.15.1\n",
            "chardet==5.2.0\n",
            "charset-normalizer==3.2.0\n",
            "chex==0.1.7\n",
            "click==8.1.7\n",
            "click-plugins==1.1.1\n",
            "cligj==0.7.2\n",
            "cloudpickle==2.2.1\n",
            "cmake==3.27.4.1\n",
            "cmdstanpy==1.1.0\n",
            "colorcet==3.0.1\n",
            "colorlover==0.3.0\n",
            "colour==0.1.5\n",
            "community==1.0.0b1\n",
            "confection==0.1.2\n",
            "cons==0.4.6\n",
            "contextlib2==21.6.0\n",
            "contourpy==1.1.0\n",
            "convertdate==2.4.0\n",
            "cryptography==41.0.3\n",
            "cufflinks==0.17.3\n",
            "cupy-cuda11x==11.0.0\n",
            "cvxopt==1.3.2\n",
            "cvxpy==1.3.2\n",
            "cycler==0.11.0\n",
            "cymem==2.0.7\n",
            "Cython==3.0.2\n",
            "dask==2023.8.1\n",
            "datascience==0.17.6\n",
            "db-dtypes==1.1.1\n",
            "dbus-python==1.2.18\n",
            "debugpy==1.6.6\n",
            "decorator==4.4.2\n",
            "defusedxml==0.7.1\n",
            "distributed==2023.8.1\n",
            "distro==1.7.0\n",
            "dlib==19.24.2\n",
            "dm-tree==0.1.8\n",
            "docutils==0.18.1\n",
            "dopamine-rl==4.0.6\n",
            "duckdb==0.8.1\n",
            "earthengine-api==0.1.368\n",
            "easydict==1.10\n",
            "ecos==2.0.12\n",
            "editdistance==0.6.2\n",
            "eerepr==0.0.4\n",
            "en-core-web-sm @ https://github.com/explosion/spacy-models/releases/download/en_core_web_sm-3.6.0/en_core_web_sm-3.6.0-py3-none-any.whl#sha256=83276fc78a70045627144786b52e1f2728ad5e29e5e43916ec37ea9c26a11212\n",
            "entrypoints==0.4\n",
            "ephem==4.1.4\n",
            "et-xmlfile==1.1.0\n",
            "etils==1.4.1\n",
            "etuples==0.3.9\n",
            "exceptiongroup==1.1.3\n",
            "fastai==2.7.12\n",
            "fastcore==1.5.29\n",
            "fastdownload==0.0.7\n",
            "fastjsonschema==2.18.0\n",
            "fastprogress==1.0.3\n",
            "fastrlock==0.8.2\n",
            "filelock==3.12.2\n",
            "Fiona==1.9.4.post1\n",
            "firebase-admin==5.3.0\n",
            "Flask==2.2.5\n",
            "flatbuffers==23.5.26\n",
            "flax==0.7.2\n",
            "folium==0.14.0\n",
            "fonttools==4.42.1\n",
            "frozendict==2.3.8\n",
            "frozenlist==1.4.0\n",
            "fsspec==2023.6.0\n",
            "future==0.18.3\n",
            "gast==0.4.0\n",
            "gcsfs==2023.6.0\n",
            "GDAL==3.4.3\n",
            "gdown==4.6.6\n",
            "geemap==0.26.0\n",
            "gensim==4.3.2\n",
            "geocoder==1.38.1\n",
            "geographiclib==2.0\n",
            "geopandas==0.13.2\n",
            "geopy==2.3.0\n",
            "gin-config==0.5.0\n",
            "glob2==0.7\n",
            "google==2.0.3\n",
            "google-api-core==2.11.1\n",
            "google-api-python-client==2.84.0\n",
            "google-auth==2.17.3\n",
            "google-auth-httplib2==0.1.0\n",
            "google-auth-oauthlib==1.0.0\n",
            "google-cloud-bigquery==3.10.0\n",
            "google-cloud-bigquery-connection==1.12.1\n",
            "google-cloud-bigquery-storage==2.22.0\n",
            "google-cloud-core==2.3.3\n",
            "google-cloud-datastore==2.15.2\n",
            "google-cloud-firestore==2.11.1\n",
            "google-cloud-functions==1.13.2\n",
            "google-cloud-language==2.9.1\n",
            "google-cloud-storage==2.8.0\n",
            "google-cloud-translate==3.11.3\n",
            "google-colab @ file:///colabtools/dist/google-colab-1.0.0.tar.gz#sha256=de9fd57fd4ed18dcb43230d32bcc3e7cd1637581df13e2c188a85909969e2a55\n",
            "google-crc32c==1.5.0\n",
            "google-pasta==0.2.0\n",
            "google-resumable-media==2.6.0\n",
            "googleapis-common-protos==1.60.0\n",
            "googledrivedownloader==0.4\n",
            "graphviz==0.20.1\n",
            "greenlet==2.0.2\n",
            "grpc-google-iam-v1==0.12.6\n",
            "grpcio==1.57.0\n",
            "grpcio-status==1.48.2\n",
            "gspread==3.4.2\n",
            "gspread-dataframe==3.3.1\n",
            "gym==0.25.2\n",
            "gym-notices==0.0.8\n",
            "h5netcdf==1.2.0\n",
            "h5py==3.9.0\n",
            "holidays==0.32\n",
            "holoviews==1.17.1\n",
            "html5lib==1.1\n",
            "httpimport==1.3.1\n",
            "httplib2==0.22.0\n",
            "humanize==4.7.0\n",
            "hyperopt==0.2.7\n",
            "idna==3.4\n",
            "imageio==2.31.3\n",
            "imageio-ffmpeg==0.4.8\n",
            "imagesize==1.4.1\n",
            "imbalanced-learn==0.10.1\n",
            "imgaug==0.4.0\n",
            "importlib-metadata==6.8.0\n",
            "importlib-resources==6.0.1\n",
            "imutils==0.5.4\n",
            "inflect==7.0.0\n",
            "iniconfig==2.0.0\n",
            "intel-openmp==2023.2.0\n",
            "ipyevents==2.0.2\n",
            "ipyfilechooser==0.6.0\n",
            "ipykernel==5.5.6\n",
            "ipyleaflet==0.17.3\n",
            "ipython==7.34.0\n",
            "ipython-genutils==0.2.0\n",
            "ipython-sql==0.5.0\n",
            "ipytree==0.2.2\n",
            "ipywidgets==7.7.1\n",
            "itsdangerous==2.1.2\n",
            "jax==0.4.14\n",
            "jaxlib @ https://storage.googleapis.com/jax-releases/cuda11/jaxlib-0.4.14+cuda11.cudnn86-cp310-cp310-manylinux2014_x86_64.whl#sha256=09c439923a785df517e3f470158dd3e46de454a01eca80935eed4ba383b5e90a\n",
            "jeepney==0.7.1\n",
            "jieba==0.42.1\n",
            "Jinja2==3.1.2\n",
            "joblib==1.3.2\n",
            "jsonpickle==3.0.2\n",
            "jsonschema==4.19.0\n",
            "jsonschema-specifications==2023.7.1\n",
            "jupyter-client==6.1.12\n",
            "jupyter-console==6.1.0\n",
            "jupyter-server==1.24.0\n",
            "jupyter_core==5.3.1\n",
            "jupyterlab-pygments==0.2.2\n",
            "jupyterlab-widgets==3.0.8\n",
            "kaggle==1.5.16\n",
            "keras==2.13.1\n",
            "keyring==23.5.0\n",
            "kiwisolver==1.4.5\n",
            "langcodes==3.3.0\n",
            "launchpadlib==1.10.16\n",
            "lazr.restfulclient==0.14.4\n",
            "lazr.uri==1.0.6\n",
            "lazy_loader==0.3\n",
            "libclang==16.0.6\n",
            "librosa==0.10.1\n",
            "lightgbm==4.0.0\n",
            "linkify-it-py==2.0.2\n",
            "lit==16.0.6\n",
            "llvmlite==0.39.1\n",
            "locket==1.0.0\n",
            "logical-unification==0.4.6\n",
            "LunarCalendar==0.0.9\n",
            "lxml==4.9.3\n",
            "Markdown==3.4.4\n",
            "markdown-it-py==3.0.0\n",
            "MarkupSafe==2.1.3\n",
            "matplotlib==3.7.1\n",
            "matplotlib-inline==0.1.6\n",
            "matplotlib-venn==0.11.9\n",
            "mdit-py-plugins==0.4.0\n",
            "mdurl==0.1.2\n",
            "miniKanren==1.0.3\n",
            "missingno==0.5.2\n",
            "mistune==0.8.4\n",
            "mizani==0.9.3\n",
            "mkl==2023.2.0\n",
            "ml-dtypes==0.2.0\n",
            "mlxtend==0.22.0\n",
            "more-itertools==10.1.0\n",
            "moviepy==1.0.3\n",
            "mpmath==1.3.0\n",
            "msgpack==1.0.5\n",
            "multidict==6.0.4\n",
            "multipledispatch==1.0.0\n",
            "multitasking==0.0.11\n",
            "murmurhash==1.0.9\n",
            "music21==9.1.0\n",
            "natsort==8.4.0\n",
            "nbclassic==1.0.0\n",
            "nbclient==0.8.0\n",
            "nbconvert==6.5.4\n",
            "nbformat==5.9.2\n",
            "nest-asyncio==1.5.7\n",
            "networkx==3.1\n",
            "nibabel==4.0.2\n",
            "nltk==3.8.1\n",
            "notebook==6.5.5\n",
            "notebook_shim==0.2.3\n",
            "numba==0.56.4\n",
            "numexpr==2.8.5\n",
            "numpy==1.23.5\n",
            "oauth2client==4.1.3\n",
            "oauthlib==3.2.2\n",
            "opencv-contrib-python==4.8.0.76\n",
            "opencv-python==4.8.0.76\n",
            "opencv-python-headless==4.8.0.76\n",
            "openpyxl==3.1.2\n",
            "opt-einsum==3.3.0\n",
            "optax==0.1.7\n",
            "orbax-checkpoint==0.3.5\n",
            "osqp==0.6.2.post8\n",
            "packaging==23.1\n",
            "pandas==1.5.3\n",
            "pandas-datareader==0.10.0\n",
            "pandas-gbq==0.17.9\n",
            "pandocfilters==1.5.0\n",
            "panel==1.2.2\n",
            "param==1.13.0\n",
            "parso==0.8.3\n",
            "partd==1.4.0\n",
            "pathlib==1.0.1\n",
            "pathy==0.10.2\n",
            "patsy==0.5.3\n",
            "pexpect==4.8.0\n",
            "pickleshare==0.7.5\n",
            "Pillow==9.4.0\n",
            "pip-tools==6.13.0\n",
            "platformdirs==3.10.0\n",
            "plotly==5.15.0\n",
            "plotnine==0.12.3\n",
            "pluggy==1.3.0\n",
            "polars==0.17.3\n",
            "pooch==1.7.0\n",
            "portpicker==1.5.2\n",
            "prefetch-generator==1.0.3\n",
            "preshed==3.0.8\n",
            "prettytable==3.8.0\n",
            "proglog==0.1.10\n",
            "progressbar2==4.2.0\n",
            "prometheus-client==0.17.1\n",
            "promise==2.3\n",
            "prompt-toolkit==3.0.39\n",
            "prophet==1.1.4\n",
            "proto-plus==1.22.3\n",
            "protobuf==3.20.3\n",
            "psutil==5.9.5\n",
            "psycopg2==2.9.7\n",
            "ptyprocess==0.7.0\n",
            "py-cpuinfo==9.0.0\n",
            "py4j==0.10.9.7\n",
            "pyarrow==9.0.0\n",
            "pyasn1==0.5.0\n",
            "pyasn1-modules==0.3.0\n",
            "pycocotools==2.0.7\n",
            "pycparser==2.21\n",
            "pyct==0.5.0\n",
            "pydantic==1.10.12\n",
            "pydata-google-auth==1.8.2\n",
            "pydot==1.4.2\n",
            "pydot-ng==2.0.0\n",
            "pydotplus==2.0.2\n",
            "PyDrive==1.3.1\n",
            "PyDrive2==1.6.3\n",
            "pyerfa==2.0.0.3\n",
            "pygame==2.5.1\n",
            "Pygments==2.16.1\n",
            "PyGObject==3.42.1\n",
            "PyJWT==2.3.0\n",
            "pymc==5.7.2\n",
            "PyMeeus==0.5.12\n",
            "pymystem3==0.2.0\n",
            "PyOpenGL==3.1.7\n",
            "pyOpenSSL==23.2.0\n",
            "pyparsing==3.1.1\n",
            "pyperclip==1.8.2\n",
            "pyproj==3.6.0\n",
            "pyproject_hooks==1.0.0\n",
            "pyshp==2.3.1\n",
            "PySocks==1.7.1\n",
            "pytensor==2.14.2\n",
            "pytest==7.4.1\n",
            "python-apt==0.0.0\n",
            "python-box==7.1.1\n",
            "python-dateutil==2.8.2\n",
            "python-louvain==0.16\n",
            "python-slugify==8.0.1\n",
            "python-utils==3.7.0\n",
            "pytz==2023.3.post1\n",
            "pyviz_comms==3.0.0\n",
            "PyWavelets==1.4.1\n",
            "PyYAML==6.0.1\n",
            "pyzmq==23.2.1\n",
            "qdldl==0.1.7.post0\n",
            "qudida==0.0.4\n",
            "ratelim==0.1.6\n",
            "referencing==0.30.2\n",
            "regex==2023.6.3\n",
            "requests==2.31.0\n",
            "requests-oauthlib==1.3.1\n",
            "requirements-parser==0.5.0\n",
            "rich==13.5.2\n",
            "rpds-py==0.10.2\n",
            "rpy2==3.4.2\n",
            "rsa==4.9\n",
            "scikit-image==0.19.3\n",
            "scikit-learn==1.2.2\n",
            "scipy==1.11.2\n",
            "scooby==0.7.2\n",
            "scs==3.2.3\n",
            "seaborn==0.12.2\n",
            "SecretStorage==3.3.1\n",
            "Send2Trash==1.8.2\n",
            "shapely==2.0.1\n",
            "six==1.16.0\n",
            "sklearn-pandas==2.2.0\n",
            "smart-open==6.4.0\n",
            "sniffio==1.3.0\n",
            "snowballstemmer==2.2.0\n",
            "sortedcontainers==2.4.0\n",
            "soundfile==0.12.1\n",
            "soupsieve==2.5\n",
            "soxr==0.3.6\n",
            "spacy==3.6.1\n",
            "spacy-legacy==3.0.12\n",
            "spacy-loggers==1.0.4\n",
            "Sphinx==5.0.2\n",
            "sphinxcontrib-applehelp==1.0.7\n",
            "sphinxcontrib-devhelp==1.0.5\n",
            "sphinxcontrib-htmlhelp==2.0.4\n",
            "sphinxcontrib-jsmath==1.0.1\n",
            "sphinxcontrib-qthelp==1.0.6\n",
            "sphinxcontrib-serializinghtml==1.1.9\n",
            "SQLAlchemy==2.0.20\n",
            "sqlparse==0.4.4\n",
            "srsly==2.4.7\n",
            "statsmodels==0.14.0\n",
            "sympy==1.12\n",
            "tables==3.8.0\n",
            "tabulate==0.9.0\n",
            "tbb==2021.10.0\n",
            "tblib==2.0.0\n",
            "tenacity==8.2.3\n",
            "tensorboard==2.13.0\n",
            "tensorboard-data-server==0.7.1\n",
            "tensorflow==2.13.0\n",
            "tensorflow-datasets==4.9.2\n",
            "tensorflow-estimator==2.13.0\n",
            "tensorflow-gcs-config==2.13.0\n",
            "tensorflow-hub==0.14.0\n",
            "tensorflow-io-gcs-filesystem==0.33.0\n",
            "tensorflow-metadata==1.14.0\n",
            "tensorflow-probability==0.20.1\n",
            "tensorstore==0.1.41\n",
            "termcolor==2.3.0\n",
            "terminado==0.17.1\n",
            "text-unidecode==1.3\n",
            "textblob==0.17.1\n",
            "tf-slim==1.1.0\n",
            "thinc==8.1.12\n",
            "threadpoolctl==3.2.0\n",
            "tifffile==2023.8.30\n",
            "tinycss2==1.2.1\n",
            "toml==0.10.2\n",
            "tomli==2.0.1\n",
            "toolz==0.12.0\n",
            "torch @ https://download.pytorch.org/whl/cu118/torch-2.0.1%2Bcu118-cp310-cp310-linux_x86_64.whl#sha256=a7a49d459bf4862f64f7bc1a68beccf8881c2fa9f3e0569608e16ba6f85ebf7b\n",
            "torchaudio @ https://download.pytorch.org/whl/cu118/torchaudio-2.0.2%2Bcu118-cp310-cp310-linux_x86_64.whl#sha256=26692645ea061a005c57ec581a2d0425210ac6ba9f923edf11cc9b0ef3a111e9\n",
            "torchdata==0.6.1\n",
            "torchsummary==1.5.1\n",
            "torchtext==0.15.2\n",
            "torchvision @ https://download.pytorch.org/whl/cu118/torchvision-0.15.2%2Bcu118-cp310-cp310-linux_x86_64.whl#sha256=19ca4ab5d6179bbe53cff79df1a855ee6533c2861ddc7389f68349d8b9f8302a\n",
            "tornado==6.3.2\n",
            "tqdm==4.66.1\n",
            "traitlets==5.7.1\n",
            "traittypes==0.2.1\n",
            "triton==2.0.0\n",
            "tweepy==4.13.0\n",
            "typer==0.9.0\n",
            "types-setuptools==68.2.0.0\n",
            "typing_extensions==4.5.0\n",
            "tzlocal==5.0.1\n",
            "uc-micro-py==1.0.2\n",
            "uritemplate==4.1.1\n",
            "urllib3==2.0.4\n",
            "vega-datasets==0.9.0\n",
            "wadllib==1.3.6\n",
            "wasabi==1.1.2\n",
            "wcwidth==0.2.6\n",
            "webcolors==1.13\n",
            "webencodings==0.5.1\n",
            "websocket-client==1.6.2\n",
            "Werkzeug==2.3.7\n",
            "widgetsnbextension==3.6.5\n",
            "wordcloud==1.9.2\n",
            "wrapt==1.15.0\n",
            "xarray==2023.7.0\n",
            "xarray-einstats==0.6.0\n",
            "xgboost==1.7.6\n",
            "xlrd==2.0.1\n",
            "xyzservices==2023.7.0\n",
            "yarl==1.9.2\n",
            "yellowbrick==1.5\n",
            "yfinance==0.2.28\n",
            "zict==3.0.0\n",
            "zipp==3.16.2\n"
          ]
        }
      ]
    },
    {
      "cell_type": "markdown",
      "metadata": {
        "id": "BGr4or3pd8Ql"
      },
      "source": [
        "Importar liberías más importantes y ver versión."
      ]
    },
    {
      "cell_type": "code",
      "metadata": {
        "id": "76L_IBAfwr5y",
        "colab": {
          "base_uri": "https://localhost:8080/",
          "height": 36
        },
        "outputId": "5967c730-3ba1-471a-8cc3-fe25c49c1ed5"
      },
      "source": [
        "# Importaremos Tensorflow 2.X y Numpy\n",
        "import numpy as np\n",
        "import tensorflow as tf\n",
        "tf.__version__"
      ],
      "execution_count": 2,
      "outputs": [
        {
          "output_type": "execute_result",
          "data": {
            "text/plain": [
              "'2.13.0'"
            ],
            "application/vnd.google.colaboratory.intrinsic+json": {
              "type": "string"
            }
          },
          "metadata": {},
          "execution_count": 2
        }
      ]
    },
    {
      "cell_type": "markdown",
      "metadata": {
        "id": "Cm6TBi8k8pnq"
      },
      "source": [
        "#### **- Cargando el conjunto de datos**"
      ]
    },
    {
      "cell_type": "code",
      "metadata": {
        "id": "Q97EgDoewMWu",
        "colab": {
          "base_uri": "https://localhost:8080/"
        },
        "outputId": "445c56fa-dea0-4715-ab20-76ccf32267d7"
      },
      "source": [
        "# Importamos el dataset MNIST y cargamos los datos\n",
        "mnist = tf.keras.datasets.mnist\n",
        "(x_train, y_train), (x_test, y_test) = mnist.load_data()\n",
        "print(x_train.shape)\n",
        "print(y_train.shape)\n",
        "print(x_test.shape)\n",
        "print(y_test.shape)\n",
        "print(np.unique(y_train))\n",
        "print(np.bincount(y_train))"
      ],
      "execution_count": 12,
      "outputs": [
        {
          "output_type": "stream",
          "name": "stdout",
          "text": [
            "(60000, 28, 28)\n",
            "(60000,)\n",
            "(10000, 28, 28)\n",
            "(10000,)\n",
            "[0 1 2 3 4 5 6 7 8 9]\n",
            "[5923 6742 5958 6131 5842 5421 5918 6265 5851 5949]\n"
          ]
        }
      ]
    },
    {
      "cell_type": "markdown",
      "metadata": {
        "id": "UHWTjTJe80h7"
      },
      "source": [
        "#### **- Inspeccionando el conjunto de datos**"
      ]
    },
    {
      "cell_type": "code",
      "metadata": {
        "id": "yQydjXExS1hI",
        "colab": {
          "base_uri": "https://localhost:8080/",
          "height": 1000
        },
        "outputId": "6c3e2e27-261f-4c7d-b6ab-6b9367049476"
      },
      "source": [
        "import matplotlib.pyplot as plt\n",
        "# Función auxiliar para visualizar datos de entrenamiento de manera aleatoria\n",
        "def display_digit(num):\n",
        "  # Seleccionar la imagen num de mnist.train.images y hacer un reshape al tamaño de la imagen\n",
        "  image = x_train[num,:,:]\n",
        "  # Seleccionar el target num de mnist.train.labels\n",
        "  label = y_train[num]\n",
        "  # Mostrar\n",
        "  plt.title('Example: %d  Label: %d' % (num, label))\n",
        "  plt.imshow(image, cmap=plt.get_cmap('gray_r'))\n",
        "  plt.show()\n",
        "\n",
        "# Mostramos algunos ejemplos\n",
        "display_digit(np.random.randint(0, x_train.shape[0]))\n",
        "display_digit(np.random.randint(0, x_train.shape[0]))\n",
        "display_digit(np.random.randint(0, x_train.shape[0]))"
      ],
      "execution_count": 7,
      "outputs": [
        {
          "output_type": "display_data",
          "data": {
            "text/plain": [
              "<Figure size 640x480 with 1 Axes>"
            ],
            "image/png": "[encoded data removed]"
          },
          "metadata": {}
        },
        {
          "output_type": "display_data",
          "data": {
            "text/plain": [
              "<Figure size 640x480 with 1 Axes>"
            ],
            "image/png": "[encoded data removed]"
          },
          "metadata": {}
        },
        {
          "output_type": "display_data",
          "data": {
            "text/plain": [
              "<Figure size 640x480 with 1 Axes>"
            ],
            "image/png": "[encoded data removed]"
          },
          "metadata": {}
        }
      ]
    },
    {
      "cell_type": "markdown",
      "metadata": {
        "id": "meo3FjAr85We"
      },
      "source": [
        "#### **- Acondicionando el conjunto de datos**"
      ]
    },
    {
      "cell_type": "code",
      "metadata": {
        "id": "PrtVcOxow_JA",
        "colab": {
          "base_uri": "https://localhost:8080/"
        },
        "outputId": "4dd76ade-1980-4d64-a39f-40c478fddc55"
      },
      "source": [
        "# Pre-procesado obligatorio cuando trabajo con redes neuronales\n",
        "from tensorflow.keras.utils import to_categorical\n",
        "from sklearn.model_selection import train_test_split\n",
        "\n",
        "# Estandarizar rango imagenes a [0, 1]\n",
        "x_train_norm, x_test_norm = x_train / 255, x_test / 255\n",
        "print(np.max(x_train_norm))\n",
        "# Obtener ohe de etiquetas\n",
        "y_train_oht = to_categorical(y_train, num_classes=10)\n",
        "print(y_train_oht.shape)\n",
        "# Split train-val\n",
        "x_tr, x_val, y_tr, y_val = train_test_split(x_train_norm, y_train_oht, test_size=0.1, random_state=42)\n",
        "print(x_tr.shape)\n",
        "print(x_val.shape)"
      ],
      "execution_count": 15,
      "outputs": [
        {
          "output_type": "stream",
          "name": "stdout",
          "text": [
            "1.0\n",
            "(60000, 10)\n",
            "(54000, 28, 28)\n",
            "(6000, 28, 28)\n"
          ]
        }
      ]
    },
    {
      "cell_type": "markdown",
      "metadata": {
        "id": "YBO56FZh89P3"
      },
      "source": [
        "#### **- Creando la topología de Red Neuronal (MLP) y entrenándola**"
      ]
    },
    {
      "cell_type": "code",
      "source": [
        "# Importamos modulos necesarios para programar la red\n",
        "from tensorflow.keras.models import Sequential\n",
        "from tensorflow.keras.layers import Dense, Flatten\n",
        "\n",
        "# Codificamos la arquitectura de nuestra primera red neuronal!\n",
        "model = Sequential()\n",
        "model.add((Flatten()))\n",
        "model.add(Dense(512, input_shape=(28*28,), activation=\"relu\"))\n",
        "model.add(Dense(10, activation=\"softmax\"))"
      ],
      "metadata": {
        "id": "c4PKrtsLoUgH"
      },
      "execution_count": null,
      "outputs": []
    },
    {
      "cell_type": "code",
      "metadata": {
        "id": "y0x4icp30SGE"
      },
      "source": [
        "# Optimizador\n",
        "from tensorflow.keras.optimizers import SGD\n",
        "optimizer = SGD(learning_rate=0.005)"
      ],
      "execution_count": 21,
      "outputs": []
    },
    {
      "cell_type": "code",
      "source": [
        "# Compilar\n",
        "model.compile(loss=\"categorical_crossentropy\", optimizer=optimizer, metrics=[\"accuracy\"])"
      ],
      "metadata": {
        "id": "-alD1Ql-oYy6"
      },
      "execution_count": 23,
      "outputs": []
    },
    {
      "cell_type": "code",
      "metadata": {
        "id": "iSWwUUWM1W7a",
        "colab": {
          "base_uri": "https://localhost:8080/"
        },
        "outputId": "f490d1e0-5ea4-475d-cc02-ce1018914839"
      },
      "source": [
        "# Entrenamiento\n",
        "H = model.fit(x_tr, y_tr, validation_data=(x_val, y_val), epochs=50, batch_size=128)\n"
      ],
      "execution_count": 25,
      "outputs": [
        {
          "output_type": "stream",
          "name": "stdout",
          "text": [
            "Epoch 1/50\n",
            "422/422 [==============================] - 6s 4ms/step - loss: 1.5101 - accuracy: 0.6538 - val_loss: 0.9875 - val_accuracy: 0.8048\n",
            "Epoch 2/50\n",
            "422/422 [==============================] - 2s 4ms/step - loss: 0.7879 - accuracy: 0.8382 - val_loss: 0.6561 - val_accuracy: 0.8578\n",
            "Epoch 3/50\n",
            "422/422 [==============================] - 2s 4ms/step - loss: 0.5871 - accuracy: 0.8659 - val_loss: 0.5322 - val_accuracy: 0.8730\n",
            "Epoch 4/50\n",
            "422/422 [==============================] - 2s 4ms/step - loss: 0.4991 - accuracy: 0.8793 - val_loss: 0.4677 - val_accuracy: 0.8842\n",
            "Epoch 5/50\n",
            "422/422 [==============================] - 2s 5ms/step - loss: 0.4491 - accuracy: 0.8874 - val_loss: 0.4275 - val_accuracy: 0.8895\n",
            "Epoch 6/50\n",
            "422/422 [==============================] - 3s 7ms/step - loss: 0.4163 - accuracy: 0.8923 - val_loss: 0.3996 - val_accuracy: 0.8957\n",
            "Epoch 7/50\n",
            "422/422 [==============================] - 2s 4ms/step - loss: 0.3927 - accuracy: 0.8969 - val_loss: 0.3783 - val_accuracy: 0.8995\n",
            "Epoch 8/50\n",
            "422/422 [==============================] - 2s 4ms/step - loss: 0.3746 - accuracy: 0.9004 - val_loss: 0.3620 - val_accuracy: 0.9028\n",
            "Epoch 9/50\n",
            "422/422 [==============================] - 2s 4ms/step - loss: 0.3601 - accuracy: 0.9032 - val_loss: 0.3486 - val_accuracy: 0.9048\n",
            "Epoch 10/50\n",
            "422/422 [==============================] - 2s 4ms/step - loss: 0.3480 - accuracy: 0.9060 - val_loss: 0.3381 - val_accuracy: 0.9080\n",
            "Epoch 11/50\n",
            "422/422 [==============================] - 1s 4ms/step - loss: 0.3377 - accuracy: 0.9081 - val_loss: 0.3277 - val_accuracy: 0.9088\n",
            "Epoch 12/50\n",
            "422/422 [==============================] - 2s 4ms/step - loss: 0.3286 - accuracy: 0.9103 - val_loss: 0.3195 - val_accuracy: 0.9113\n",
            "Epoch 13/50\n",
            "422/422 [==============================] - 2s 4ms/step - loss: 0.3207 - accuracy: 0.9118 - val_loss: 0.3116 - val_accuracy: 0.9128\n",
            "Epoch 14/50\n",
            "422/422 [==============================] - 1s 4ms/step - loss: 0.3134 - accuracy: 0.9137 - val_loss: 0.3049 - val_accuracy: 0.9142\n",
            "Epoch 15/50\n",
            "422/422 [==============================] - 2s 4ms/step - loss: 0.3070 - accuracy: 0.9153 - val_loss: 0.2988 - val_accuracy: 0.9168\n",
            "Epoch 16/50\n",
            "422/422 [==============================] - 2s 4ms/step - loss: 0.3009 - accuracy: 0.9165 - val_loss: 0.2937 - val_accuracy: 0.9177\n",
            "Epoch 17/50\n",
            "422/422 [==============================] - 2s 4ms/step - loss: 0.2953 - accuracy: 0.9180 - val_loss: 0.2880 - val_accuracy: 0.9193\n",
            "Epoch 18/50\n",
            "422/422 [==============================] - 1s 3ms/step - loss: 0.2901 - accuracy: 0.9198 - val_loss: 0.2832 - val_accuracy: 0.9197\n",
            "Epoch 19/50\n",
            "422/422 [==============================] - 2s 4ms/step - loss: 0.2852 - accuracy: 0.9209 - val_loss: 0.2785 - val_accuracy: 0.9208\n",
            "Epoch 20/50\n",
            "422/422 [==============================] - 2s 5ms/step - loss: 0.2806 - accuracy: 0.9221 - val_loss: 0.2743 - val_accuracy: 0.9228\n",
            "Epoch 21/50\n",
            "422/422 [==============================] - 2s 4ms/step - loss: 0.2762 - accuracy: 0.9234 - val_loss: 0.2701 - val_accuracy: 0.9243\n",
            "Epoch 22/50\n",
            "422/422 [==============================] - 2s 4ms/step - loss: 0.2721 - accuracy: 0.9250 - val_loss: 0.2663 - val_accuracy: 0.9240\n",
            "Epoch 23/50\n",
            "422/422 [==============================] - 2s 4ms/step - loss: 0.2681 - accuracy: 0.9258 - val_loss: 0.2629 - val_accuracy: 0.9265\n",
            "Epoch 24/50\n",
            "422/422 [==============================] - 2s 4ms/step - loss: 0.2642 - accuracy: 0.9271 - val_loss: 0.2595 - val_accuracy: 0.9282\n",
            "Epoch 25/50\n",
            "422/422 [==============================] - 2s 4ms/step - loss: 0.2606 - accuracy: 0.9281 - val_loss: 0.2561 - val_accuracy: 0.9290\n",
            "Epoch 26/50\n",
            "422/422 [==============================] - 2s 4ms/step - loss: 0.2571 - accuracy: 0.9291 - val_loss: 0.2530 - val_accuracy: 0.9312\n",
            "Epoch 27/50\n",
            "422/422 [==============================] - 2s 4ms/step - loss: 0.2538 - accuracy: 0.9296 - val_loss: 0.2498 - val_accuracy: 0.9313\n",
            "Epoch 28/50\n",
            "422/422 [==============================] - 2s 5ms/step - loss: 0.2506 - accuracy: 0.9312 - val_loss: 0.2469 - val_accuracy: 0.9327\n",
            "Epoch 29/50\n",
            "422/422 [==============================] - 2s 4ms/step - loss: 0.2473 - accuracy: 0.9320 - val_loss: 0.2437 - val_accuracy: 0.9325\n",
            "Epoch 30/50\n",
            "422/422 [==============================] - 2s 4ms/step - loss: 0.2444 - accuracy: 0.9327 - val_loss: 0.2409 - val_accuracy: 0.9328\n",
            "Epoch 31/50\n",
            "422/422 [==============================] - 2s 4ms/step - loss: 0.2414 - accuracy: 0.9333 - val_loss: 0.2386 - val_accuracy: 0.9345\n",
            "Epoch 32/50\n",
            "422/422 [==============================] - 2s 4ms/step - loss: 0.2386 - accuracy: 0.9341 - val_loss: 0.2357 - val_accuracy: 0.9343\n",
            "Epoch 33/50\n",
            "422/422 [==============================] - 2s 4ms/step - loss: 0.2358 - accuracy: 0.9349 - val_loss: 0.2331 - val_accuracy: 0.9345\n",
            "Epoch 34/50\n",
            "422/422 [==============================] - 2s 4ms/step - loss: 0.2331 - accuracy: 0.9356 - val_loss: 0.2309 - val_accuracy: 0.9357\n",
            "Epoch 35/50\n",
            "422/422 [==============================] - 2s 4ms/step - loss: 0.2306 - accuracy: 0.9364 - val_loss: 0.2286 - val_accuracy: 0.9360\n",
            "Epoch 36/50\n",
            "422/422 [==============================] - 2s 5ms/step - loss: 0.2280 - accuracy: 0.9371 - val_loss: 0.2262 - val_accuracy: 0.9363\n",
            "Epoch 37/50\n",
            "422/422 [==============================] - 2s 4ms/step - loss: 0.2254 - accuracy: 0.9380 - val_loss: 0.2241 - val_accuracy: 0.9382\n",
            "Epoch 38/50\n",
            "422/422 [==============================] - 2s 4ms/step - loss: 0.2231 - accuracy: 0.9386 - val_loss: 0.2214 - val_accuracy: 0.9373\n",
            "Epoch 39/50\n",
            "422/422 [==============================] - 2s 4ms/step - loss: 0.2207 - accuracy: 0.9391 - val_loss: 0.2198 - val_accuracy: 0.9385\n",
            "Epoch 40/50\n",
            "422/422 [==============================] - 2s 4ms/step - loss: 0.2185 - accuracy: 0.9398 - val_loss: 0.2175 - val_accuracy: 0.9393\n",
            "Epoch 41/50\n",
            "422/422 [==============================] - 2s 5ms/step - loss: 0.2162 - accuracy: 0.9407 - val_loss: 0.2155 - val_accuracy: 0.9405\n",
            "Epoch 42/50\n",
            "422/422 [==============================] - 4s 10ms/step - loss: 0.2140 - accuracy: 0.9415 - val_loss: 0.2134 - val_accuracy: 0.9407\n",
            "Epoch 43/50\n",
            "422/422 [==============================] - 2s 4ms/step - loss: 0.2118 - accuracy: 0.9421 - val_loss: 0.2118 - val_accuracy: 0.9423\n",
            "Epoch 44/50\n",
            "422/422 [==============================] - 2s 4ms/step - loss: 0.2097 - accuracy: 0.9425 - val_loss: 0.2096 - val_accuracy: 0.9415\n",
            "Epoch 45/50\n",
            "422/422 [==============================] - 2s 4ms/step - loss: 0.2076 - accuracy: 0.9432 - val_loss: 0.2077 - val_accuracy: 0.9428\n",
            "Epoch 46/50\n",
            "422/422 [==============================] - 2s 4ms/step - loss: 0.2056 - accuracy: 0.9439 - val_loss: 0.2060 - val_accuracy: 0.9430\n",
            "Epoch 47/50\n",
            "422/422 [==============================] - 2s 4ms/step - loss: 0.2036 - accuracy: 0.9442 - val_loss: 0.2046 - val_accuracy: 0.9432\n",
            "Epoch 48/50\n",
            "422/422 [==============================] - 2s 4ms/step - loss: 0.2016 - accuracy: 0.9448 - val_loss: 0.2026 - val_accuracy: 0.9437\n",
            "Epoch 49/50\n",
            "422/422 [==============================] - 2s 5ms/step - loss: 0.1997 - accuracy: 0.9450 - val_loss: 0.2009 - val_accuracy: 0.9432\n",
            "Epoch 50/50\n",
            "422/422 [==============================] - 2s 5ms/step - loss: 0.1979 - accuracy: 0.9458 - val_loss: 0.1989 - val_accuracy: 0.9445\n"
          ]
        }
      ]
    },
    {
      "cell_type": "markdown",
      "metadata": {
        "id": "EtR8fpxq9JRG"
      },
      "source": [
        "#### **- Observando el proceso de entrenamiento para tomar decisiones**"
      ]
    },
    {
      "cell_type": "code",
      "metadata": {
        "id": "R7OoJts-122A",
        "colab": {
          "base_uri": "https://localhost:8080/",
          "height": 494
        },
        "outputId": "72de7a09-8639-40cd-c53d-2567335f3d0e"
      },
      "source": [
        "# Muestro gráfica de accuracy y losses\n",
        "plt.style.use(\"ggplot\")\n",
        "plt.figure()\n",
        "plt.plot(np.arange(0, 50), H.history[\"loss\"], label=\"train_loss\")\n",
        "plt.plot(np.arange(0, 50), H.history[\"val_loss\"], label=\"val_loss\")\n",
        "plt.plot(np.arange(0, 50), H.history[\"accuracy\"], label=\"accuracy\")\n",
        "plt.plot(np.arange(0, 50), H.history[\"val_accuracy\"], label=\"val_accuracy\")\n",
        "plt.title(\"Learning curve\")\n",
        "plt.xlabel(\"Epoch Number\")\n",
        "plt.ylabel(\"Loss/Accuracy\")\n",
        "plt.legend()"
      ],
      "execution_count": 26,
      "outputs": [
        {
          "output_type": "execute_result",
          "data": {
            "text/plain": [
              "<matplotlib.legend.Legend at 0x7f4f6c7988e0>"
            ]
          },
          "metadata": {},
          "execution_count": 26
        },
        {
          "output_type": "display_data",
          "data": {
            "text/plain": [
              "<Figure size 640x480 with 1 Axes>"
            ],
            "image/png": "[encoded data removed]"
          },
          "metadata": {}
        }
      ]
    },
    {
      "cell_type": "markdown",
      "metadata": {
        "id": "7ll4EzHI9Of5"
      },
      "source": [
        "#### **- Probando el conjunto de datos en el subset de test y evaluando el performance del modelo**"
      ]
    },
    {
      "cell_type": "code",
      "metadata": {
        "id": "7J38sfBN742h",
        "colab": {
          "base_uri": "https://localhost:8080/"
        },
        "outputId": "5c030e50-dd11-4619-e9a1-ff4d7bb9e6d8"
      },
      "source": [
        "from sklearn.metrics import classification_report\n",
        "# Evaluando el modelo de predicción con las imágenes de test\n",
        "print(\"[INFO]: Evaluando red neuronal...\")\n",
        "predictions = model.predict(x_test_norm, batch_size=128)\n",
        "print(y_test[0])\n",
        "print(predictions[0])\n",
        "print(classification_report(y_test, predictions.argmax(axis=1)))\n",
        "# Print network summary\n",
        "print(model.summary())\n"
      ],
      "execution_count": 30,
      "outputs": [
        {
          "output_type": "stream",
          "name": "stdout",
          "text": [
            "[INFO]: Evaluando red neuronal...\n",
            "79/79 [==============================] - 0s 4ms/step\n",
            "7\n",
            "[6.1883657e-05 2.0247482e-07 4.1661412e-04 2.7974059e-03 1.1988316e-06\n",
            " 6.5928616e-05 2.9479654e-08 9.9633491e-01 2.5929769e-05 2.9595519e-04]\n",
            "              precision    recall  f1-score   support\n",
            "\n",
            "           0       0.95      0.99      0.97       980\n",
            "           1       0.98      0.99      0.98      1135\n",
            "           2       0.95      0.94      0.94      1032\n",
            "           3       0.93      0.94      0.93      1010\n",
            "           4       0.94      0.94      0.94       982\n",
            "           5       0.95      0.91      0.93       892\n",
            "           6       0.94      0.96      0.95       958\n",
            "           7       0.95      0.94      0.94      1028\n",
            "           8       0.93      0.93      0.93       974\n",
            "           9       0.93      0.93      0.93      1009\n",
            "\n",
            "    accuracy                           0.95     10000\n",
            "   macro avg       0.95      0.94      0.94     10000\n",
            "weighted avg       0.95      0.95      0.95     10000\n",
            "\n",
            "Model: \"sequential_2\"\n",
            "_________________________________________________________________\n",
            " Layer (type)                Output Shape              Param #   \n",
            "=================================================================\n",
            " flatten_2 (Flatten)         (None, 784)               0         \n",
            "                                                                 \n",
            " dense_3 (Dense)             (None, 512)               401920    \n",
            "                                                                 \n",
            " dense_4 (Dense)             (None, 10)                5130      \n",
            "                                                                 \n",
            "=================================================================\n",
            "Total params: 407050 (1.55 MB)\n",
            "Trainable params: 407050 (1.55 MB)\n",
            "Non-trainable params: 0 (0.00 Byte)\n",
            "_________________________________________________________________\n",
            "None\n"
          ]
        }
      ]
    },
    {
      "cell_type": "markdown",
      "metadata": {
        "id": "zQ5iYaP4-TdJ"
      },
      "source": [
        "--------------------------------------------------------------------------"
      ]
    },
    {
      "cell_type": "markdown",
      "metadata": {
        "id": "gkAfYEmB-KGU"
      },
      "source": [
        "## **MLP APLICADO A TEXTO: EJEMPLO REUTERS**"
      ]
    },
    {
      "cell_type": "markdown",
      "metadata": {
        "id": "rtdAIq1JQPNA"
      },
      "source": [
        "#### **- Cargando el conjunto de datos**"
      ]
    },
    {
      "cell_type": "code",
      "metadata": {
        "id": "2mHvSYFm-Sp_",
        "colab": {
          "base_uri": "https://localhost:8080/"
        },
        "outputId": "2e43cbc0-ed19-4686-ea89-f97bd2342f72"
      },
      "source": [
        "import numpy as np\n",
        "import tensorflow as tf\n",
        "# Importamos el dataset REUTERS y cargamos los datos\n",
        "reuters = tf.keras.datasets.reuters\n",
        "WORD_LIMIT = 10000\n",
        "(training_data, training_labels), (testing_data, testing_labels) = reuters.load_data(num_words=WORD_LIMIT)\n",
        "print(training_data.shape)\n",
        "print(training_labels.shape)\n",
        "print(testing_data.shape)\n",
        "print(testing_labels.shape)\n",
        "print(np.unique(training_labels))\n",
        "print(np.unique(testing_labels))\n",
        "print(training_data[5248])"
      ],
      "execution_count": 37,
      "outputs": [
        {
          "output_type": "stream",
          "name": "stdout",
          "text": [
            "(8982,)\n",
            "(8982,)\n",
            "(2246,)\n",
            "(2246,)\n",
            "[ 0  1  2  3  4  5  6  7  8  9 10 11 12 13 14 15 16 17 18 19 20 21 22 23\n",
            " 24 25 26 27 28 29 30 31 32 33 34 35 36 37 38 39 40 41 42 43 44 45]\n",
            "[ 0  1  2  3  4  5  6  7  8  9 10 11 12 13 14 15 16 17 18 19 20 21 22 23\n",
            " 24 25 26 27 28 29 30 31 32 33 34 35 36 37 38 39 40 41 42 43 44 45]\n",
            "[1, 2, 65, 81, 8, 16, 40, 515, 10, 2, 339, 21, 25, 2, 2, 7, 8474, 6015, 2, 2184, 50, 23, 596, 814, 28, 10, 101, 5, 19, 19, 11, 1396, 983, 5, 249, 9, 279, 428, 5, 5901, 718, 4, 49, 8, 16, 40, 10, 119, 20, 885, 128, 7, 4, 339, 50, 23, 5519, 22, 246, 2, 2, 5953, 2, 164, 83, 1761, 9, 83, 1501, 983, 549, 2, 51, 1882, 4134, 3835, 5159, 1688, 4, 4585, 16, 152, 16, 8, 4, 1004, 2578, 55, 1299, 381, 427, 201, 17, 12]\n"
          ]
        }
      ]
    },
    {
      "cell_type": "markdown",
      "metadata": {
        "id": "426afMQqQUxn"
      },
      "source": [
        "#### **- Inspeccionando el conjunto de datos**"
      ]
    },
    {
      "cell_type": "code",
      "metadata": {
        "id": "Ab4lT3HI-reW",
        "colab": {
          "base_uri": "https://localhost:8080/",
          "height": 160
        },
        "outputId": "bbc8dd5a-8fb9-4412-f815-66c0b7188db1"
      },
      "source": [
        "# Los datos son numericos para decodificarlos, se puede usar reuters.get_word_index()\n",
        "word_index = reuters.get_word_index()\n",
        "reverse_word_index = dict({value : key for key, value in word_index.items()})\n",
        "decoded = ' '.join(\n",
        "    [reverse_word_index.get(i-3,'?') for i in training_data[5248]]\n",
        ")\n",
        "decoded"
      ],
      "execution_count": 36,
      "outputs": [
        {
          "output_type": "stream",
          "name": "stdout",
          "text": [
            "Downloading data from https://storage.googleapis.com/tensorflow/tf-keras-datasets/reuters_word_index.json\n",
            "550378/550378 [==============================] - 1s 1us/step\n"
          ]
        },
        {
          "output_type": "execute_result",
          "data": {
            "text/plain": [
              "'? ? oil corp said it has completed a ? well on its ? ? in jefferson davis ? la which is currently producing at a rate of 1 1 mln cubic feet of gas and 40 barrels of condensate daily the company said it has a 20 pct working interest in the well which is flowing from lower ? ? sand ? between 10 104 and 10 110 feet additional ? but possibly productive zones exist behind the pipe it added it said the remaining owners are privately held petroleum companies reuter 3'"
            ],
            "application/vnd.google.colaboratory.intrinsic+json": {
              "type": "string"
            }
          },
          "metadata": {},
          "execution_count": 36
        }
      ]
    },
    {
      "cell_type": "markdown",
      "metadata": {
        "id": "Hl1Ke92bQiI2"
      },
      "source": [
        "#### **- Acondicionando el conjunto de datos**"
      ]
    },
    {
      "cell_type": "code",
      "metadata": {
        "id": "I5ojr41ZAE6G"
      },
      "source": [
        "# Función auxiliar para representar las palabras (que no entiende nuestra red neuronal) en números\n",
        "import numpy as np\n",
        "# one hot encoding del input, vector con cada indice indicando si una palabra esta presente\n",
        "def one_hot_encode(data):\n",
        "    encoded = np.zeros((len(data),WORD_LIMIT))\n",
        "    for i, v in enumerate(data):\n",
        "        encoded[i,v] = 1 # localiza las columnas del genero correspondiente, marca con 1\n",
        "    return encoded"
      ],
      "execution_count": 38,
      "outputs": []
    },
    {
      "cell_type": "code",
      "metadata": {
        "id": "4wubOmYpBgAY",
        "colab": {
          "base_uri": "https://localhost:8080/"
        },
        "outputId": "218fc98f-fbea-4baa-d07c-96f364a68d16"
      },
      "source": [
        "# Convertimos nuestras palabras a números\n",
        "x_train = one_hot_encode(training_data)\n",
        "x_test = one_hot_encode(testing_data)\n",
        "print(x_train.shape)\n",
        "print(x_test.shape)"
      ],
      "execution_count": 42,
      "outputs": [
        {
          "output_type": "stream",
          "name": "stdout",
          "text": [
            "(8982, 10000)\n",
            "(2246, 10000)\n"
          ]
        }
      ]
    },
    {
      "cell_type": "code",
      "source": [
        "# Codificar ohe de las etiquetas\n",
        "from tensorflow.keras.utils import to_categorical\n",
        "y_train_oht = to_categorical(training_labels, num_classes=46)\n",
        "y_test_oht = to_categorical(testing_labels, num_classes=46)"
      ],
      "metadata": {
        "id": "JlAuQlM5Ijpg"
      },
      "execution_count": 47,
      "outputs": []
    },
    {
      "cell_type": "markdown",
      "metadata": {
        "id": "qf2H-OHKQrGN"
      },
      "source": [
        "#### **- Creando la topología de Red Neuronal (MLP) y entrenándola**"
      ]
    },
    {
      "cell_type": "code",
      "metadata": {
        "id": "QSR1GEq0_Ebm"
      },
      "source": [
        "# Importamos modulos necesarios para programar la red\n",
        "from tensorflow.keras.models import Sequential\n",
        "from tensorflow.keras.layers import Dense, Flatten\n",
        "\n",
        "# Codificamos la arquitectura de nuestra primera red neuronal!\n",
        "model = Sequential()\n",
        "model.add(Dense(128, input_shape=(WORD_LIMIT,), activation=\"relu\"))\n",
        "model.add(Dense(64, activation=\"relu\"))\n",
        "model.add(Dense(46, activation=\"softmax\"))"
      ],
      "execution_count": 45,
      "outputs": []
    },
    {
      "cell_type": "code",
      "metadata": {
        "id": "POnCbSEzCI7o"
      },
      "source": [
        "# Ahora que tengo definida la arquitectura, la compilo\n",
        "model.compile(optimizer=\"adam\", loss=\"categorical_crossentropy\", metrics=[\"accuracy\"])"
      ],
      "execution_count": 46,
      "outputs": []
    },
    {
      "cell_type": "code",
      "metadata": {
        "id": "VZBvK2HjDCaZ",
        "colab": {
          "base_uri": "https://localhost:8080/"
        },
        "outputId": "7d2fe981-c596-4a6a-8924-731da44a1bc9"
      },
      "source": [
        "# A entrenar nuestra red neuronal sea dicho!\n",
        "H = model.fit(x_train, y_train_oht, epochs=20, batch_size=32, validation_split=0.1)"
      ],
      "execution_count": 48,
      "outputs": [
        {
          "output_type": "stream",
          "name": "stdout",
          "text": [
            "Epoch 1/20\n",
            "253/253 [==============================] - 3s 6ms/step - loss: 1.4474 - accuracy: 0.6928 - val_loss: 1.0377 - val_accuracy: 0.7697\n",
            "Epoch 2/20\n",
            "253/253 [==============================] - 1s 6ms/step - loss: 0.5398 - accuracy: 0.8830 - val_loss: 0.9809 - val_accuracy: 0.7976\n",
            "Epoch 3/20\n",
            "253/253 [==============================] - 1s 5ms/step - loss: 0.2743 - accuracy: 0.9428 - val_loss: 0.9463 - val_accuracy: 0.7953\n",
            "Epoch 4/20\n",
            "253/253 [==============================] - 1s 5ms/step - loss: 0.2028 - accuracy: 0.9500 - val_loss: 0.9567 - val_accuracy: 0.8087\n",
            "Epoch 5/20\n",
            "253/253 [==============================] - 1s 4ms/step - loss: 0.1637 - accuracy: 0.9543 - val_loss: 1.0808 - val_accuracy: 0.7798\n",
            "Epoch 6/20\n",
            "253/253 [==============================] - 1s 4ms/step - loss: 0.1436 - accuracy: 0.9567 - val_loss: 1.1558 - val_accuracy: 0.7842\n",
            "Epoch 7/20\n",
            "253/253 [==============================] - 1s 4ms/step - loss: 0.1336 - accuracy: 0.9566 - val_loss: 1.0572 - val_accuracy: 0.7987\n",
            "Epoch 8/20\n",
            "253/253 [==============================] - 1s 4ms/step - loss: 0.1260 - accuracy: 0.9565 - val_loss: 1.0904 - val_accuracy: 0.7909\n",
            "Epoch 9/20\n",
            "253/253 [==============================] - 1s 4ms/step - loss: 0.1209 - accuracy: 0.9552 - val_loss: 1.0963 - val_accuracy: 0.7953\n",
            "Epoch 10/20\n",
            "253/253 [==============================] - 1s 4ms/step - loss: 0.1075 - accuracy: 0.9566 - val_loss: 1.1977 - val_accuracy: 0.7898\n",
            "Epoch 11/20\n",
            "253/253 [==============================] - 1s 4ms/step - loss: 0.1057 - accuracy: 0.9561 - val_loss: 1.2011 - val_accuracy: 0.7909\n",
            "Epoch 12/20\n",
            "253/253 [==============================] - 1s 6ms/step - loss: 0.0991 - accuracy: 0.9603 - val_loss: 1.2103 - val_accuracy: 0.7942\n",
            "Epoch 13/20\n",
            "253/253 [==============================] - 1s 6ms/step - loss: 0.0994 - accuracy: 0.9578 - val_loss: 1.2073 - val_accuracy: 0.7853\n",
            "Epoch 14/20\n",
            "253/253 [==============================] - 1s 5ms/step - loss: 0.0907 - accuracy: 0.9603 - val_loss: 1.2175 - val_accuracy: 0.7942\n",
            "Epoch 15/20\n",
            "253/253 [==============================] - 1s 4ms/step - loss: 0.0871 - accuracy: 0.9568 - val_loss: 1.2545 - val_accuracy: 0.7976\n",
            "Epoch 16/20\n",
            "253/253 [==============================] - 1s 5ms/step - loss: 0.0877 - accuracy: 0.9586 - val_loss: 1.2404 - val_accuracy: 0.7875\n",
            "Epoch 17/20\n",
            "253/253 [==============================] - 1s 5ms/step - loss: 0.0835 - accuracy: 0.9569 - val_loss: 1.3192 - val_accuracy: 0.7820\n",
            "Epoch 18/20\n",
            "253/253 [==============================] - 1s 4ms/step - loss: 0.0814 - accuracy: 0.9597 - val_loss: 1.3648 - val_accuracy: 0.7909\n",
            "Epoch 19/20\n",
            "253/253 [==============================] - 1s 4ms/step - loss: 0.0804 - accuracy: 0.9597 - val_loss: 1.4047 - val_accuracy: 0.7820\n",
            "Epoch 20/20\n",
            "253/253 [==============================] - 1s 4ms/step - loss: 0.0746 - accuracy: 0.9594 - val_loss: 1.3869 - val_accuracy: 0.7864\n"
          ]
        }
      ]
    },
    {
      "cell_type": "markdown",
      "metadata": {
        "id": "0WZi4xSxQwGR"
      },
      "source": [
        "#### **- Observando el proceso de entrenamiento para tomar decisiones**"
      ]
    },
    {
      "cell_type": "code",
      "metadata": {
        "id": "0dlv_bkZDVJ7",
        "colab": {
          "base_uri": "https://localhost:8080/",
          "height": 494
        },
        "outputId": "28235951-74b4-44e1-b1f1-93616846e5ab"
      },
      "source": [
        "# Muestro gráfica de accuracy y losses\n",
        "plt.style.use(\"ggplot\")\n",
        "plt.figure()\n",
        "plt.plot(np.arange(0, 20), H.history[\"loss\"], label=\"train_loss\")\n",
        "plt.plot(np.arange(0, 20), H.history[\"val_loss\"], label=\"val_loss\")\n",
        "plt.plot(np.arange(0, 20), H.history[\"accuracy\"], label=\"accuracy\")\n",
        "plt.plot(np.arange(0, 20), H.history[\"val_accuracy\"], label=\"val_accuracy\")\n",
        "plt.title(\"Learning curve\")\n",
        "plt.xlabel(\"Epoch Number\")\n",
        "plt.ylabel(\"Loss/Accuracy\")\n",
        "plt.legend()"
      ],
      "execution_count": 50,
      "outputs": [
        {
          "output_type": "execute_result",
          "data": {
            "text/plain": [
              "<matplotlib.legend.Legend at 0x7f4f4a038130>"
            ]
          },
          "metadata": {},
          "execution_count": 50
        },
        {
          "output_type": "display_data",
          "data": {
            "text/plain": [
              "<Figure size 640x480 with 1 Axes>"
            ],
            "image/png": "[encoded data removed]"
          },
          "metadata": {}
        }
      ]
    },
    {
      "cell_type": "markdown",
      "metadata": {
        "id": "c51cfGAQQ2cR"
      },
      "source": [
        "#### **- Probando el conjunto de datos en el subset de test y evaluando el performance del modelo**"
      ]
    },
    {
      "cell_type": "code",
      "metadata": {
        "id": "xVS5SAU5DlHP",
        "colab": {
          "base_uri": "https://localhost:8080/"
        },
        "outputId": "19096ac4-465a-4f8c-c4b8-c4274e2c69c6"
      },
      "source": [
        "# Evaluando el modelo de predicción con las imágenes de test\n",
        "from sklearn.metrics import classification_report\n",
        "# Evaluando el modelo de predicción con las imágenes de test\n",
        "print(\"[INFO]: Evaluando red neuronal...\")\n",
        "loss, accuracy = model.evaluate(x_test, y_test_oht, batch_size=64)\n",
        "# Print network summary\n",
        "print(model.summary())\n"
      ],
      "execution_count": 57,
      "outputs": [
        {
          "output_type": "stream",
          "name": "stdout",
          "text": [
            "[INFO]: Evaluando red neuronal...\n",
            "36/36 [==============================] - 0s 5ms/step - loss: 1.2807 - accuracy: 0.7961\n",
            "Model: \"sequential_4\"\n",
            "_________________________________________________________________\n",
            " Layer (type)                Output Shape              Param #   \n",
            "=================================================================\n",
            " dense_8 (Dense)             (None, 128)               1280128   \n",
            "                                                                 \n",
            " dense_9 (Dense)             (None, 64)                8256      \n",
            "                                                                 \n",
            " dense_10 (Dense)            (None, 46)                2990      \n",
            "                                                                 \n",
            "=================================================================\n",
            "Total params: 1291374 (4.93 MB)\n",
            "Trainable params: 1291374 (4.93 MB)\n",
            "Non-trainable params: 0 (0.00 Byte)\n",
            "_________________________________________________________________\n",
            "None\n"
          ]
        }
      ]
    },
    {
      "cell_type": "markdown",
      "metadata": {
        "id": "s8kmri-kUYgx"
      },
      "source": [
        "## **REGULARIZACIÓN EN APRENDIZAJE PROFUNDO**"
      ]
    },
    {
      "cell_type": "markdown",
      "metadata": {
        "id": "aqDYEumsUuNU"
      },
      "source": [
        "#### **- Weight regularization L1/L2**"
      ]
    },
    {
      "cell_type": "code",
      "metadata": {
        "id": "BF2YYooRUNph"
      },
      "source": [
        "# Vamos a codificar la topología de nuestro MLP\n",
        "# Importamos modulos necesarios para programar la red\n",
        "from tensorflow.keras.models import Sequential\n",
        "from tensorflow.keras.layers import Dense, Flatten\n",
        "from tensorflow.keras import regularizers\n",
        "\n",
        "# Codificamos la arquitectura de nuestra primera red neuronal!\n",
        "model = Sequential()\n",
        "model.add(Dense(128, input_shape=(WORD_LIMIT,), activation=\"relu\", kernel_regularizer=regularizers.l2(0.001)))\n",
        "model.add(Dense(64, activation=\"relu\", kernel_regularizer=regularizers.l2(0.001) ))\n",
        "model.add(Dense(46, activation=\"softmax\"))"
      ],
      "execution_count": 66,
      "outputs": []
    },
    {
      "cell_type": "code",
      "metadata": {
        "id": "KYeK7jwxVSF3"
      },
      "source": [
        "# Ahora que tengo definida la arquitectura, la compilo\n",
        "model.compile(optimizer=\"adam\", loss=\"categorical_crossentropy\", metrics=[\"accuracy\"])"
      ],
      "execution_count": 67,
      "outputs": []
    },
    {
      "cell_type": "code",
      "metadata": {
        "id": "gWE7GTTmVdP0",
        "colab": {
          "base_uri": "https://localhost:8080/"
        },
        "outputId": "fea86ac9-1602-49c8-a701-d66c932785c6"
      },
      "source": [
        "# A entrenar nuestra red neuronal sea dicho!\n",
        "H = model.fit(x_train, y_train_oht, epochs=20, batch_size=32, validation_split=0.1)"
      ],
      "execution_count": 68,
      "outputs": [
        {
          "output_type": "stream",
          "name": "stdout",
          "text": [
            "Epoch 1/20\n",
            "253/253 [==============================] - 3s 6ms/step - loss: 1.6115 - accuracy: 0.6950 - val_loss: 1.2871 - val_accuracy: 0.7675\n",
            "Epoch 2/20\n",
            "253/253 [==============================] - 1s 5ms/step - loss: 0.9186 - accuracy: 0.8566 - val_loss: 1.2584 - val_accuracy: 0.7942\n",
            "Epoch 3/20\n",
            "253/253 [==============================] - 1s 4ms/step - loss: 0.7396 - accuracy: 0.9076 - val_loss: 1.2395 - val_accuracy: 0.7987\n",
            "Epoch 4/20\n",
            "253/253 [==============================] - 1s 4ms/step - loss: 0.6736 - accuracy: 0.9235 - val_loss: 1.2304 - val_accuracy: 0.8076\n",
            "Epoch 5/20\n",
            "253/253 [==============================] - 1s 4ms/step - loss: 0.6347 - accuracy: 0.9271 - val_loss: 1.2475 - val_accuracy: 0.7887\n",
            "Epoch 6/20\n",
            "253/253 [==============================] - 1s 5ms/step - loss: 0.6189 - accuracy: 0.9318 - val_loss: 1.2127 - val_accuracy: 0.8098\n",
            "Epoch 7/20\n",
            "253/253 [==============================] - 1s 4ms/step - loss: 0.6047 - accuracy: 0.9333 - val_loss: 1.3327 - val_accuracy: 0.7798\n",
            "Epoch 8/20\n",
            "253/253 [==============================] - 1s 4ms/step - loss: 0.5876 - accuracy: 0.9362 - val_loss: 1.2685 - val_accuracy: 0.7775\n",
            "Epoch 9/20\n",
            "253/253 [==============================] - 1s 4ms/step - loss: 0.5645 - accuracy: 0.9400 - val_loss: 1.2468 - val_accuracy: 0.7998\n",
            "Epoch 10/20\n",
            "253/253 [==============================] - 2s 6ms/step - loss: 0.5586 - accuracy: 0.9390 - val_loss: 1.2537 - val_accuracy: 0.7931\n",
            "Epoch 11/20\n",
            "253/253 [==============================] - 2s 6ms/step - loss: 0.5577 - accuracy: 0.9372 - val_loss: 1.2321 - val_accuracy: 0.8020\n",
            "Epoch 12/20\n",
            "253/253 [==============================] - 1s 5ms/step - loss: 0.5380 - accuracy: 0.9431 - val_loss: 1.2338 - val_accuracy: 0.7875\n",
            "Epoch 13/20\n",
            "253/253 [==============================] - 1s 4ms/step - loss: 0.5298 - accuracy: 0.9378 - val_loss: 1.3366 - val_accuracy: 0.7764\n",
            "Epoch 14/20\n",
            "253/253 [==============================] - 1s 5ms/step - loss: 0.5206 - accuracy: 0.9447 - val_loss: 1.2874 - val_accuracy: 0.7898\n",
            "Epoch 15/20\n",
            "253/253 [==============================] - 1s 4ms/step - loss: 0.5050 - accuracy: 0.9458 - val_loss: 1.3104 - val_accuracy: 0.7987\n",
            "Epoch 16/20\n",
            "253/253 [==============================] - 1s 5ms/step - loss: 0.5043 - accuracy: 0.9435 - val_loss: 1.2361 - val_accuracy: 0.7864\n",
            "Epoch 17/20\n",
            "253/253 [==============================] - 1s 4ms/step - loss: 0.5021 - accuracy: 0.9437 - val_loss: 1.2709 - val_accuracy: 0.7920\n",
            "Epoch 18/20\n",
            "253/253 [==============================] - 1s 4ms/step - loss: 0.4951 - accuracy: 0.9428 - val_loss: 1.3090 - val_accuracy: 0.7742\n",
            "Epoch 19/20\n",
            "253/253 [==============================] - 1s 4ms/step - loss: 0.4822 - accuracy: 0.9452 - val_loss: 1.2980 - val_accuracy: 0.7809\n",
            "Epoch 20/20\n",
            "253/253 [==============================] - 1s 5ms/step - loss: 0.4790 - accuracy: 0.9459 - val_loss: 1.3433 - val_accuracy: 0.7853\n"
          ]
        }
      ]
    },
    {
      "cell_type": "code",
      "metadata": {
        "id": "iJvo8YVvVowt",
        "colab": {
          "base_uri": "https://localhost:8080/",
          "height": 494
        },
        "outputId": "0f0c4e18-8fab-4798-fa0b-bbb2848bfa88"
      },
      "source": [
        "# Muestro gráfica de accuracy y losses\n",
        "plt.style.use(\"ggplot\")\n",
        "plt.figure()\n",
        "plt.plot(np.arange(0, 20), H.history[\"loss\"], label=\"train_loss\")\n",
        "plt.plot(np.arange(0, 20), H.history[\"val_loss\"], label=\"val_loss\")\n",
        "plt.plot(np.arange(0, 20), H.history[\"accuracy\"], label=\"accuracy\")\n",
        "plt.plot(np.arange(0, 20), H.history[\"val_accuracy\"], label=\"val_accuracy\")\n",
        "plt.title(\"Learning curve\")\n",
        "plt.xlabel(\"Epoch Number\")\n",
        "plt.ylabel(\"Loss/Accuracy\")\n",
        "plt.legend()"
      ],
      "execution_count": 69,
      "outputs": [
        {
          "output_type": "execute_result",
          "data": {
            "text/plain": [
              "<matplotlib.legend.Legend at 0x7f4f96323070>"
            ]
          },
          "metadata": {},
          "execution_count": 69
        },
        {
          "output_type": "display_data",
          "data": {
            "text/plain": [
              "<Figure size 640x480 with 1 Axes>"
            ],
            "image/png": "[encoded data removed]"
          },
          "metadata": {}
        }
      ]
    },
    {
      "cell_type": "code",
      "metadata": {
        "id": "h_68GciZWEml",
        "colab": {
          "base_uri": "https://localhost:8080/"
        },
        "outputId": "980fbb48-8a08-4387-9d1e-920de440491a"
      },
      "source": [
        "from sklearn.metrics import classification_report\n",
        "# Evaluando el modelo de predicción con las imágenes de test\n",
        "print(\"[INFO]: Evaluando red neuronal...\")\n",
        "loss, accuracy = model.evaluate(x_test, y_test_oht, batch_size=64)\n",
        "# Print network summary\n",
        "print(model.summary())\n"
      ],
      "execution_count": 65,
      "outputs": [
        {
          "output_type": "stream",
          "name": "stdout",
          "text": [
            "[INFO]: Evaluando red neuronal...\n",
            "36/36 [==============================] - 0s 5ms/step - loss: 1.4346 - accuracy: 0.7667\n",
            "Model: \"sequential_7\"\n",
            "_________________________________________________________________\n",
            " Layer (type)                Output Shape              Param #   \n",
            "=================================================================\n",
            " dense_14 (Dense)            (None, 128)               1280128   \n",
            "                                                                 \n",
            " dense_15 (Dense)            (None, 64)                8256      \n",
            "                                                                 \n",
            " dense_16 (Dense)            (None, 46)                2990      \n",
            "                                                                 \n",
            "=================================================================\n",
            "Total params: 1291374 (4.93 MB)\n",
            "Trainable params: 1291374 (4.93 MB)\n",
            "Non-trainable params: 0 (0.00 Byte)\n",
            "_________________________________________________________________\n",
            "None\n"
          ]
        }
      ]
    },
    {
      "cell_type": "markdown",
      "metadata": {
        "id": "FKflRMxEWQ3Z"
      },
      "source": [
        "#### **- Dropout**"
      ]
    },
    {
      "cell_type": "code",
      "metadata": {
        "id": "iRcnwjCCWVcW"
      },
      "source": [
        "# Vamos a codificar la topología de nuestro MLP\n"
      ],
      "execution_count": null,
      "outputs": []
    },
    {
      "cell_type": "code",
      "metadata": {
        "id": "6K_X-SnoWnqL"
      },
      "source": [
        "# Ahora que tengo definida la arquitectura, la compilo\n"
      ],
      "execution_count": null,
      "outputs": []
    },
    {
      "cell_type": "code",
      "metadata": {
        "id": "5GSMILsYWsT8"
      },
      "source": [
        "# A entrenar nuestra red neuronal sea dicho!\n"
      ],
      "execution_count": null,
      "outputs": []
    },
    {
      "cell_type": "code",
      "metadata": {
        "id": "ACSQkFMtW2Eg"
      },
      "source": [
        "# Muestro gráfica de accuracy y losses\n"
      ],
      "execution_count": null,
      "outputs": []
    },
    {
      "cell_type": "code",
      "metadata": {
        "id": "KzK4LsLmW2es"
      },
      "source": [
        "# Evaluando el modelo de predicción con las imágenes de test\n"
      ],
      "execution_count": null,
      "outputs": []
    },
    {
      "cell_type": "markdown",
      "metadata": {
        "id": "6iixwidpaJSH"
      },
      "source": [
        "#### **- Batch Normalization**"
      ]
    },
    {
      "cell_type": "code",
      "metadata": {
        "id": "kX7JV1leaJrj"
      },
      "source": [
        "# Vamos a codificar la topología de nuestro MLP\n"
      ],
      "execution_count": null,
      "outputs": []
    },
    {
      "cell_type": "code",
      "metadata": {
        "id": "iEW9qiRzbtpk"
      },
      "source": [
        "# Ahora que tengo definida la arquitectura, la compilo\n"
      ],
      "execution_count": null,
      "outputs": []
    },
    {
      "cell_type": "code",
      "metadata": {
        "id": "Ey72ZUlJbwPK"
      },
      "source": [
        "# A entrenar nuestra red neuronal sea dicho!\n"
      ],
      "execution_count": null,
      "outputs": []
    },
    {
      "cell_type": "code",
      "metadata": {
        "id": "WE6c1PHIbybn"
      },
      "source": [
        "# Muestro gráfica de accuracy y losses\n"
      ],
      "execution_count": null,
      "outputs": []
    },
    {
      "cell_type": "code",
      "metadata": {
        "id": "7AY7mJ3mb1C1"
      },
      "source": [
        "# Evaluando el modelo de predicción con las imágenes de test\n"
      ],
      "execution_count": null,
      "outputs": []
    }
  ]
}